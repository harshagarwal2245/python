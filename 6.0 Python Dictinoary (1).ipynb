{
 "cells": [
  {
   "cell_type": "markdown",
   "id": "b1f79949",
   "metadata": {},
   "source": [
    " Dictinoary:\n",
    "    1.It is used to mapping the data in the key values pair.\n",
    "    2.{}\n",
    "    3.Key : values\n",
    "    4.Ordered\n",
    "    5.Duplicate values are alloewd only for the values not key.\n",
    "    5.Allowed heterogenous elements.(mixed data type like int,folat,complex,list etc)"
   ]
  },
  {
   "cell_type": "markdown",
   "id": "e1fa15c4",
   "metadata": {},
   "source": [
    "### 1.Empty Dict"
   ]
  },
  {
   "cell_type": "code",
   "execution_count": 1,
   "id": "f110119d",
   "metadata": {},
   "outputs": [
    {
     "name": "stdout",
     "output_type": "stream",
     "text": [
      "<class 'dict'>\n"
     ]
    }
   ],
   "source": [
    "a={}\n",
    "print(type(a))"
   ]
  },
  {
   "cell_type": "code",
   "execution_count": 18,
   "id": "79556cfd",
   "metadata": {},
   "outputs": [
    {
     "name": "stdout",
     "output_type": "stream",
     "text": [
      "<class 'dict'>\n"
     ]
    }
   ],
   "source": [
    "b=dict()\n",
    "print(type(b))"
   ]
  },
  {
   "cell_type": "markdown",
   "id": "7e6bd18c",
   "metadata": {},
   "source": [
    "### 2.How to create dict."
   ]
  },
  {
   "cell_type": "code",
   "execution_count": 6,
   "id": "6cfe6ed7",
   "metadata": {},
   "outputs": [
    {
     "name": "stdout",
     "output_type": "stream",
     "text": [
      "Dict.of student: {'Name': 'John', 'Age': 20, 'Marks': 90, 'Address': 'XYZ'}\n"
     ]
    }
   ],
   "source": [
    "students={'Name':'John','Age':20,'Marks':90,'Address':'XYZ'}\n",
    "print('Dict.of student:',students)"
   ]
  },
  {
   "cell_type": "code",
   "execution_count": 7,
   "id": "7f631f43",
   "metadata": {},
   "outputs": [
    {
     "name": "stdout",
     "output_type": "stream",
     "text": [
      "Dict.of student: {'Name': 'John', 'Age': 20, 'Marks': 20, 'Address': 'XYZ'}\n"
     ]
    }
   ],
   "source": [
    "students={'Name':'John','Age':20,'Marks':20,'Address':'XYZ'}\n",
    "print('Dict.of student:',students)"
   ]
  },
  {
   "cell_type": "code",
   "execution_count": 9,
   "id": "cb9bab6d",
   "metadata": {},
   "outputs": [
    {
     "name": "stdout",
     "output_type": "stream",
     "text": [
      "Hetergenous numbers: {'Name': 'ABC', 'int_no': 3, 'Complex_no': (1+2j), 'list': [12, 13, 14]}\n"
     ]
    }
   ],
   "source": [
    "Number={'Name':'ABC','int_no':3,'Complex_no':1+2j,'list':[12,13,14]}\n",
    "print('Hetergenous numbers:',Number)"
   ]
  },
  {
   "cell_type": "code",
   "execution_count": null,
   "id": "2d21e97f",
   "metadata": {},
   "outputs": [],
   "source": []
  },
  {
   "cell_type": "markdown",
   "id": "fa5e6112",
   "metadata": {},
   "source": [
    "dict()  It is constructor used to create the dict."
   ]
  },
  {
   "cell_type": "code",
   "execution_count": 17,
   "id": "4a30fc27",
   "metadata": {},
   "outputs": [
    {
     "name": "stdout",
     "output_type": "stream",
     "text": [
      "{'Name': 'John', 'Age': 30}\n",
      "<class 'dict'>\n"
     ]
    }
   ],
   "source": [
    "players=dict(Name='John',Age=30)\n",
    "print(players)\n",
    "print(type(players))"
   ]
  },
  {
   "cell_type": "markdown",
   "id": "9a073712",
   "metadata": {},
   "source": [
    "### Function/Methods of dict."
   ]
  },
  {
   "cell_type": "markdown",
   "id": "1019d6ba",
   "metadata": {},
   "source": [
    "### 1.Len()   Count the length of dict."
   ]
  },
  {
   "cell_type": "code",
   "execution_count": 21,
   "id": "f6051dd0",
   "metadata": {},
   "outputs": [
    {
     "name": "stdout",
     "output_type": "stream",
     "text": [
      "Dict.of student: {'Name': 'John', 'Age': 20, 'Marks': 90, 'Address': 'XYZ'}\n",
      "4\n"
     ]
    }
   ],
   "source": [
    "students={'Name':'John','Age':20,'Marks':90,'Address':'XYZ'}\n",
    "print('Dict.of student:',students)\n",
    "print(len(students))"
   ]
  },
  {
   "cell_type": "markdown",
   "id": "b3933d72",
   "metadata": {},
   "source": [
    "### 2.Keys() Used to return the keys."
   ]
  },
  {
   "cell_type": "code",
   "execution_count": 22,
   "id": "a41ae42b",
   "metadata": {},
   "outputs": [
    {
     "data": {
      "text/plain": [
       "dict_keys(['Name', 'Age', 'Marks', 'Address'])"
      ]
     },
     "execution_count": 22,
     "metadata": {},
     "output_type": "execute_result"
    }
   ],
   "source": [
    "students.keys()"
   ]
  },
  {
   "cell_type": "markdown",
   "id": "157253b3",
   "metadata": {},
   "source": [
    "### 3.Values() Used to return the values."
   ]
  },
  {
   "cell_type": "code",
   "execution_count": 23,
   "id": "1b6f7464",
   "metadata": {},
   "outputs": [
    {
     "data": {
      "text/plain": [
       "dict_values(['John', 20, 90, 'XYZ'])"
      ]
     },
     "execution_count": 23,
     "metadata": {},
     "output_type": "execute_result"
    }
   ],
   "source": [
    "students.values()"
   ]
  },
  {
   "cell_type": "markdown",
   "id": "3414e5c9",
   "metadata": {},
   "source": [
    "### 4.Items "
   ]
  },
  {
   "cell_type": "code",
   "execution_count": 24,
   "id": "6967f03d",
   "metadata": {},
   "outputs": [
    {
     "data": {
      "text/plain": [
       "dict_items([('Name', 'John'), ('Age', 20), ('Marks', 90), ('Address', 'XYZ')])"
      ]
     },
     "execution_count": 24,
     "metadata": {},
     "output_type": "execute_result"
    }
   ],
   "source": [
    "students.items()"
   ]
  },
  {
   "cell_type": "markdown",
   "id": "75b9d38b",
   "metadata": {},
   "source": [
    "### 5.Get ()"
   ]
  },
  {
   "cell_type": "code",
   "execution_count": 27,
   "id": "4e218d40",
   "metadata": {},
   "outputs": [
    {
     "data": {
      "text/plain": [
       "20"
      ]
     },
     "execution_count": 27,
     "metadata": {},
     "output_type": "execute_result"
    }
   ],
   "source": [
    "students.get('Age')"
   ]
  },
  {
   "cell_type": "code",
   "execution_count": 28,
   "id": "67edc4e6",
   "metadata": {},
   "outputs": [
    {
     "ename": "TypeError",
     "evalue": "get expected at least 1 argument, got 0",
     "output_type": "error",
     "traceback": [
      "\u001b[1;31m---------------------------------------------------------------------------\u001b[0m",
      "\u001b[1;31mTypeError\u001b[0m                                 Traceback (most recent call last)",
      "Cell \u001b[1;32mIn[28], line 1\u001b[0m\n\u001b[1;32m----> 1\u001b[0m \u001b[43mstudents\u001b[49m\u001b[38;5;241;43m.\u001b[39;49m\u001b[43mget\u001b[49m\u001b[43m(\u001b[49m\u001b[43m)\u001b[49m\n",
      "\u001b[1;31mTypeError\u001b[0m: get expected at least 1 argument, got 0"
     ]
    }
   ],
   "source": [
    "students.get()"
   ]
  },
  {
   "cell_type": "code",
   "execution_count": null,
   "id": "7344c7b3",
   "metadata": {},
   "outputs": [],
   "source": []
  },
  {
   "cell_type": "code",
   "execution_count": 1,
   "id": "c52dfca3",
   "metadata": {},
   "outputs": [],
   "source": [
    "team={'CSK':'MSD','RCB':'Virat','MI':'Rohit'}"
   ]
  },
  {
   "cell_type": "code",
   "execution_count": 2,
   "id": "3623379b",
   "metadata": {},
   "outputs": [
    {
     "data": {
      "text/plain": [
       "{'CSK': 'MSD', 'RCB': 'Virat', 'MI': 'Rohit'}"
      ]
     },
     "execution_count": 2,
     "metadata": {},
     "output_type": "execute_result"
    }
   ],
   "source": [
    "team"
   ]
  },
  {
   "cell_type": "code",
   "execution_count": null,
   "id": "7cb278a1",
   "metadata": {},
   "outputs": [],
   "source": [
    "## How to add key and values into original dict."
   ]
  },
  {
   "cell_type": "code",
   "execution_count": 3,
   "id": "e7409241",
   "metadata": {},
   "outputs": [],
   "source": [
    "team['GT']='Hardik'"
   ]
  },
  {
   "cell_type": "code",
   "execution_count": 4,
   "id": "e73d66ba",
   "metadata": {},
   "outputs": [
    {
     "data": {
      "text/plain": [
       "{'CSK': 'MSD', 'RCB': 'Virat', 'MI': 'Rohit', 'GT': 'Hardik'}"
      ]
     },
     "execution_count": 4,
     "metadata": {},
     "output_type": "execute_result"
    }
   ],
   "source": [
    "team"
   ]
  },
  {
   "cell_type": "markdown",
   "id": "01dc1333",
   "metadata": {},
   "source": [
    "### 6.Pop()"
   ]
  },
  {
   "cell_type": "code",
   "execution_count": 6,
   "id": "374fc240",
   "metadata": {},
   "outputs": [
    {
     "data": {
      "text/plain": [
       "'Hardik'"
      ]
     },
     "execution_count": 6,
     "metadata": {},
     "output_type": "execute_result"
    }
   ],
   "source": [
    "team.pop('GT')"
   ]
  },
  {
   "cell_type": "code",
   "execution_count": 7,
   "id": "dafb54cd",
   "metadata": {},
   "outputs": [
    {
     "data": {
      "text/plain": [
       "{'CSK': 'MSD', 'RCB': 'Virat', 'MI': 'Rohit'}"
      ]
     },
     "execution_count": 7,
     "metadata": {},
     "output_type": "execute_result"
    }
   ],
   "source": [
    "team"
   ]
  },
  {
   "cell_type": "markdown",
   "id": "574847ca",
   "metadata": {},
   "source": [
    "### 7.Popitem()"
   ]
  },
  {
   "cell_type": "code",
   "execution_count": 8,
   "id": "4cb7d821",
   "metadata": {},
   "outputs": [
    {
     "data": {
      "text/plain": [
       "('MI', 'Rohit')"
      ]
     },
     "execution_count": 8,
     "metadata": {},
     "output_type": "execute_result"
    }
   ],
   "source": [
    "team.popitem()"
   ]
  },
  {
   "cell_type": "markdown",
   "id": "9ca96937",
   "metadata": {},
   "source": [
    "### 8.Update"
   ]
  },
  {
   "cell_type": "code",
   "execution_count": 16,
   "id": "293b1ce6",
   "metadata": {},
   "outputs": [
    {
     "name": "stdout",
     "output_type": "stream",
     "text": [
      "Original Dict.: {'CSK': 'MSD', 'RCB': 'Virat'}\n",
      "New dict: {'CSK': 'MSD', 'RCB': 'Virat', 'KKR': 'Nitish Rana'}\n"
     ]
    }
   ],
   "source": [
    "team={'CSK': 'MSD', 'RCB': 'Virat'}\n",
    "print('Original Dict.:',team)\n",
    "\n",
    "team1={'KKR':'Nitish Rana'}\n",
    "\n",
    "team.update(team1)\n",
    "\n",
    "print('New dict:',team)"
   ]
  },
  {
   "cell_type": "code",
   "execution_count": 20,
   "id": "68087c12",
   "metadata": {},
   "outputs": [
    {
     "name": "stdout",
     "output_type": "stream",
     "text": [
      "{'': ''}\n"
     ]
    },
    {
     "data": {
      "text/plain": [
       "dict"
      ]
     },
     "execution_count": 20,
     "metadata": {},
     "output_type": "execute_result"
    }
   ],
   "source": [
    "a={'':''}\n",
    "print(a)\n",
    "type(a)"
   ]
  },
  {
   "cell_type": "code",
   "execution_count": 21,
   "id": "f740357f",
   "metadata": {},
   "outputs": [
    {
     "name": "stdout",
     "output_type": "stream",
     "text": [
      "<class 'str'>\n"
     ]
    }
   ],
   "source": [
    "b=''\n",
    "print(type(b))"
   ]
  },
  {
   "cell_type": "code",
   "execution_count": null,
   "id": "5a0857e9",
   "metadata": {},
   "outputs": [],
   "source": []
  },
  {
   "cell_type": "markdown",
   "id": "aa9fa546",
   "metadata": {},
   "source": [
    "### 9.Copy()"
   ]
  },
  {
   "cell_type": "code",
   "execution_count": 26,
   "id": "f971a39f",
   "metadata": {},
   "outputs": [
    {
     "name": "stdout",
     "output_type": "stream",
     "text": [
      "oringinal dict {1: 1, 2: 4, 3: 9}\n",
      "copied dict: {1: 1, 2: 4, 3: 9}\n"
     ]
    }
   ],
   "source": [
    "squares={1:1,2:4,3:9}\n",
    "print('oringinal dict',squares)\n",
    "b=squares.copy()\n",
    "print('copied dict:',b)"
   ]
  },
  {
   "cell_type": "markdown",
   "id": "4997e693",
   "metadata": {},
   "source": [
    "### 10.Clear"
   ]
  },
  {
   "cell_type": "code",
   "execution_count": 28,
   "id": "228cdd35",
   "metadata": {},
   "outputs": [
    {
     "data": {
      "text/plain": [
       "{}"
      ]
     },
     "execution_count": 28,
     "metadata": {},
     "output_type": "execute_result"
    }
   ],
   "source": [
    "square_data={1:1,2:4,3:9}\n",
    "square_data.clear()\n",
    "square_data"
   ]
  },
  {
   "cell_type": "markdown",
   "id": "30d8bd30",
   "metadata": {},
   "source": [
    "### 11.Fromkeys"
   ]
  },
  {
   "cell_type": "markdown",
   "id": "c7f19b91",
   "metadata": {},
   "source": [
    "##### The fromkeys() method creates a new dictionary from the given sequence of elements with a value provided by the user."
   ]
  },
  {
   "cell_type": "markdown",
   "id": "f545a7f0",
   "metadata": {},
   "source": [
    "fromkeys() Parameters :\n",
    "\n",
    "sequence - sequence of elements which is to be used as keys for the new dictionary value (Optional) - value which is set to each each element of the dictionary"
   ]
  },
  {
   "cell_type": "code",
   "execution_count": 32,
   "id": "64e977f9",
   "metadata": {},
   "outputs": [
    {
     "name": "stdout",
     "output_type": "stream",
     "text": [
      "{'c': None, 'a': None, 'b': None}\n"
     ]
    }
   ],
   "source": [
    "key={'a','b','c'}\n",
    "values=dict.fromkeys(key)\n",
    "print(values)"
   ]
  },
  {
   "cell_type": "code",
   "execution_count": 40,
   "id": "9022c8e2",
   "metadata": {},
   "outputs": [
    {
     "name": "stdout",
     "output_type": "stream",
     "text": [
      "{'e', 'u', 'a', 'o', 'i'}\n",
      "<class 'set'>\n",
      "{'e': None, 'u': None, 'a': None, 'o': None, 'i': None}\n",
      "{'e': None, 'u': None, 'a': None, 'o': None, 'i': None}\n"
     ]
    }
   ],
   "source": [
    "keys={'a','e','i','o','u'}\n",
    "print(keys)\n",
    "print(type(keys))\n",
    "\n",
    "vowels=dict.fromkeys(keys)\n",
    "print(vowels)\n",
    "print(vowels)"
   ]
  },
  {
   "cell_type": "code",
   "execution_count": 41,
   "id": "255cbb11",
   "metadata": {},
   "outputs": [
    {
     "data": {
      "text/plain": [
       "{'e': 'vowels', 'u': 'vowels', 'a': 'vowels', 'o': 'vowels', 'i': 'vowels'}"
      ]
     },
     "execution_count": 41,
     "metadata": {},
     "output_type": "execute_result"
    }
   ],
   "source": [
    "keys={'a','e','i','o','u'}\n",
    "value='vowels'\n",
    "\n",
    "vowels=dict.fromkeys(keys,value)\n",
    "vowels"
   ]
  },
  {
   "cell_type": "code",
   "execution_count": null,
   "id": "0d849a8a",
   "metadata": {},
   "outputs": [],
   "source": []
  }
 ],
 "metadata": {
  "kernelspec": {
   "display_name": "Python 3 (ipykernel)",
   "language": "python",
   "name": "python3"
  },
  "language_info": {
   "codemirror_mode": {
    "name": "ipython",
    "version": 3
   },
   "file_extension": ".py",
   "mimetype": "text/x-python",
   "name": "python",
   "nbconvert_exporter": "python",
   "pygments_lexer": "ipython3",
   "version": "3.10.9"
  }
 },
 "nbformat": 4,
 "nbformat_minor": 5
}
