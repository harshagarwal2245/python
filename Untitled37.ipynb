{
  "nbformat": 4,
  "nbformat_minor": 0,
  "metadata": {
    "colab": {
      "provenance": []
    },
    "kernelspec": {
      "name": "python3",
      "display_name": "Python 3"
    },
    "language_info": {
      "name": "python"
    }
  },
  "cells": [
    {
      "cell_type": "markdown",
      "source": [
        "q1"
      ],
      "metadata": {
        "id": "5lunGSFyuZlT"
      }
    },
    {
      "cell_type": "code",
      "execution_count": 4,
      "metadata": {
        "colab": {
          "base_uri": "https://localhost:8080/"
        },
        "id": "mNy54GmIr9Ag",
        "outputId": "680b3189-f615-4300-a2c0-168956e0994c"
      },
      "outputs": [
        {
          "output_type": "stream",
          "name": "stdout",
          "text": [
            "[8, 9, 0, 7, 6, 6, 9, 0, 8, 7, 6, 5]\n"
          ]
        }
      ],
      "source": [
        "a=[8,9,0,7,6]\n",
        "b=[6,9,0,8,7,6,5]\n",
        "c=a+b\n",
        "print(c)"
      ]
    },
    {
      "cell_type": "markdown",
      "source": [
        "q2"
      ],
      "metadata": {
        "id": "QoQfsSuNubqv"
      }
    },
    {
      "cell_type": "code",
      "source": [
        "d=[6,9,8,7,76,7,4]\n",
        "print(d*3)"
      ],
      "metadata": {
        "colab": {
          "base_uri": "https://localhost:8080/"
        },
        "id": "xxnwhft8uc_S",
        "outputId": "5cb0e097-73d8-473a-8526-8d4bfb831ce5"
      },
      "execution_count": 6,
      "outputs": [
        {
          "output_type": "stream",
          "name": "stdout",
          "text": [
            "[6, 9, 8, 7, 76, 7, 4, 6, 9, 8, 7, 76, 7, 4, 6, 9, 8, 7, 76, 7, 4]\n"
          ]
        }
      ]
    },
    {
      "cell_type": "markdown",
      "source": [
        "q3"
      ],
      "metadata": {
        "id": "tggH3ZL2wezr"
      }
    },
    {
      "cell_type": "code",
      "source": [
        "a=[9,8,7,6,5,4,167,986,678,987,56]\n",
        "max(a)"
      ],
      "metadata": {
        "colab": {
          "base_uri": "https://localhost:8080/"
        },
        "id": "nmX-_hsGwkEW",
        "outputId": "a2c5ebf1-4201-450e-d946-bd7e914dc3dc"
      },
      "execution_count": 8,
      "outputs": [
        {
          "output_type": "execute_result",
          "data": {
            "text/plain": [
              "987"
            ]
          },
          "metadata": {},
          "execution_count": 8
        }
      ]
    },
    {
      "cell_type": "markdown",
      "source": [
        "q4"
      ],
      "metadata": {
        "id": "VkfAXx57w8j2"
      }
    },
    {
      "cell_type": "code",
      "source": [
        "a=[9,8,7,6,5,4,167,986,678,987,56]\n",
        "min(a)"
      ],
      "metadata": {
        "colab": {
          "base_uri": "https://localhost:8080/"
        },
        "id": "GFmJ6S_Uw-O2",
        "outputId": "c750f68d-ca92-48fe-a773-5ccd89539fc2"
      },
      "execution_count": 9,
      "outputs": [
        {
          "output_type": "execute_result",
          "data": {
            "text/plain": [
              "4"
            ]
          },
          "metadata": {},
          "execution_count": 9
        }
      ]
    },
    {
      "cell_type": "markdown",
      "source": [
        "q5"
      ],
      "metadata": {
        "id": "jU7dIddKxGFH"
      }
    },
    {
      "cell_type": "code",
      "source": [
        "a=['hello','hoh','non','lol']\n",
        "c = 0\n",
        "for i in a:\n",
        "  if (i[0]==i[-1]):\n",
        "   c+=1\n",
        "print(c)    \n",
        "\n",
        " \n"
      ],
      "metadata": {
        "colab": {
          "base_uri": "https://localhost:8080/"
        },
        "id": "KmIlZ7PdxH0Y",
        "outputId": "b4f56ed2-13d1-4679-d7bd-0bbe083dcfe1"
      },
      "execution_count": 27,
      "outputs": [
        {
          "output_type": "stream",
          "name": "stdout",
          "text": [
            "3\n"
          ]
        }
      ]
    },
    {
      "cell_type": "markdown",
      "source": [
        "q6"
      ],
      "metadata": {
        "id": "FHMuEF6bz0Or"
      }
    },
    {
      "cell_type": "code",
      "source": [
        "d=[(2,1),(3,4),(5,1),(7,9),(1,0)]\n",
        "print(d)\n"
      ],
      "metadata": {
        "colab": {
          "base_uri": "https://localhost:8080/"
        },
        "id": "tu0YyAUsITLZ",
        "outputId": "14e430fe-a954-42de-e961-d0c9307ca530"
      },
      "execution_count": 37,
      "outputs": [
        {
          "output_type": "stream",
          "name": "stdout",
          "text": [
            "[(2, 1), (3, 4), (5, 1), (7, 9), (1, 0)]\n"
          ]
        }
      ]
    },
    {
      "cell_type": "code",
      "source": [
        "a=sorted(d,reverse=False)\n",
        "a"
      ],
      "metadata": {
        "colab": {
          "base_uri": "https://localhost:8080/"
        },
        "id": "Qd9PTU8DIWOk",
        "outputId": "2e9ec22b-bd9b-4b4e-dc3b-653438b2404d"
      },
      "execution_count": 39,
      "outputs": [
        {
          "output_type": "execute_result",
          "data": {
            "text/plain": [
              "[(1, 0), (2, 1), (3, 4), (5, 1), (7, 9)]"
            ]
          },
          "metadata": {},
          "execution_count": 39
        }
      ]
    },
    {
      "cell_type": "markdown",
      "source": [
        "Q7"
      ],
      "metadata": {
        "id": "bfBoV7S22hSN"
      }
    },
    {
      "cell_type": "code",
      "source": [
        "f=[2,3,4,5,7,6,5,4,3,2,1,3,5,6,5,4,3,2,3,56,7,6,5,4,3,2,1,6,7,8,8]\n",
        "print('orignal list',f)\n",
        "list(set(f))"
      ],
      "metadata": {
        "colab": {
          "base_uri": "https://localhost:8080/"
        },
        "id": "4eS-nSTt2eHY",
        "outputId": "7e257fa1-ce28-4c61-8bd2-f17159e00cf7"
      },
      "execution_count": 1,
      "outputs": [
        {
          "output_type": "stream",
          "name": "stdout",
          "text": [
            "orignal list [2, 3, 4, 5, 7, 6, 5, 4, 3, 2, 1, 3, 5, 6, 5, 4, 3, 2, 3, 56, 7, 6, 5, 4, 3, 2, 1, 6, 7, 8, 8]\n"
          ]
        },
        {
          "output_type": "execute_result",
          "data": {
            "text/plain": [
              "[1, 2, 3, 4, 5, 6, 7, 8, 56]"
            ]
          },
          "metadata": {},
          "execution_count": 1
        }
      ]
    },
    {
      "cell_type": "markdown",
      "source": [
        "q8"
      ],
      "metadata": {
        "id": "5w6qMq6F4RG3"
      }
    },
    {
      "cell_type": "code",
      "source": [
        "h=[]\n",
        "print(h)"
      ],
      "metadata": {
        "colab": {
          "base_uri": "https://localhost:8080/"
        },
        "id": "LAKqafd-4SbO",
        "outputId": "c0c8253e-d74c-4199-9a4a-328d26642f57"
      },
      "execution_count": 2,
      "outputs": [
        {
          "output_type": "stream",
          "name": "stdout",
          "text": [
            "[]\n"
          ]
        }
      ]
    },
    {
      "cell_type": "markdown",
      "source": [
        "q9"
      ],
      "metadata": {
        "id": "IwDXs6mQ4448"
      }
    },
    {
      "cell_type": "code",
      "source": [
        "g=[8,0,9,8,7,6,5]\n",
        "print('orignal list',g)\n",
        "c=g.copy()\n",
        "print('copied list',c)"
      ],
      "metadata": {
        "colab": {
          "base_uri": "https://localhost:8080/"
        },
        "id": "ElflZzl844Dh",
        "outputId": "81c7894a-feeb-476b-de6f-5fadb0656205"
      },
      "execution_count": 4,
      "outputs": [
        {
          "output_type": "stream",
          "name": "stdout",
          "text": [
            "orignal list [8, 0, 9, 8, 7, 6, 5]\n",
            "copied list [8, 0, 9, 8, 7, 6, 5]\n"
          ]
        }
      ]
    },
    {
      "cell_type": "markdown",
      "source": [
        "q10"
      ],
      "metadata": {
        "id": "7RIJQOnD54jq"
      }
    },
    {
      "cell_type": "code",
      "source": [],
      "metadata": {
        "id": "yK90fgxK55-R"
      },
      "execution_count": null,
      "outputs": []
    },
    {
      "cell_type": "markdown",
      "source": [
        "q11"
      ],
      "metadata": {
        "id": "xVB5AweH6YhM"
      }
    },
    {
      "cell_type": "code",
      "source": [
        "a=[3,2,4,0,]\n",
        "b=[3,2,4,9]\n",
        "c=0\n",
        "\n",
        "for i in a:\n",
        " if i in b:\n",
        "   d=c.append(i)\n",
        "   l= d.count(c)\n",
        "    \n",
        "   print('common element are',l)\n",
        "\n",
        "\n"
      ],
      "metadata": {
        "colab": {
          "base_uri": "https://localhost:8080/",
          "height": 235
        },
        "id": "HJ32lL5e6gMo",
        "outputId": "24db9f40-07cc-48d7-e104-82c432a0f927"
      },
      "execution_count": 31,
      "outputs": [
        {
          "output_type": "error",
          "ename": "AttributeError",
          "evalue": "ignored",
          "traceback": [
            "\u001b[0;31m---------------------------------------------------------------------------\u001b[0m",
            "\u001b[0;31mAttributeError\u001b[0m                            Traceback (most recent call last)",
            "\u001b[0;32m<ipython-input-31-039345d92f29>\u001b[0m in \u001b[0;36m<cell line: 5>\u001b[0;34m()\u001b[0m\n\u001b[1;32m      5\u001b[0m \u001b[0;32mfor\u001b[0m \u001b[0mi\u001b[0m \u001b[0;32min\u001b[0m \u001b[0ma\u001b[0m\u001b[0;34m:\u001b[0m\u001b[0;34m\u001b[0m\u001b[0;34m\u001b[0m\u001b[0m\n\u001b[1;32m      6\u001b[0m  \u001b[0;32mif\u001b[0m \u001b[0mi\u001b[0m \u001b[0;32min\u001b[0m \u001b[0mb\u001b[0m\u001b[0;34m:\u001b[0m\u001b[0;34m\u001b[0m\u001b[0;34m\u001b[0m\u001b[0m\n\u001b[0;32m----> 7\u001b[0;31m    \u001b[0md\u001b[0m\u001b[0;34m=\u001b[0m\u001b[0mc\u001b[0m\u001b[0;34m.\u001b[0m\u001b[0mappend\u001b[0m\u001b[0;34m(\u001b[0m\u001b[0mi\u001b[0m\u001b[0;34m)\u001b[0m\u001b[0;34m\u001b[0m\u001b[0;34m\u001b[0m\u001b[0m\n\u001b[0m\u001b[1;32m      8\u001b[0m    \u001b[0ml\u001b[0m\u001b[0;34m=\u001b[0m \u001b[0md\u001b[0m\u001b[0;34m.\u001b[0m\u001b[0mcount\u001b[0m\u001b[0;34m(\u001b[0m\u001b[0mc\u001b[0m\u001b[0;34m)\u001b[0m\u001b[0;34m\u001b[0m\u001b[0;34m\u001b[0m\u001b[0m\n\u001b[1;32m      9\u001b[0m \u001b[0;34m\u001b[0m\u001b[0m\n",
            "\u001b[0;31mAttributeError\u001b[0m: 'int' object has no attribute 'append'"
          ]
        }
      ]
    },
    {
      "cell_type": "markdown",
      "source": [
        "q12"
      ],
      "metadata": {
        "id": "xlGKkjD4tr6b"
      }
    },
    {
      "cell_type": "code",
      "source": [
        "i=[9,0,8,6,7,9,8]\n",
        "print(i)\n",
        "c=i.remove(i[0])\n",
        "c=i.remove(i[3])\n",
        "c=i.remove(i[5])\n",
        "print(c)"
      ],
      "metadata": {
        "colab": {
          "base_uri": "https://localhost:8080/",
          "height": 235
        },
        "id": "uuidLlH0ttPU",
        "outputId": "ab6646f3-8067-47f1-e9b9-a31a219b975b"
      },
      "execution_count": 27,
      "outputs": [
        {
          "output_type": "stream",
          "name": "stdout",
          "text": [
            "[9, 0, 8, 6, 7, 9, 8]\n"
          ]
        },
        {
          "output_type": "error",
          "ename": "IndexError",
          "evalue": "ignored",
          "traceback": [
            "\u001b[0;31m---------------------------------------------------------------------------\u001b[0m",
            "\u001b[0;31mIndexError\u001b[0m                                Traceback (most recent call last)",
            "\u001b[0;32m<ipython-input-27-85bffa30fa34>\u001b[0m in \u001b[0;36m<cell line: 5>\u001b[0;34m()\u001b[0m\n\u001b[1;32m      3\u001b[0m \u001b[0mc\u001b[0m\u001b[0;34m=\u001b[0m\u001b[0mi\u001b[0m\u001b[0;34m.\u001b[0m\u001b[0mremove\u001b[0m\u001b[0;34m(\u001b[0m\u001b[0mi\u001b[0m\u001b[0;34m[\u001b[0m\u001b[0;36m0\u001b[0m\u001b[0;34m]\u001b[0m\u001b[0;34m)\u001b[0m\u001b[0;34m\u001b[0m\u001b[0;34m\u001b[0m\u001b[0m\n\u001b[1;32m      4\u001b[0m \u001b[0mc\u001b[0m\u001b[0;34m=\u001b[0m\u001b[0mi\u001b[0m\u001b[0;34m.\u001b[0m\u001b[0mremove\u001b[0m\u001b[0;34m(\u001b[0m\u001b[0mi\u001b[0m\u001b[0;34m[\u001b[0m\u001b[0;36m3\u001b[0m\u001b[0;34m]\u001b[0m\u001b[0;34m)\u001b[0m\u001b[0;34m\u001b[0m\u001b[0;34m\u001b[0m\u001b[0m\n\u001b[0;32m----> 5\u001b[0;31m \u001b[0mc\u001b[0m\u001b[0;34m=\u001b[0m\u001b[0mi\u001b[0m\u001b[0;34m.\u001b[0m\u001b[0mremove\u001b[0m\u001b[0;34m(\u001b[0m\u001b[0mi\u001b[0m\u001b[0;34m[\u001b[0m\u001b[0;36m5\u001b[0m\u001b[0;34m]\u001b[0m\u001b[0;34m)\u001b[0m\u001b[0;34m\u001b[0m\u001b[0;34m\u001b[0m\u001b[0m\n\u001b[0m\u001b[1;32m      6\u001b[0m \u001b[0mprint\u001b[0m\u001b[0;34m(\u001b[0m\u001b[0mc\u001b[0m\u001b[0;34m)\u001b[0m\u001b[0;34m\u001b[0m\u001b[0;34m\u001b[0m\u001b[0m\n",
            "\u001b[0;31mIndexError\u001b[0m: list index out of range"
          ]
        }
      ]
    },
    {
      "cell_type": "markdown",
      "source": [],
      "metadata": {
        "id": "yKfqInpttrwR"
      }
    }
  ]
}