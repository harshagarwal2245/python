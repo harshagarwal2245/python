{
 "cells": [
  {
   "cell_type": "markdown",
   "id": "99b67e57",
   "metadata": {},
   "source": [
    "### Range"
   ]
  },
  {
   "cell_type": "markdown",
   "id": "4a87e55b",
   "metadata": {},
   "source": [
    "1.It is sequential data type.\n",
    "2.Range is lazy function beacuse it just return the sequence.\n",
    "3.For getting complete squence we use list as function."
   ]
  },
  {
   "cell_type": "code",
   "execution_count": 2,
   "id": "8fdbbc31",
   "metadata": {},
   "outputs": [
    {
     "name": "stdout",
     "output_type": "stream",
     "text": [
      "range(1, 5)\n",
      "List pf the squence: [1, 2, 3, 4]\n"
     ]
    }
   ],
   "source": [
    "range1=range(1,5)\n",
    "print(range1)\n",
    "range1=list(range(1,5))\n",
    "print('List pf the squence:',range1)"
   ]
  },
  {
   "cell_type": "code",
   "execution_count": 3,
   "id": "d4ae2cbf",
   "metadata": {},
   "outputs": [
    {
     "name": "stdout",
     "output_type": "stream",
     "text": [
      "List pf the squence: (1, 2, 3, 4)\n"
     ]
    }
   ],
   "source": [
    "range1=tuple(range(1,5))\n",
    "print('List pf the squence:',range1)"
   ]
  },
  {
   "cell_type": "code",
   "execution_count": null,
   "id": "2c628b6d",
   "metadata": {},
   "outputs": [],
   "source": []
  },
  {
   "cell_type": "code",
   "execution_count": 6,
   "id": "f2e8b4e1",
   "metadata": {},
   "outputs": [
    {
     "name": "stdout",
     "output_type": "stream",
     "text": [
      "[1, 3, 5, 7, 9, 11, 13, 15, 17, 19]\n"
     ]
    }
   ],
   "source": [
    "range2=list(range(1,20,2))\n",
    "print(range2)"
   ]
  },
  {
   "cell_type": "code",
   "execution_count": null,
   "id": "4ec87a36",
   "metadata": {},
   "outputs": [],
   "source": []
  },
  {
   "cell_type": "code",
   "execution_count": 8,
   "id": "0c5b84a2",
   "metadata": {},
   "outputs": [
    {
     "name": "stdout",
     "output_type": "stream",
     "text": [
      "[1, 2, 3, 4, 5, 6, 7, 8, 9, 10]\n"
     ]
    }
   ],
   "source": [
    "range3=list(range(1,10+1))\n",
    "print(range3)"
   ]
  },
  {
   "cell_type": "code",
   "execution_count": 9,
   "id": "72f37385",
   "metadata": {},
   "outputs": [
    {
     "name": "stdout",
     "output_type": "stream",
     "text": [
      "[1, 2, 3, 4, 5, 6, 7, 8, 9, 10]\n"
     ]
    }
   ],
   "source": [
    "range3=list(range(1,11))\n",
    "print(range3)"
   ]
  },
  {
   "cell_type": "code",
   "execution_count": 11,
   "id": "aa243887",
   "metadata": {},
   "outputs": [
    {
     "name": "stdout",
     "output_type": "stream",
     "text": [
      "1\n",
      "2\n",
      "3\n",
      "4\n"
     ]
    }
   ],
   "source": [
    "for i in range(1,5):\n",
    "    print(i)"
   ]
  },
  {
   "cell_type": "code",
   "execution_count": null,
   "id": "848af554",
   "metadata": {},
   "outputs": [],
   "source": []
  }
 ],
 "metadata": {
  "kernelspec": {
   "display_name": "Python 3 (ipykernel)",
   "language": "python",
   "name": "python3"
  },
  "language_info": {
   "codemirror_mode": {
    "name": "ipython",
    "version": 3
   },
   "file_extension": ".py",
   "mimetype": "text/x-python",
   "name": "python",
   "nbconvert_exporter": "python",
   "pygments_lexer": "ipython3",
   "version": "3.10.9"
  }
 },
 "nbformat": 4,
 "nbformat_minor": 5
}
