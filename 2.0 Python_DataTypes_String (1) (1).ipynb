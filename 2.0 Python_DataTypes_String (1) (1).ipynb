{
 "cells": [
  {
   "cell_type": "markdown",
   "id": "f571561c",
   "metadata": {},
   "source": [
    "# Data Types"
   ]
  },
  {
   "cell_type": "markdown",
   "id": "96565fbf",
   "metadata": {},
   "source": [
    "###  1.TEXT TYPE :-  String\n",
    "###  2.NUMERICAL TYPE :-  int,float,complex\n",
    "###  3.SEQUENCE TYPE :-  list,tupple,range\n",
    "###  4.MAPPING TYPE :-  dict\n",
    "###  5.SET TYPE :-  set,frozen set\n",
    "###  6.BOOLEAN TYPE :-  bool\n",
    "###  7.BINARY TYPE :-  bytes,bytearray,memory view"
   ]
  },
  {
   "cell_type": "code",
   "execution_count": null,
   "id": "dc0f7f97",
   "metadata": {},
   "outputs": [
    {
     "ename": "",
     "evalue": "",
     "output_type": "error",
     "traceback": [
      "\u001b[1;31mRunning cells with 'd:\\python\\python.exe' requires the ipykernel package.\n",
      "\u001b[1;31mRun the following command to install 'ipykernel' into the Python environment. \n",
      "\u001b[1;31mCommand: 'd:/python/python.exe -m pip install ipykernel -U --user --force-reinstall'"
     ]
    }
   ],
   "source": [
    "a=3\n",
    "print(type(a))"
   ]
  },
  {
   "cell_type": "code",
   "execution_count": null,
   "id": "472d6ef4",
   "metadata": {},
   "outputs": [
    {
     "ename": "",
     "evalue": "",
     "output_type": "error",
     "traceback": [
      "\u001b[1;31mRunning cells with 'd:\\python\\python.exe' requires the ipykernel package.\n",
      "\u001b[1;31mRun the following command to install 'ipykernel' into the Python environment. \n",
      "\u001b[1;31mCommand: 'd:/python/python.exe -m pip install ipykernel -U --user --force-reinstall'"
     ]
    }
   ],
   "source": [
    "b='Data Science'\n",
    "print(type(b))"
   ]
  },
  {
   "cell_type": "code",
   "execution_count": 1,
   "id": "82905067",
   "metadata": {},
   "outputs": [
    {
     "name": "stdout",
     "output_type": "stream",
     "text": [
      "<class 'float'>\n"
     ]
    }
   ],
   "source": [
    "c=10.3\n",
    "print(type(c))"
   ]
  },
  {
   "cell_type": "code",
   "execution_count": 4,
   "id": "f74b106e",
   "metadata": {},
   "outputs": [
    {
     "data": {
      "text/plain": [
       "1918431199536"
      ]
     },
     "execution_count": 4,
     "metadata": {},
     "output_type": "execute_result"
    }
   ],
   "source": [
    "id(a)"
   ]
  },
  {
   "cell_type": "code",
   "execution_count": 5,
   "id": "85575e9b",
   "metadata": {},
   "outputs": [
    {
     "data": {
      "text/plain": [
       "True"
      ]
     },
     "execution_count": 5,
     "metadata": {},
     "output_type": "execute_result"
    }
   ],
   "source": [
    "isinstance(a,int)  # return true if given variable have same data type"
   ]
  },
  {
   "cell_type": "code",
   "execution_count": 6,
   "id": "d2f876d7",
   "metadata": {},
   "outputs": [
    {
     "data": {
      "text/plain": [
       "False"
      ]
     },
     "execution_count": 6,
     "metadata": {},
     "output_type": "execute_result"
    }
   ],
   "source": [
    "isinstance(a,str) "
   ]
  },
  {
   "cell_type": "code",
   "execution_count": null,
   "id": "ac4e1c55",
   "metadata": {},
   "outputs": [],
   "source": []
  },
  {
   "cell_type": "markdown",
   "id": "b1316eb9",
   "metadata": {},
   "source": [
    "### 1. TEXT : String"
   ]
  },
  {
   "cell_type": "markdown",
   "id": "9db49a3a",
   "metadata": {},
   "source": [
    "Sring : \n",
    "   1. It is sequence of characters. \n",
    "   2. Strings in python are surrounded by either single quotation marks, or double quotation marks.\n",
    "   3. Strings are orderd.\n",
    "   4. Strings are immutable :  means that its value cannot be updated or\n",
    "          we cannot delete any character present in given string"
   ]
  },
  {
   "cell_type": "code",
   "execution_count": 12,
   "id": "3becb89c",
   "metadata": {},
   "outputs": [
    {
     "name": "stdout",
     "output_type": "stream",
     "text": [
      "Welcome to Python class\n",
      "Data Scientist\n",
      "Data Scientist\n"
     ]
    }
   ],
   "source": [
    "z='Welcome to Python class'\n",
    "print(z)\n",
    "\n",
    "a=\"Data Scientist\"\n",
    "print(a)\n",
    "\n",
    "b='Data Scientist'\n",
    "print(b)\n",
    "\n",
    "c=\"\"\" Data Scientist\"\"\""
   ]
  },
  {
   "cell_type": "markdown",
   "id": "b5682879",
   "metadata": {},
   "source": [
    "## How to access the string"
   ]
  },
  {
   "cell_type": "code",
   "execution_count": 13,
   "id": "3be77de6",
   "metadata": {},
   "outputs": [
    {
     "name": "stdout",
     "output_type": "stream",
     "text": [
      "12\n"
     ]
    }
   ],
   "source": [
    "my_string='Data Science'\n",
    "print(len(my_string))"
   ]
  },
  {
   "cell_type": "markdown",
   "id": "b498b9cb",
   "metadata": {},
   "source": [
    "Indexing : Indexing starting from 0.\n",
    "           For space also required indexing\n",
    "    \n",
    "    'Data Science'\n",
    "     [01234567891011]\n",
    "        \n",
    "    D - 0 (index)\n",
    "    a -1\n",
    "    t -2\n",
    "    a -3\n",
    "      -4\n",
    "    S -5\n",
    "    c -6\n",
    "    i -7\n",
    "    e -8\n",
    "    n -9\n",
    "    c -10\n",
    "    e -11"
   ]
  },
  {
   "cell_type": "code",
   "execution_count": 14,
   "id": "fc35ff84",
   "metadata": {},
   "outputs": [
    {
     "data": {
      "text/plain": [
       "'D'"
      ]
     },
     "execution_count": 14,
     "metadata": {},
     "output_type": "execute_result"
    }
   ],
   "source": [
    "my_string[0]"
   ]
  },
  {
   "cell_type": "code",
   "execution_count": 15,
   "id": "148da6c0",
   "metadata": {},
   "outputs": [
    {
     "data": {
      "text/plain": [
       "'a'"
      ]
     },
     "execution_count": 15,
     "metadata": {},
     "output_type": "execute_result"
    }
   ],
   "source": [
    "my_string[1]"
   ]
  },
  {
   "cell_type": "code",
   "execution_count": 16,
   "id": "f7baec37",
   "metadata": {},
   "outputs": [
    {
     "data": {
      "text/plain": [
       "' '"
      ]
     },
     "execution_count": 16,
     "metadata": {},
     "output_type": "execute_result"
    }
   ],
   "source": [
    "my_string[4]"
   ]
  },
  {
   "cell_type": "code",
   "execution_count": 17,
   "id": "4cc87c39",
   "metadata": {},
   "outputs": [
    {
     "data": {
      "text/plain": [
       "'e'"
      ]
     },
     "execution_count": 17,
     "metadata": {},
     "output_type": "execute_result"
    }
   ],
   "source": [
    "my_string[-1]        ## from reverse indexing staring from -1"
   ]
  },
  {
   "cell_type": "code",
   "execution_count": 18,
   "id": "51d7ea20",
   "metadata": {},
   "outputs": [
    {
     "data": {
      "text/plain": [
       "'c'"
      ]
     },
     "execution_count": 18,
     "metadata": {},
     "output_type": "execute_result"
    }
   ],
   "source": [
    "my_string[-2]"
   ]
  },
  {
   "cell_type": "code",
   "execution_count": 19,
   "id": "e00ffb52",
   "metadata": {},
   "outputs": [
    {
     "data": {
      "text/plain": [
       "'Data Science'"
      ]
     },
     "execution_count": 19,
     "metadata": {},
     "output_type": "execute_result"
    }
   ],
   "source": [
    "my_string[:]      ## All string will get with the help of :"
   ]
  },
  {
   "cell_type": "code",
   "execution_count": 21,
   "id": "d117876a",
   "metadata": {},
   "outputs": [
    {
     "data": {
      "text/plain": [
       "'Data'"
      ]
     },
     "execution_count": 21,
     "metadata": {},
     "output_type": "execute_result"
    }
   ],
   "source": [
    "my_string[0:4]    # Slicing"
   ]
  },
  {
   "cell_type": "code",
   "execution_count": 22,
   "id": "124a0dbc",
   "metadata": {},
   "outputs": [
    {
     "data": {
      "text/plain": [
       "'Data'"
      ]
     },
     "execution_count": 22,
     "metadata": {},
     "output_type": "execute_result"
    }
   ],
   "source": [
    "my_string[:4]"
   ]
  },
  {
   "cell_type": "code",
   "execution_count": 33,
   "id": "6cca1ac1",
   "metadata": {},
   "outputs": [
    {
     "data": {
      "text/plain": [
       "' Science'"
      ]
     },
     "execution_count": 33,
     "metadata": {},
     "output_type": "execute_result"
    }
   ],
   "source": [
    "my_string[4:12]"
   ]
  },
  {
   "cell_type": "code",
   "execution_count": 30,
   "id": "9c69e8ca",
   "metadata": {},
   "outputs": [
    {
     "data": {
      "text/plain": [
       "'ecneicS ataD'"
      ]
     },
     "execution_count": 30,
     "metadata": {},
     "output_type": "execute_result"
    }
   ],
   "source": [
    "my_string[::-1]    # Opposite view of the string"
   ]
  },
  {
   "cell_type": "code",
   "execution_count": 31,
   "id": "014166d9",
   "metadata": {},
   "outputs": [
    {
     "data": {
      "text/plain": [
       "'Data Science'"
      ]
     },
     "execution_count": 31,
     "metadata": {},
     "output_type": "execute_result"
    }
   ],
   "source": [
    "my_string[-12:]  # Get given string"
   ]
  },
  {
   "cell_type": "code",
   "execution_count": 32,
   "id": "8498f790",
   "metadata": {},
   "outputs": [
    {
     "data": {
      "text/plain": [
       "'Data Science'"
      ]
     },
     "execution_count": 32,
     "metadata": {},
     "output_type": "execute_result"
    }
   ],
   "source": [
    "my_string[-12::]"
   ]
  },
  {
   "cell_type": "code",
   "execution_count": 36,
   "id": "ce3faad9",
   "metadata": {},
   "outputs": [
    {
     "data": {
      "text/plain": [
       "'Scienc'"
      ]
     },
     "execution_count": 36,
     "metadata": {},
     "output_type": "execute_result"
    }
   ],
   "source": [
    "my_string[-7:-1]"
   ]
  },
  {
   "cell_type": "code",
   "execution_count": null,
   "id": "6a6a6a09",
   "metadata": {},
   "outputs": [],
   "source": []
  },
  {
   "cell_type": "markdown",
   "id": "09f664ec",
   "metadata": {},
   "source": [
    "## How to delete string"
   ]
  },
  {
   "cell_type": "markdown",
   "id": "267f6bd8",
   "metadata": {},
   "source": [
    "Strings are immutable : \n",
    "1.Element of the string cannot changed once they have been assigned.\n"
   ]
  },
  {
   "cell_type": "code",
   "execution_count": 38,
   "id": "733d79ed",
   "metadata": {},
   "outputs": [
    {
     "name": "stdout",
     "output_type": "stream",
     "text": [
      "Welcome to Python Course\n",
      "<class 'str'>\n"
     ]
    }
   ],
   "source": [
    "my_str='Welcome to Python Course'\n",
    "print(my_str)\n",
    "print(type(my_str))"
   ]
  },
  {
   "cell_type": "code",
   "execution_count": 39,
   "id": "4f69ee04",
   "metadata": {},
   "outputs": [
    {
     "data": {
      "text/plain": [
       "'c'"
      ]
     },
     "execution_count": 39,
     "metadata": {},
     "output_type": "execute_result"
    }
   ],
   "source": [
    "my_str[3]"
   ]
  },
  {
   "cell_type": "code",
   "execution_count": 40,
   "id": "1a361f49",
   "metadata": {},
   "outputs": [
    {
     "ename": "TypeError",
     "evalue": "'str' object does not support item assignment",
     "output_type": "error",
     "traceback": [
      "\u001b[1;31m---------------------------------------------------------------------------\u001b[0m",
      "\u001b[1;31mTypeError\u001b[0m                                 Traceback (most recent call last)",
      "Cell \u001b[1;32mIn[40], line 1\u001b[0m\n\u001b[1;32m----> 1\u001b[0m my_str[\u001b[38;5;241m3\u001b[39m]\u001b[38;5;241m=\u001b[39m\u001b[38;5;124m'\u001b[39m\u001b[38;5;124mm\u001b[39m\u001b[38;5;124m'\u001b[39m\n",
      "\u001b[1;31mTypeError\u001b[0m: 'str' object does not support item assignment"
     ]
    }
   ],
   "source": [
    "my_str[3]='m'"
   ]
  },
  {
   "cell_type": "code",
   "execution_count": 41,
   "id": "eb961f12",
   "metadata": {},
   "outputs": [
    {
     "ename": "TypeError",
     "evalue": "'str' object doesn't support item deletion",
     "output_type": "error",
     "traceback": [
      "\u001b[1;31m---------------------------------------------------------------------------\u001b[0m",
      "\u001b[1;31mTypeError\u001b[0m                                 Traceback (most recent call last)",
      "Cell \u001b[1;32mIn[41], line 1\u001b[0m\n\u001b[1;32m----> 1\u001b[0m \u001b[38;5;28;01mdel\u001b[39;00m my_str[\u001b[38;5;241m3\u001b[39m]\n",
      "\u001b[1;31mTypeError\u001b[0m: 'str' object doesn't support item deletion"
     ]
    }
   ],
   "source": [
    "del my_str[3]"
   ]
  },
  {
   "cell_type": "markdown",
   "id": "4b844cbc",
   "metadata": {},
   "source": [
    "# Python String Operation"
   ]
  },
  {
   "cell_type": "markdown",
   "id": "b132d0e5",
   "metadata": {},
   "source": [
    "1.Concatenation : Joining of two or more string into single one is called as concatenation.\n",
    "2. The + Operator is used to joing two string\n",
    "3. The * Operator is udes to multiply strings"
   ]
  },
  {
   "cell_type": "code",
   "execution_count": 44,
   "id": "7f63e9b2",
   "metadata": {},
   "outputs": [
    {
     "name": "stdout",
     "output_type": "stream",
     "text": [
      "DataAnaltics\n",
      "Data Analtics\n"
     ]
    }
   ],
   "source": [
    "str1='Data'\n",
    "str2='Analtics'\n",
    "\n",
    "str3=str1+str2\n",
    "print(str3)\n",
    "\n",
    "str3=str1+\" \"+str2\n",
    "print(str3)"
   ]
  },
  {
   "cell_type": "code",
   "execution_count": 45,
   "id": "86d5f922",
   "metadata": {},
   "outputs": [
    {
     "name": "stdout",
     "output_type": "stream",
     "text": [
      "DataDataData\n"
     ]
    }
   ],
   "source": [
    "print(str1*3)"
   ]
  },
  {
   "cell_type": "code",
   "execution_count": 52,
   "id": "7e9bc75f",
   "metadata": {},
   "outputs": [
    {
     "name": "stdout",
     "output_type": "stream",
     "text": [
      "1%2%3%4\n"
     ]
    }
   ],
   "source": [
    "print(1,2,3,4,sep='%')"
   ]
  },
  {
   "cell_type": "code",
   "execution_count": 53,
   "id": "76fe01b9",
   "metadata": {},
   "outputs": [
    {
     "name": "stdout",
     "output_type": "stream",
     "text": [
      "1%2%3%4$"
     ]
    }
   ],
   "source": [
    "print(1,2,3,4,sep='%',end='$')"
   ]
  },
  {
   "cell_type": "code",
   "execution_count": 55,
   "id": "fccb6215",
   "metadata": {},
   "outputs": [
    {
     "name": "stdout",
     "output_type": "stream",
     "text": [
      "1%2%3%4\n",
      "1%2%3%4\n"
     ]
    }
   ],
   "source": [
    "print(1,2,3,4,sep='%',end='\\n')\n",
    "print(1,2,3,4,sep='%',end='\\n')"
   ]
  },
  {
   "cell_type": "code",
   "execution_count": 56,
   "id": "3a66a997",
   "metadata": {},
   "outputs": [
    {
     "name": "stdout",
     "output_type": "stream",
     "text": [
      "D\n",
      "a\n",
      "t\n",
      "a\n"
     ]
    }
   ],
   "source": [
    "result='Data'\n",
    "for i in result:\n",
    "    print(i)"
   ]
  },
  {
   "cell_type": "code",
   "execution_count": null,
   "id": "43445180",
   "metadata": {},
   "outputs": [],
   "source": []
  },
  {
   "cell_type": "markdown",
   "id": "68572514",
   "metadata": {},
   "source": [
    "# Methods in string"
   ]
  },
  {
   "cell_type": "markdown",
   "id": "0b75e55a",
   "metadata": {},
   "source": [
    "### 1.Format"
   ]
  },
  {
   "cell_type": "code",
   "execution_count": 57,
   "id": "9ab65798",
   "metadata": {},
   "outputs": [
    {
     "name": "stdout",
     "output_type": "stream",
     "text": [
      "ROHIT is captain of MI and his age is 33\n"
     ]
    }
   ],
   "source": [
    "a='{} is captain of MI and his age is {}'\n",
    "print(a.format('ROHIT',33))"
   ]
  },
  {
   "cell_type": "code",
   "execution_count": 58,
   "id": "126a69e6",
   "metadata": {},
   "outputs": [
    {
     "name": "stdout",
     "output_type": "stream",
     "text": [
      "Neha is Data Scientist and her company name is Eton\n"
     ]
    }
   ],
   "source": [
    "print('{} is Data Scientist and her company name is {}'.format('Neha','Eton'))"
   ]
  },
  {
   "cell_type": "markdown",
   "id": "94175e89",
   "metadata": {},
   "source": [
    "There are two types of arguments.\n",
    "1.Positional\n",
    "2.Keyword\n",
    "\n"
   ]
  },
  {
   "cell_type": "markdown",
   "id": "52429cc0",
   "metadata": {},
   "source": [
    "Positional"
   ]
  },
  {
   "cell_type": "code",
   "execution_count": 61,
   "id": "d9a81bf7",
   "metadata": {},
   "outputs": [
    {
     "name": "stdout",
     "output_type": "stream",
     "text": [
      "Eton is Data Scientist and her company name is Neha and her age is 27\n"
     ]
    }
   ],
   "source": [
    "print('{1} is Data Scientist and her company name is {0} and her age is {2}'.format('Neha','Eton',27))"
   ]
  },
  {
   "cell_type": "code",
   "execution_count": 62,
   "id": "9b81a883",
   "metadata": {},
   "outputs": [
    {
     "name": "stdout",
     "output_type": "stream",
     "text": [
      "27 is Data Scientist and her company name is Neha and her age is Eton\n"
     ]
    }
   ],
   "source": [
    "print('{2} is Data Scientist and her company name is {0} and her age is {1}'.format('Neha','Eton',27))"
   ]
  },
  {
   "cell_type": "markdown",
   "id": "d86fafeb",
   "metadata": {},
   "source": [
    "Keyword"
   ]
  },
  {
   "cell_type": "code",
   "execution_count": 63,
   "id": "b1a2714f",
   "metadata": {},
   "outputs": [
    {
     "name": "stdout",
     "output_type": "stream",
     "text": [
      "There are toatl 36 dist. in Maharashtra state and Mumbai is capital of Maharashtra\n"
     ]
    }
   ],
   "source": [
    "print('There are toatl {a} dist. in Maharashtra state and {b} is capital of Maharashtra'.format(a=36,b='Mumbai'))"
   ]
  },
  {
   "cell_type": "code",
   "execution_count": 64,
   "id": "1785714b",
   "metadata": {},
   "outputs": [
    {
     "name": "stdout",
     "output_type": "stream",
     "text": [
      "There are toatl Mumbai dist. in Maharashtra state and 36 is capital of Maharashtra\n"
     ]
    }
   ],
   "source": [
    "print('There are toatl {b} dist. in Maharashtra state and {a} is capital of Maharashtra'.format(a=36,b='Mumbai'))"
   ]
  },
  {
   "cell_type": "code",
   "execution_count": 65,
   "id": "7bc92328",
   "metadata": {},
   "outputs": [
    {
     "name": "stdout",
     "output_type": "stream",
     "text": [
      "There are toatl Mumbai dist. in Maharashtra state and Mumbai is capital of Maharashtra\n"
     ]
    }
   ],
   "source": [
    "print('There are toatl {b} dist. in Maharashtra state and {b} is capital of Maharashtra'.format(a=36,b='Mumbai'))"
   ]
  },
  {
   "cell_type": "code",
   "execution_count": null,
   "id": "c83a1fba",
   "metadata": {},
   "outputs": [],
   "source": []
  },
  {
   "cell_type": "markdown",
   "id": "3da91b46",
   "metadata": {},
   "source": [
    "## 2. Lower"
   ]
  },
  {
   "cell_type": "code",
   "execution_count": 69,
   "id": "3529a27c",
   "metadata": {},
   "outputs": [
    {
     "data": {
      "text/plain": [
       "'pune is good city'"
      ]
     },
     "execution_count": 69,
     "metadata": {},
     "output_type": "execute_result"
    }
   ],
   "source": [
    "my_string='Pune is good city'\n",
    "my_string.lower()\n"
   ]
  },
  {
   "cell_type": "code",
   "execution_count": 70,
   "id": "e1ebc994",
   "metadata": {},
   "outputs": [
    {
     "data": {
      "text/plain": [
       "'data scientist'"
      ]
     },
     "execution_count": 70,
     "metadata": {},
     "output_type": "execute_result"
    }
   ],
   "source": [
    "a='DATA SCIENTIST'\n",
    "a.lower()"
   ]
  },
  {
   "cell_type": "code",
   "execution_count": null,
   "id": "0862e568",
   "metadata": {},
   "outputs": [],
   "source": []
  },
  {
   "cell_type": "markdown",
   "id": "c19fb344",
   "metadata": {},
   "source": [
    "# 3.Upper"
   ]
  },
  {
   "cell_type": "code",
   "execution_count": 71,
   "id": "79d7e1c1",
   "metadata": {},
   "outputs": [
    {
     "data": {
      "text/plain": [
       "'DATA SCIENTIST'"
      ]
     },
     "execution_count": 71,
     "metadata": {},
     "output_type": "execute_result"
    }
   ],
   "source": [
    "b='dATA Scientist'\n",
    "b.upper()"
   ]
  },
  {
   "cell_type": "code",
   "execution_count": null,
   "id": "4062c9d8",
   "metadata": {},
   "outputs": [],
   "source": []
  },
  {
   "cell_type": "markdown",
   "id": "f2c90540",
   "metadata": {},
   "source": [
    "# 4.Capitalize"
   ]
  },
  {
   "cell_type": "code",
   "execution_count": 73,
   "id": "250df259",
   "metadata": {},
   "outputs": [
    {
     "data": {
      "text/plain": [
       "'Pune is my fav.city'"
      ]
     },
     "execution_count": 73,
     "metadata": {},
     "output_type": "execute_result"
    }
   ],
   "source": [
    "str1='pune IS my Fav.city'\n",
    "str1.capitalize()"
   ]
  },
  {
   "cell_type": "code",
   "execution_count": null,
   "id": "dcb0cf4b",
   "metadata": {},
   "outputs": [],
   "source": []
  },
  {
   "cell_type": "markdown",
   "id": "dcb6a9a4",
   "metadata": {},
   "source": [
    "# 5.Count"
   ]
  },
  {
   "cell_type": "markdown",
   "id": "9dfb4375",
   "metadata": {},
   "source": [
    "1.Gives the count of substring from the main string.\n",
    "2.The count() method returns the number of times a specified value appears in the string.\n",
    "3.Syntax\n",
    "  string.count(value, start, end)\n"
   ]
  },
  {
   "cell_type": "code",
   "execution_count": 80,
   "id": "a50adcbb",
   "metadata": {},
   "outputs": [
    {
     "data": {
      "text/plain": [
       "2"
      ]
     },
     "execution_count": 80,
     "metadata": {},
     "output_type": "execute_result"
    }
   ],
   "source": [
    "my_string='AAaa'\n",
    "my_string.count('A')"
   ]
  },
  {
   "cell_type": "code",
   "execution_count": 79,
   "id": "36552830",
   "metadata": {},
   "outputs": [
    {
     "name": "stdout",
     "output_type": "stream",
     "text": [
      "1\n"
     ]
    }
   ],
   "source": [
    "txt = \"I love apples, apple are my favorite fruit\"\n",
    "\n",
    "x = txt.count(\"apple\", 10, 24)\n",
    "\n",
    "print(x)"
   ]
  },
  {
   "cell_type": "code",
   "execution_count": null,
   "id": "223ce90e",
   "metadata": {},
   "outputs": [],
   "source": []
  },
  {
   "cell_type": "markdown",
   "id": "57221127",
   "metadata": {},
   "source": [
    "# 6.find()"
   ]
  },
  {
   "cell_type": "markdown",
   "id": "abe6df52",
   "metadata": {},
   "source": [
    "find method returns the index of first occurance of the substring(If found) and if not found then returns -1"
   ]
  },
  {
   "cell_type": "code",
   "execution_count": 2,
   "id": "5f592c9a",
   "metadata": {},
   "outputs": [],
   "source": [
    "sample_string_2= \"the best captain of India is MS Dhoni\""
   ]
  },
  {
   "cell_type": "code",
   "execution_count": 3,
   "id": "1278c395",
   "metadata": {},
   "outputs": [
    {
     "data": {
      "text/plain": [
       "0"
      ]
     },
     "execution_count": 3,
     "metadata": {},
     "output_type": "execute_result"
    }
   ],
   "source": [
    "sample_string_2.find(\"t\")"
   ]
  },
  {
   "cell_type": "code",
   "execution_count": 4,
   "id": "d5e17ca9",
   "metadata": {},
   "outputs": [
    {
     "data": {
      "text/plain": [
       "10"
      ]
     },
     "execution_count": 4,
     "metadata": {},
     "output_type": "execute_result"
    }
   ],
   "source": [
    "sample_string_2.find(\"a\")"
   ]
  },
  {
   "cell_type": "code",
   "execution_count": 5,
   "id": "1d1c928a",
   "metadata": {},
   "outputs": [
    {
     "data": {
      "text/plain": [
       "24"
      ]
     },
     "execution_count": 5,
     "metadata": {},
     "output_type": "execute_result"
    }
   ],
   "source": [
    "sample_string_2.rfind(\"a\")   # Reverse String"
   ]
  },
  {
   "cell_type": "code",
   "execution_count": null,
   "id": "98edf4f9",
   "metadata": {},
   "outputs": [],
   "source": []
  },
  {
   "cell_type": "markdown",
   "id": "b14b446d",
   "metadata": {},
   "source": [
    "# 7.Index"
   ]
  },
  {
   "cell_type": "markdown",
   "id": "34322d70",
   "metadata": {},
   "source": [
    " If sub string not found then it will rasie error exception"
   ]
  },
  {
   "cell_type": "code",
   "execution_count": 6,
   "id": "9d0fb0ce",
   "metadata": {},
   "outputs": [],
   "source": [
    "sample_string_2= \"the best captain of India is MS Dhoni best\""
   ]
  },
  {
   "cell_type": "code",
   "execution_count": 7,
   "id": "72ab86af",
   "metadata": {},
   "outputs": [
    {
     "data": {
      "text/plain": [
       "10"
      ]
     },
     "execution_count": 7,
     "metadata": {},
     "output_type": "execute_result"
    }
   ],
   "source": [
    "sample_string_2.index(\"a\")"
   ]
  },
  {
   "cell_type": "code",
   "execution_count": 8,
   "id": "d2938fab",
   "metadata": {},
   "outputs": [
    {
     "ename": "ValueError",
     "evalue": "substring not found",
     "output_type": "error",
     "traceback": [
      "\u001b[1;31m---------------------------------------------------------------------------\u001b[0m",
      "\u001b[1;31mValueError\u001b[0m                                Traceback (most recent call last)",
      "Cell \u001b[1;32mIn[8], line 1\u001b[0m\n\u001b[1;32m----> 1\u001b[0m \u001b[43msample_string_2\u001b[49m\u001b[38;5;241;43m.\u001b[39;49m\u001b[43mindex\u001b[49m\u001b[43m(\u001b[49m\u001b[38;5;124;43m\"\u001b[39;49m\u001b[38;5;124;43mz\u001b[39;49m\u001b[38;5;124;43m\"\u001b[39;49m\u001b[43m)\u001b[49m\n",
      "\u001b[1;31mValueError\u001b[0m: substring not found"
     ]
    }
   ],
   "source": [
    "sample_string_2.index(\"z\")"
   ]
  },
  {
   "cell_type": "code",
   "execution_count": 9,
   "id": "18874e50",
   "metadata": {},
   "outputs": [
    {
     "data": {
      "text/plain": [
       "38"
      ]
     },
     "execution_count": 9,
     "metadata": {},
     "output_type": "execute_result"
    }
   ],
   "source": [
    "sample_string_2.rindex(\"best\")"
   ]
  },
  {
   "cell_type": "code",
   "execution_count": null,
   "id": "a942fadd",
   "metadata": {},
   "outputs": [],
   "source": []
  },
  {
   "cell_type": "markdown",
   "id": "3c8db10e",
   "metadata": {},
   "source": [
    "# 8.Startswith()"
   ]
  },
  {
   "cell_type": "markdown",
   "id": "af7df9c8",
   "metadata": {},
   "source": [
    "this method returns True if the substring starts with that suffix"
   ]
  },
  {
   "cell_type": "code",
   "execution_count": 10,
   "id": "0421dd9b",
   "metadata": {},
   "outputs": [],
   "source": [
    "website_name=\"www.instagram.com\""
   ]
  },
  {
   "cell_type": "code",
   "execution_count": 11,
   "id": "245d1f84",
   "metadata": {},
   "outputs": [
    {
     "data": {
      "text/plain": [
       "True"
      ]
     },
     "execution_count": 11,
     "metadata": {},
     "output_type": "execute_result"
    }
   ],
   "source": [
    "website_name.startswith(\"www\")"
   ]
  },
  {
   "cell_type": "code",
   "execution_count": 12,
   "id": "24564f67",
   "metadata": {},
   "outputs": [
    {
     "data": {
      "text/plain": [
       "False"
      ]
     },
     "execution_count": 12,
     "metadata": {},
     "output_type": "execute_result"
    }
   ],
   "source": [
    "website_name.startswith(\"wwd\")"
   ]
  },
  {
   "cell_type": "code",
   "execution_count": 13,
   "id": "f43b98eb",
   "metadata": {},
   "outputs": [
    {
     "data": {
      "text/plain": [
       "True"
      ]
     },
     "execution_count": 13,
     "metadata": {},
     "output_type": "execute_result"
    }
   ],
   "source": [
    "V_no=\"MH-12, CZ0007\"\n",
    "\n",
    "V_no.startswith(\"MH\")"
   ]
  },
  {
   "cell_type": "code",
   "execution_count": null,
   "id": "865f7352",
   "metadata": {},
   "outputs": [],
   "source": []
  },
  {
   "cell_type": "markdown",
   "id": "fa5b2936",
   "metadata": {},
   "source": [
    "# 9.Endswith"
   ]
  },
  {
   "cell_type": "raw",
   "id": "4bc2cf88",
   "metadata": {},
   "source": [
    "this method returns True if the substring ends with that suffix"
   ]
  },
  {
   "cell_type": "code",
   "execution_count": 14,
   "id": "42872865",
   "metadata": {},
   "outputs": [],
   "source": [
    "website_name=\"www.instagram.com\"\n"
   ]
  },
  {
   "cell_type": "code",
   "execution_count": 15,
   "id": "cdc2b369",
   "metadata": {},
   "outputs": [
    {
     "data": {
      "text/plain": [
       "True"
      ]
     },
     "execution_count": 15,
     "metadata": {},
     "output_type": "execute_result"
    }
   ],
   "source": [
    "website_name.endswith(\".com\")"
   ]
  },
  {
   "cell_type": "code",
   "execution_count": 16,
   "id": "7cf842a5",
   "metadata": {},
   "outputs": [
    {
     "data": {
      "text/plain": [
       "False"
      ]
     },
     "execution_count": 16,
     "metadata": {},
     "output_type": "execute_result"
    }
   ],
   "source": [
    "website_name.endswith(\".co\")"
   ]
  },
  {
   "cell_type": "code",
   "execution_count": 17,
   "id": "170eecfe",
   "metadata": {},
   "outputs": [
    {
     "data": {
      "text/plain": [
       "False"
      ]
     },
     "execution_count": 17,
     "metadata": {},
     "output_type": "execute_result"
    }
   ],
   "source": [
    "email=\"xyz@tcs.com\"\n",
    "\n",
    "email.endswith(\"@ts.com\")"
   ]
  },
  {
   "cell_type": "code",
   "execution_count": null,
   "id": "bd7f6916",
   "metadata": {},
   "outputs": [],
   "source": []
  }
 ],
 "metadata": {
  "kernelspec": {
   "display_name": "Python 3 (ipykernel)",
   "language": "python",
   "name": "python3"
  },
  "language_info": {
   "codemirror_mode": {
    "name": "ipython",
    "version": 3
   },
   "file_extension": ".py",
   "mimetype": "text/x-python",
   "name": "python",
   "nbconvert_exporter": "python",
   "pygments_lexer": "ipython3",
   "version": "3.9.6"
  }
 },
 "nbformat": 4,
 "nbformat_minor": 5
}
