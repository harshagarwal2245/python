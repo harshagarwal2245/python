{
 "cells": [
  {
   "cell_type": "markdown",
   "id": "64275ddd",
   "metadata": {},
   "source": [
    "Set:\n",
    "1.It is collection of heterogenous object(containing fifferent data type.e.g complex,float,char etc)\n",
    "2.Set is unordered data type.\n",
    "3.Duplicate values are not allowed.\n",
    "4.Indexing is not possible in set"
   ]
  },
  {
   "cell_type": "code",
   "execution_count": 3,
   "id": "5aa700cc",
   "metadata": {},
   "outputs": [
    {
     "name": "stdout",
     "output_type": "stream",
     "text": [
      "{1, 2, 3, 4}\n",
      "<class 'set'>\n"
     ]
    }
   ],
   "source": [
    "set1={1,2,3,4}\n",
    "print(set1)\n",
    "print(type(set1))"
   ]
  },
  {
   "cell_type": "code",
   "execution_count": 6,
   "id": "7d97ccbf",
   "metadata": {},
   "outputs": [
    {
     "name": "stdout",
     "output_type": "stream",
     "text": [
      "<class 'set'>\n",
      "{1, 10.6, (2+3j), 'python'}\n"
     ]
    }
   ],
   "source": [
    "set2={1,'python',2+3j,10.6}\n",
    "print(type(set2))\n",
    "print(set2)"
   ]
  },
  {
   "cell_type": "code",
   "execution_count": 7,
   "id": "0424450a",
   "metadata": {},
   "outputs": [
    {
     "name": "stdout",
     "output_type": "stream",
     "text": [
      "{1, 3, 6, 7}\n"
     ]
    }
   ],
   "source": [
    "set3={1,1,3,3,3,6,7}\n",
    "print(set3)"
   ]
  },
  {
   "cell_type": "code",
   "execution_count": 8,
   "id": "3cef9198",
   "metadata": {},
   "outputs": [
    {
     "ename": "TypeError",
     "evalue": "'set' object is not subscriptable",
     "output_type": "error",
     "traceback": [
      "\u001b[1;31m---------------------------------------------------------------------------\u001b[0m",
      "\u001b[1;31mTypeError\u001b[0m                                 Traceback (most recent call last)",
      "Cell \u001b[1;32mIn[8], line 2\u001b[0m\n\u001b[0;32m      1\u001b[0m set3\u001b[38;5;241m=\u001b[39m{\u001b[38;5;241m1\u001b[39m,\u001b[38;5;241m1\u001b[39m,\u001b[38;5;241m3\u001b[39m,\u001b[38;5;241m3\u001b[39m,\u001b[38;5;241m3\u001b[39m,\u001b[38;5;241m6\u001b[39m,\u001b[38;5;241m7\u001b[39m}\n\u001b[1;32m----> 2\u001b[0m \u001b[43mset3\u001b[49m\u001b[43m[\u001b[49m\u001b[38;5;241;43m1\u001b[39;49m\u001b[43m]\u001b[49m\n",
      "\u001b[1;31mTypeError\u001b[0m: 'set' object is not subscriptable"
     ]
    }
   ],
   "source": [
    "set3={1,1,3,3,3,6,7}\n",
    "set3[1]"
   ]
  },
  {
   "cell_type": "code",
   "execution_count": null,
   "id": "24c28597",
   "metadata": {},
   "outputs": [],
   "source": []
  },
  {
   "cell_type": "markdown",
   "id": "0b9cacab",
   "metadata": {},
   "source": [
    "### Methods of Sets"
   ]
  },
  {
   "cell_type": "markdown",
   "id": "3debfc1d",
   "metadata": {},
   "source": [
    "### 1.Add()\n",
    "Adding single element"
   ]
  },
  {
   "cell_type": "code",
   "execution_count": 11,
   "id": "953d4647",
   "metadata": {},
   "outputs": [
    {
     "name": "stdout",
     "output_type": "stream",
     "text": [
      "{1, 3, 5, 7, 9}\n",
      "{1, 3, 5, 7, 9}\n"
     ]
    }
   ],
   "source": [
    "set4={1,3,5,7}\n",
    "set4.add(9)\n",
    "print(set4)\n",
    "print(set4)"
   ]
  },
  {
   "cell_type": "markdown",
   "id": "2148d32c",
   "metadata": {},
   "source": [
    "### 2.Len()"
   ]
  },
  {
   "cell_type": "code",
   "execution_count": 12,
   "id": "4304c01e",
   "metadata": {},
   "outputs": [
    {
     "data": {
      "text/plain": [
       "5"
      ]
     },
     "execution_count": 12,
     "metadata": {},
     "output_type": "execute_result"
    }
   ],
   "source": [
    "len(set4)"
   ]
  },
  {
   "cell_type": "markdown",
   "id": "d5af6cc8",
   "metadata": {},
   "source": [
    "### 3.Update() \n",
    "update function is used to new set into old set"
   ]
  },
  {
   "cell_type": "code",
   "execution_count": 14,
   "id": "19d981bc",
   "metadata": {},
   "outputs": [
    {
     "name": "stdout",
     "output_type": "stream",
     "text": [
      "{1, 'b', 2, 3, 'Python', 'a'}\n"
     ]
    }
   ],
   "source": [
    "a={'a','b','Python'}\n",
    "b={1,2,3}\n",
    "\n",
    "a.update(b)\n",
    "print(a)"
   ]
  },
  {
   "cell_type": "code",
   "execution_count": 21,
   "id": "e53435c1",
   "metadata": {},
   "outputs": [
    {
     "name": "stdout",
     "output_type": "stream",
     "text": [
      "{1, 'Python', 10.7}\n",
      "{3, 11.8, 7}\n",
      "Updated value of the set: {1, 10.7, 3, 7, 'Python', 11.8}\n"
     ]
    }
   ],
   "source": [
    "set1={'Python',1,10.7}\n",
    "print(set1)\n",
    "set2={3,7,11.8}\n",
    "print(set2)\n",
    "set1.update(set2)\n",
    "print('Updated value of the set:',set1)\n",
    "\n"
   ]
  },
  {
   "cell_type": "markdown",
   "id": "38c4f733",
   "metadata": {},
   "source": [
    "### 4.Union"
   ]
  },
  {
   "cell_type": "code",
   "execution_count": 24,
   "id": "5df1a492",
   "metadata": {},
   "outputs": [
    {
     "data": {
      "text/plain": [
       "{1, 2, 4, 7, 9, 10}"
      ]
     },
     "execution_count": 24,
     "metadata": {},
     "output_type": "execute_result"
    }
   ],
   "source": [
    "a={1,2,4}\n",
    "c={7,9,10}\n",
    "\n",
    "a.union(c)"
   ]
  },
  {
   "cell_type": "code",
   "execution_count": 25,
   "id": "ab9573bc",
   "metadata": {},
   "outputs": [
    {
     "data": {
      "text/plain": [
       "{1, 10.7, 6, 7, 'DA', 'DS'}"
      ]
     },
     "execution_count": 25,
     "metadata": {},
     "output_type": "execute_result"
    }
   ],
   "source": [
    "set3={'DA','DS',1,10.7}\n",
    "set4={1,6,7,10.7}\n",
    "\n",
    "set3.union(set4)\n"
   ]
  },
  {
   "cell_type": "markdown",
   "id": "2230145e",
   "metadata": {},
   "source": [
    "### 5.Intersection\n",
    "taking common element from the two sets"
   ]
  },
  {
   "cell_type": "code",
   "execution_count": 30,
   "id": "b35b7b40",
   "metadata": {},
   "outputs": [
    {
     "data": {
      "text/plain": [
       "{1}"
      ]
     },
     "execution_count": 30,
     "metadata": {},
     "output_type": "execute_result"
    }
   ],
   "source": [
    "set6={1,3,6,8}\n",
    "set7={1,5,7,10,11}\n",
    "\n",
    "set6.intersection(set7)"
   ]
  },
  {
   "cell_type": "code",
   "execution_count": 31,
   "id": "03077aed",
   "metadata": {},
   "outputs": [
    {
     "data": {
      "text/plain": [
       "{1, 'DA'}"
      ]
     },
     "execution_count": 31,
     "metadata": {},
     "output_type": "execute_result"
    }
   ],
   "source": [
    "set6={1,3,6,8,'DA'}\n",
    "set7={1,5,7,10,11,'DA'}\n",
    "\n",
    "set6.intersection(set7)"
   ]
  },
  {
   "cell_type": "markdown",
   "id": "24ae518b",
   "metadata": {},
   "source": [
    "### 5.Pop()\n",
    "deleate any element from the set"
   ]
  },
  {
   "cell_type": "code",
   "execution_count": 32,
   "id": "93125b9b",
   "metadata": {},
   "outputs": [
    {
     "data": {
      "text/plain": [
       "{10, 11, 'Python'}"
      ]
     },
     "execution_count": 32,
     "metadata": {},
     "output_type": "execute_result"
    }
   ],
   "source": [
    "new_set={11,17,10,'Python'}\n",
    "new_set.pop()\n",
    "new_set"
   ]
  },
  {
   "cell_type": "markdown",
   "id": "9a68573a",
   "metadata": {},
   "source": [
    "### 6.Remove()"
   ]
  },
  {
   "cell_type": "code",
   "execution_count": 39,
   "id": "df536a67",
   "metadata": {},
   "outputs": [
    {
     "data": {
      "text/plain": [
       "{45, 66, 77, 89}"
      ]
     },
     "execution_count": 39,
     "metadata": {},
     "output_type": "execute_result"
    }
   ],
   "source": [
    "data={11,45,66,77,89}\n",
    "data.remove(11)\n",
    "data\n"
   ]
  },
  {
   "cell_type": "markdown",
   "id": "cac1bb8a",
   "metadata": {},
   "source": [
    "### 7.Copy()"
   ]
  },
  {
   "cell_type": "code",
   "execution_count": 43,
   "id": "b31d7c03",
   "metadata": {},
   "outputs": [
    {
     "name": "stdout",
     "output_type": "stream",
     "text": [
      "{66, 77, 89, 11, 45}\n"
     ]
    }
   ],
   "source": [
    "data={11,45,66,77,89}\n",
    "data1=data.copy()\n",
    "print(data1)"
   ]
  },
  {
   "cell_type": "markdown",
   "id": "3c510d04",
   "metadata": {},
   "source": [
    "### 8.Clear()"
   ]
  },
  {
   "cell_type": "code",
   "execution_count": 44,
   "id": "3ea7305f",
   "metadata": {},
   "outputs": [],
   "source": [
    "data.clear()"
   ]
  },
  {
   "cell_type": "code",
   "execution_count": 45,
   "id": "6826abcb",
   "metadata": {},
   "outputs": [
    {
     "data": {
      "text/plain": [
       "set()"
      ]
     },
     "execution_count": 45,
     "metadata": {},
     "output_type": "execute_result"
    }
   ],
   "source": [
    "data"
   ]
  },
  {
   "cell_type": "code",
   "execution_count": 46,
   "id": "3224abbb",
   "metadata": {},
   "outputs": [
    {
     "name": "stdout",
     "output_type": "stream",
     "text": [
      "{'CSK', 'GT', 'MI'}\n",
      "set()\n"
     ]
    }
   ],
   "source": [
    "set1={'MI','CSK','GT'}\n",
    "print(set1)\n",
    "set1.clear()\n",
    "print(set1)"
   ]
  },
  {
   "cell_type": "code",
   "execution_count": null,
   "id": "0e519abf",
   "metadata": {},
   "outputs": [],
   "source": []
  }
 ],
 "metadata": {
  "kernelspec": {
   "display_name": "Python 3 (ipykernel)",
   "language": "python",
   "name": "python3"
  },
  "language_info": {
   "codemirror_mode": {
    "name": "ipython",
    "version": 3
   },
   "file_extension": ".py",
   "mimetype": "text/x-python",
   "name": "python",
   "nbconvert_exporter": "python",
   "pygments_lexer": "ipython3",
   "version": "3.10.9"
  }
 },
 "nbformat": 4,
 "nbformat_minor": 5
}
