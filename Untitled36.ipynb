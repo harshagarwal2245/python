{
  "cells": [
    {
      "cell_type": "markdown",
      "metadata": {
        "id": "9kANfwchHeMy"
      },
      "source": [
        "q1\n",
        "```\n",
        "\n"
      ]
    },
    {
      "cell_type": "code",
      "execution_count": null,
      "metadata": {
        "id": "Hqc5_EMnFSmo"
      },
      "outputs": [],
      "source": [
        "a='my name is sachit'\n",
        "print(len(a))\n"
      ]
    },
    {
      "cell_type": "markdown",
      "metadata": {
        "id": "-9SzLUzPH1hg"
      },
      "source": [
        "q2"
      ]
    },
    {
      "cell_type": "code",
      "execution_count": 4,
      "metadata": {
        "colab": {
          "base_uri": "https://localhost:8080/"
        },
        "id": "YxfsHDHvH3Sz",
        "outputId": "a57e4220-4b6f-47cb-be33-4830091daf6a"
      },
      "outputs": [
        {
          "output_type": "stream",
          "name": "stdout",
          "text": [
            "2\n",
            "2\n",
            "1\n",
            "1\n"
          ]
        }
      ],
      "source": [
        "b='google'\n",
        "print(b.count('g'))\n",
        "print(b.count('o'))\n",
        "print(b.count('l'))\n",
        "print(b.count('e'))\n"
      ]
    },
    {
      "cell_type": "code",
      "source": [
        "b=\"harsh\"\n",
        "b[0:2]"
      ],
      "metadata": {
        "colab": {
          "base_uri": "https://localhost:8080/",
          "height": 36
        },
        "id": "uDIeh0YpJwc6",
        "outputId": "d99f7283-7dea-459b-b099-26fc48d960fa"
      },
      "execution_count": 10,
      "outputs": [
        {
          "output_type": "execute_result",
          "data": {
            "text/plain": [
              "'ha'"
            ],
            "application/vnd.google.colaboratory.intrinsic+json": {
              "type": "string"
            }
          },
          "metadata": {},
          "execution_count": 10
        }
      ]
    },
    {
      "cell_type": "markdown",
      "source": [
        "q3"
      ],
      "metadata": {
        "id": "YQ6AqiHi-8dK"
      }
    },
    {
      "cell_type": "code",
      "source": [
        "b = input(\"Enter string\")\n",
        "length_of_string = len(b)\n",
        "if(length_of_string <2):\n",
        "  print(\" \")\n",
        "if (length_of_string in [2,4]):\n",
        "  print(b)\n",
        "if(length_of_string == 3):\n",
        "   print(b[:2])  \n",
        "if (length_of_string > 4):\n",
        " print(b[0:2]+b[-2:])\n",
        " "
      ],
      "metadata": {
        "colab": {
          "base_uri": "https://localhost:8080/"
        },
        "id": "eY0C4MekKNK1",
        "outputId": "1ce844a0-0c5f-48cb-dcd5-62e0352f474e"
      },
      "execution_count": 18,
      "outputs": [
        {
          "output_type": "stream",
          "name": "stdout",
          "text": [
            "Enter stringhi\n",
            "hi\n"
          ]
        }
      ]
    },
    {
      "cell_type": "markdown",
      "source": [
        "q4"
      ],
      "metadata": {
        "id": "JQpnuALG_lEa"
      }
    },
    {
      "cell_type": "code",
      "source": [
        "string5=input('enter string')\n",
        "l=string5[1:].replace(string5[0],'$', 1)\n",
        "print(string5[0]+l)"
      ],
      "metadata": {
        "colab": {
          "base_uri": "https://localhost:8080/"
        },
        "id": "_CW13dhnNIka",
        "outputId": "f941a39c-76c6-459a-b776-893a74ab1ff0"
      },
      "execution_count": 65,
      "outputs": [
        {
          "output_type": "stream",
          "name": "stdout",
          "text": [
            "enter stringgoogle\n",
            "goo/le\n"
          ]
        }
      ]
    },
    {
      "cell_type": "markdown",
      "source": [
        "q5"
      ],
      "metadata": {
        "id": "c9Q9hIo8_t3C"
      }
    },
    {
      "cell_type": "code",
      "source": [
        "string2=input('enter string1')\n",
        "string3=input('enter string2')\n",
        "string3[0:2]\n",
        "string = string2.replace(string2[0:2],string3[0:2])\n",
        "print(string)\n",
        "string2[0:2]\n",
        "string1=string3.replace(string3[0:2],string2[0:2])\n",
        "print(string1)"
      ],
      "metadata": {
        "colab": {
          "base_uri": "https://localhost:8080/"
        },
        "id": "z4P5yWweOsde",
        "outputId": "8bcd96e7-6d6f-4fdc-9ba2-5705cf883004"
      },
      "execution_count": 3,
      "outputs": [
        {
          "output_type": "stream",
          "name": "stdout",
          "text": [
            "enter string1abc\n",
            "enter string2xyz\n",
            "xyc\n",
            "abz\n"
          ]
        }
      ]
    },
    {
      "cell_type": "code",
      "source": [
        "old_string = \"hello\"\n",
        "new_string = \"hiii\"\n",
        "old_string.replace(old_string[0:2],new_string[0:2],)\n",
        "print(old_string)"
      ],
      "metadata": {
        "colab": {
          "base_uri": "https://localhost:8080/"
        },
        "id": "7PJB59AyKXNJ",
        "outputId": "8eeb5fa1-6f0c-451c-a0a9-8c10a0139953"
      },
      "execution_count": 2,
      "outputs": [
        {
          "output_type": "stream",
          "name": "stdout",
          "text": [
            "hello\n"
          ]
        }
      ]
    },
    {
      "cell_type": "code",
      "source": [
        "l=[]\n",
        "for i in range(1,5):\n",
        "  l.append(i)"
      ],
      "metadata": {
        "id": "x3WlN9e_TLeT"
      },
      "execution_count": 66,
      "outputs": []
    },
    {
      "cell_type": "code",
      "source": [
        "l"
      ],
      "metadata": {
        "colab": {
          "base_uri": "https://localhost:8080/"
        },
        "id": "FRRitzvdnQCi",
        "outputId": "2b971301-d911-41c2-d955-5f1d565c4efa"
      },
      "execution_count": 67,
      "outputs": [
        {
          "output_type": "execute_result",
          "data": {
            "text/plain": [
              "[1, 2, 3, 4]"
            ]
          },
          "metadata": {},
          "execution_count": 67
        }
      ]
    },
    {
      "cell_type": "code",
      "source": [
        "l = [i for i in range(1,5)]\n",
        "print(l)"
      ],
      "metadata": {
        "colab": {
          "base_uri": "https://localhost:8080/"
        },
        "id": "0uZr5R3PnRYx",
        "outputId": "294ce104-0fea-426a-dbe5-3cc1059550a0"
      },
      "execution_count": 69,
      "outputs": [
        {
          "output_type": "stream",
          "name": "stdout",
          "text": [
            "[1, 2, 3, 4]\n"
          ]
        }
      ]
    },
    {
      "cell_type": "code",
      "source": [
        "d = {i:i+1 for i in range(1,5)}"
      ],
      "metadata": {
        "id": "MfsDVrW6nV0Y"
      },
      "execution_count": 70,
      "outputs": []
    },
    {
      "cell_type": "code",
      "source": [
        "d"
      ],
      "metadata": {
        "colab": {
          "base_uri": "https://localhost:8080/"
        },
        "id": "DYMaD0P9nmg3",
        "outputId": "3a1b7467-952e-4a47-ab58-c1f764cad04d"
      },
      "execution_count": 71,
      "outputs": [
        {
          "output_type": "execute_result",
          "data": {
            "text/plain": [
              "{1: 2, 2: 3, 3: 4, 4: 5}"
            ]
          },
          "metadata": {},
          "execution_count": 71
        }
      ]
    },
    {
      "cell_type": "markdown",
      "source": [
        "q8"
      ],
      "metadata": {
        "id": "luqZtWYY_4y6"
      }
    },
    {
      "cell_type": "code",
      "source": [
        "l = [\"hi\",\"hello\",\"hey\"]\n",
        "l"
      ],
      "metadata": {
        "colab": {
          "base_uri": "https://localhost:8080/"
        },
        "id": "yVfJ1vXOnnj9",
        "outputId": "b48c5220-dbd3-40e0-d2ef-49c7c1b3f2cc"
      },
      "execution_count": 73,
      "outputs": [
        {
          "output_type": "execute_result",
          "data": {
            "text/plain": [
              "['hi', 'hello', 'hey']"
            ]
          },
          "metadata": {},
          "execution_count": 73
        }
      ]
    },
    {
      "cell_type": "code",
      "source": [
        "max([len(i) for i in l])"
      ],
      "metadata": {
        "colab": {
          "base_uri": "https://localhost:8080/"
        },
        "id": "KnNSk-eAnuG9",
        "outputId": "aa09bfd1-76a3-447c-d8a2-7ef82dbe4d4c"
      },
      "execution_count": 74,
      "outputs": [
        {
          "output_type": "execute_result",
          "data": {
            "text/plain": [
              "5"
            ]
          },
          "metadata": {},
          "execution_count": 74
        }
      ]
    },
    {
      "cell_type": "code",
      "source": [],
      "metadata": {
        "id": "IXygCy2OABnY"
      },
      "execution_count": null,
      "outputs": []
    },
    {
      "cell_type": "markdown",
      "source": [
        "q9"
      ],
      "metadata": {
        "id": "vmR-XvwCABNH"
      }
    },
    {
      "cell_type": "code",
      "source": [
        "a=input(\" enter string\")\n",
        "c=a.removesuffix(a[-1])      \n",
        "print(c)"
      ],
      "metadata": {
        "colab": {
          "base_uri": "https://localhost:8080/"
        },
        "id": "OPvTrHulACwW",
        "outputId": "7e5bf5cf-80c9-49cd-b11b-c74d0725ed22"
      },
      "execution_count": 19,
      "outputs": [
        {
          "output_type": "stream",
          "name": "stdout",
          "text": [
            " enter stringremove\n",
            "remov\n"
          ]
        }
      ]
    },
    {
      "cell_type": "code",
      "source": [],
      "metadata": {
        "id": "6XvXmnDYD5YN"
      },
      "execution_count": null,
      "outputs": []
    },
    {
      "cell_type": "markdown",
      "source": [
        "q6"
      ],
      "metadata": {
        "id": "hZK4iypTD5x2"
      }
    },
    {
      "cell_type": "code",
      "source": [
        "a=input('enter string')\n",
        "if(a.find(\"ing\") != -1):\n",
        "  a = a + \"ny\"\n",
        "else:\n",
        "  a =a + \"ing\"  \n",
        "print(a)"
      ],
      "metadata": {
        "colab": {
          "base_uri": "https://localhost:8080/"
        },
        "id": "jvHJDK5HEgly",
        "outputId": "1297ca24-bb80-457c-c51f-794366cfc6a0"
      },
      "execution_count": 26,
      "outputs": [
        {
          "output_type": "stream",
          "name": "stdout",
          "text": [
            "enter stringhashi\n",
            "hashiing\n"
          ]
        }
      ]
    },
    {
      "cell_type": "code",
      "source": [
        "a=input('enter string')\n",
        "c=a[:-3]\n",
        "if c==\"ing\":\n",
        " a= a+\"ly\"\n",
        "else:\n",
        " a=a+\"ing\"\n",
        "print(a)"
      ],
      "metadata": {
        "colab": {
          "base_uri": "https://localhost:8080/"
        },
        "id": "IYsL1OmZDs43",
        "outputId": "086715d3-7d06-4cc4-dcbb-a5f1cb771cb0"
      },
      "execution_count": 30,
      "outputs": [
        {
          "output_type": "stream",
          "name": "stdout",
          "text": [
            "enter stringhi\n",
            "hiing\n"
          ]
        }
      ]
    },
    {
      "cell_type": "markdown",
      "source": [],
      "metadata": {
        "id": "YrGLKeh1IiLM"
      }
    },
    {
      "cell_type": "code",
      "source": [],
      "metadata": {
        "id": "fXDVsMgbIMQv"
      },
      "execution_count": null,
      "outputs": []
    },
    {
      "cell_type": "markdown",
      "source": [
        "q7"
      ],
      "metadata": {
        "id": "x3eXvlmCT5yY"
      }
    },
    {
      "cell_type": "code",
      "source": [
        "c=input('enter string')\n",
        "if (a.find(\"not poor\")):\n",
        "  d=c.replace(\"not poor\",\"good\")\n",
        "  print(d)\n",
        "else: \n",
        "  print(c)\n",
        "\n"
      ],
      "metadata": {
        "colab": {
          "base_uri": "https://localhost:8080/"
        },
        "id": "J7BxY4aRT6hB",
        "outputId": "9af401fe-753e-41bf-ef87-b9bae6c30548"
      },
      "execution_count": 53,
      "outputs": [
        {
          "output_type": "stream",
          "name": "stdout",
          "text": [
            "enter stringhe is poor\n",
            "he is poor\n"
          ]
        }
      ]
    },
    {
      "cell_type": "code",
      "source": [],
      "metadata": {
        "id": "rb48PMI-Wg8T"
      },
      "execution_count": null,
      "outputs": []
    },
    {
      "cell_type": "markdown",
      "source": [
        "q10"
      ],
      "metadata": {
        "id": "xBnhY7dnXmr-"
      }
    },
    {
      "cell_type": "code",
      "source": [],
      "metadata": {
        "id": "8k6ylxoLXV_H"
      },
      "execution_count": null,
      "outputs": []
    },
    {
      "cell_type": "code",
      "source": [],
      "metadata": {
        "id": "2wZDzZ9LXzF7"
      },
      "execution_count": 36,
      "outputs": []
    },
    {
      "cell_type": "markdown",
      "source": [
        "q10"
      ],
      "metadata": {
        "id": "jgWBXvkJfYB-"
      }
    },
    {
      "cell_type": "code",
      "source": [
        "string6=input('enter string')\n",
        "string6[0]\n",
        "string6[-1]\n",
        "d=string6.replace(string6[-1],string6[0] )\n",
        "d=string6.replace(string6[0],string6[-1])\n",
        "print(d)"
      ],
      "metadata": {
        "colab": {
          "base_uri": "https://localhost:8080/"
        },
        "id": "d2oUCk-_X-JV",
        "outputId": "d0561297-f1fe-4856-e036-12861ac174f1"
      },
      "execution_count": 54,
      "outputs": [
        {
          "output_type": "stream",
          "name": "stdout",
          "text": [
            "enter stringhello\n",
            "oello\n"
          ]
        }
      ]
    },
    {
      "cell_type": "code",
      "source": [
        "string6 = \"hello\"\n",
        "x= string6[0]\n",
        "y = string6[-1]\n",
        "temp = string6[0]\n",
        "string6=string6.replace(string6[-1],string6[0],1)\n",
        "\n",
        "string6=string6.replace(string6[0],y,1)\n",
        "print(string6)\n"
      ],
      "metadata": {
        "colab": {
          "base_uri": "https://localhost:8080/"
        },
        "id": "zixtTE4jY1vv",
        "outputId": "2e1f3ad8-4265-44df-db0a-6bebf7a3b5d2"
      },
      "execution_count": 59,
      "outputs": [
        {
          "output_type": "stream",
          "name": "stdout",
          "text": [
            "oellh\n"
          ]
        }
      ]
    },
    {
      "cell_type": "code",
      "source": [],
      "metadata": {
        "id": "IRsZ6oWBeiUM"
      },
      "execution_count": null,
      "outputs": []
    }
  ],
  "metadata": {
    "colab": {
      "provenance": []
    },
    "kernelspec": {
      "display_name": "Python 3",
      "name": "python3"
    },
    "language_info": {
      "name": "python"
    }
  },
  "nbformat": 4,
  "nbformat_minor": 0
}