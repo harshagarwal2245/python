{
 "cells": [
  {
   "cell_type": "markdown",
   "id": "aa6d960a",
   "metadata": {},
   "source": [
    " Dictinoary:\n",
    "    1.It is used to mapping the data in the key values pair.\n",
    "    2.{}\n",
    "    3.Key : values\n",
    "    4.Ordered\n",
    "    5.Duplicate values are alloewd only for the values not key.\n",
    "    5.Allowed heterogenous elements.(mixed data type like int,folat,complex,list etc)"
   ]
  },
  {
   "cell_type": "markdown",
   "id": "52f8c77a",
   "metadata": {},
   "source": [
    "### 1.Empty Dict"
   ]
  },
  {
   "cell_type": "code",
   "execution_count": 1,
   "id": "e4b78fca",
   "metadata": {},
   "outputs": [
    {
     "name": "stdout",
     "output_type": "stream",
     "text": [
      "<class 'dict'>\n"
     ]
    }
   ],
   "source": [
    "a={}\n",
    "print(type(a))"
   ]
  },
  {
   "cell_type": "code",
   "execution_count": 18,
   "id": "5836f07c",
   "metadata": {},
   "outputs": [
    {
     "name": "stdout",
     "output_type": "stream",
     "text": [
      "<class 'dict'>\n"
     ]
    }
   ],
   "source": [
    "b=dict()\n",
    "print(type(b))"
   ]
  },
  {
   "cell_type": "markdown",
   "id": "55359f91",
   "metadata": {},
   "source": [
    "### 2.How to create dict."
   ]
  },
  {
   "cell_type": "code",
   "execution_count": 6,
   "id": "6a507dc5",
   "metadata": {},
   "outputs": [
    {
     "name": "stdout",
     "output_type": "stream",
     "text": [
      "Dict.of student: {'Name': 'John', 'Age': 20, 'Marks': 90, 'Address': 'XYZ'}\n"
     ]
    }
   ],
   "source": [
    "students={'Name':'John','Age':20,'Marks':90,'Address':'XYZ'}\n",
    "print('Dict.of student:',students)"
   ]
  },
  {
   "cell_type": "code",
   "execution_count": 7,
   "id": "bb1be983",
   "metadata": {},
   "outputs": [
    {
     "name": "stdout",
     "output_type": "stream",
     "text": [
      "Dict.of student: {'Name': 'John', 'Age': 20, 'Marks': 20, 'Address': 'XYZ'}\n"
     ]
    }
   ],
   "source": [
    "students={'Name':'John','Age':20,'Marks':20,'Address':'XYZ'}\n",
    "print('Dict.of student:',students)"
   ]
  },
  {
   "cell_type": "code",
   "execution_count": 9,
   "id": "ac3a1e5f",
   "metadata": {},
   "outputs": [
    {
     "name": "stdout",
     "output_type": "stream",
     "text": [
      "Hetergenous numbers: {'Name': 'ABC', 'int_no': 3, 'Complex_no': (1+2j), 'list': [12, 13, 14]}\n"
     ]
    }
   ],
   "source": [
    "Number={'Name':'ABC','int_no':3,'Complex_no':1+2j,'list':[12,13,14]}\n",
    "print('Hetergenous numbers:',Number)"
   ]
  },
  {
   "cell_type": "code",
   "execution_count": null,
   "id": "67bbf74c",
   "metadata": {},
   "outputs": [],
   "source": []
  },
  {
   "cell_type": "markdown",
   "id": "c5fe28ce",
   "metadata": {},
   "source": [
    "dict()  It is constructor used to create the dict."
   ]
  },
  {
   "cell_type": "code",
   "execution_count": 17,
   "id": "e804ff41",
   "metadata": {},
   "outputs": [
    {
     "name": "stdout",
     "output_type": "stream",
     "text": [
      "{'Name': 'John', 'Age': 30}\n",
      "<class 'dict'>\n"
     ]
    }
   ],
   "source": [
    "players=dict(Name='John',Age=30)\n",
    "print(players)\n",
    "print(type(players))"
   ]
  },
  {
   "cell_type": "markdown",
   "id": "3968a2c0",
   "metadata": {},
   "source": [
    "### Function/Methods of dict."
   ]
  },
  {
   "cell_type": "markdown",
   "id": "00642527",
   "metadata": {},
   "source": [
    "### 1.Len()   Count the length of dict."
   ]
  },
  {
   "cell_type": "code",
   "execution_count": 21,
   "id": "a51a75dc",
   "metadata": {},
   "outputs": [
    {
     "name": "stdout",
     "output_type": "stream",
     "text": [
      "Dict.of student: {'Name': 'John', 'Age': 20, 'Marks': 90, 'Address': 'XYZ'}\n",
      "4\n"
     ]
    }
   ],
   "source": [
    "students={'Name':'John','Age':20,'Marks':90,'Address':'XYZ'}\n",
    "print('Dict.of student:',students)\n",
    "print(len(students))"
   ]
  },
  {
   "cell_type": "markdown",
   "id": "b6676cfa",
   "metadata": {},
   "source": [
    "### 2.Keys() Used to return the keys."
   ]
  },
  {
   "cell_type": "code",
   "execution_count": 22,
   "id": "fe7fa945",
   "metadata": {},
   "outputs": [
    {
     "data": {
      "text/plain": [
       "dict_keys(['Name', 'Age', 'Marks', 'Address'])"
      ]
     },
     "execution_count": 22,
     "metadata": {},
     "output_type": "execute_result"
    }
   ],
   "source": [
    "students.keys()"
   ]
  },
  {
   "cell_type": "markdown",
   "id": "3f5004f3",
   "metadata": {},
   "source": [
    "### 3.Values() Used to return the values."
   ]
  },
  {
   "cell_type": "code",
   "execution_count": 23,
   "id": "ec851670",
   "metadata": {},
   "outputs": [
    {
     "data": {
      "text/plain": [
       "dict_values(['John', 20, 90, 'XYZ'])"
      ]
     },
     "execution_count": 23,
     "metadata": {},
     "output_type": "execute_result"
    }
   ],
   "source": [
    "students.values()"
   ]
  },
  {
   "cell_type": "markdown",
   "id": "b6af5a87",
   "metadata": {},
   "source": [
    "### 4.Items "
   ]
  },
  {
   "cell_type": "code",
   "execution_count": 24,
   "id": "681971d1",
   "metadata": {},
   "outputs": [
    {
     "data": {
      "text/plain": [
       "dict_items([('Name', 'John'), ('Age', 20), ('Marks', 90), ('Address', 'XYZ')])"
      ]
     },
     "execution_count": 24,
     "metadata": {},
     "output_type": "execute_result"
    }
   ],
   "source": [
    "students.items()"
   ]
  },
  {
   "cell_type": "markdown",
   "id": "f87dc94e",
   "metadata": {},
   "source": [
    "### 5.Get ()"
   ]
  },
  {
   "cell_type": "code",
   "execution_count": 27,
   "id": "2c4fb40a",
   "metadata": {},
   "outputs": [
    {
     "data": {
      "text/plain": [
       "20"
      ]
     },
     "execution_count": 27,
     "metadata": {},
     "output_type": "execute_result"
    }
   ],
   "source": [
    "students.get('Age')"
   ]
  },
  {
   "cell_type": "code",
   "execution_count": 28,
   "id": "d3d4b91c",
   "metadata": {},
   "outputs": [
    {
     "ename": "TypeError",
     "evalue": "get expected at least 1 argument, got 0",
     "output_type": "error",
     "traceback": [
      "\u001b[1;31m---------------------------------------------------------------------------\u001b[0m",
      "\u001b[1;31mTypeError\u001b[0m                                 Traceback (most recent call last)",
      "Cell \u001b[1;32mIn[28], line 1\u001b[0m\n\u001b[1;32m----> 1\u001b[0m \u001b[43mstudents\u001b[49m\u001b[38;5;241;43m.\u001b[39;49m\u001b[43mget\u001b[49m\u001b[43m(\u001b[49m\u001b[43m)\u001b[49m\n",
      "\u001b[1;31mTypeError\u001b[0m: get expected at least 1 argument, got 0"
     ]
    }
   ],
   "source": [
    "students.get()"
   ]
  },
  {
   "cell_type": "code",
   "execution_count": null,
   "id": "1c0e85db",
   "metadata": {},
   "outputs": [],
   "source": []
  }
 ],
 "metadata": {
  "kernelspec": {
   "display_name": "Python 3 (ipykernel)",
   "language": "python",
   "name": "python3"
  },
  "language_info": {
   "codemirror_mode": {
    "name": "ipython",
    "version": 3
   },
   "file_extension": ".py",
   "mimetype": "text/x-python",
   "name": "python",
   "nbconvert_exporter": "python",
   "pygments_lexer": "ipython3",
   "version": "3.10.9"
  }
 },
 "nbformat": 4,
 "nbformat_minor": 5
}
