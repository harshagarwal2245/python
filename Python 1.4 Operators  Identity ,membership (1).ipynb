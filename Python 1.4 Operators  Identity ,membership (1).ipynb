{
 "cells": [
  {
   "cell_type": "markdown",
   "metadata": {},
   "source": [
    "\n",
    "# Python Operators "
   ]
  },
  {
   "cell_type": "markdown",
   "metadata": {},
   "source": [
    "1- Operators are the special symbols in python that can carry out arithmetic or logical compution.\n",
    "2- Simply operators is a symbol that perform certain operations."
   ]
  },
  {
   "cell_type": "markdown",
   "metadata": {},
   "source": [
    "# 1. Arithmetic operator"
   ]
  },
  {
   "cell_type": "code",
   "execution_count": 1,
   "metadata": {},
   "outputs": [
    {
     "name": "stdout",
     "output_type": "stream",
     "text": [
      "x+y: 17\n",
      "x-y: 9\n",
      "x*y: 52\n",
      "x/y: 3.25\n",
      "x%y: 1\n",
      "x//y: 3\n",
      "x**y: 28561\n"
     ]
    }
   ],
   "source": [
    "x=13\n",
    "y=4\n",
    "\n",
    "print(\"x+y:\",x+y)\n",
    "print(\"x-y:\",x-y)\n",
    "print(\"x*y:\",x*y)\n",
    "print(\"x/y:\",x/y)\n",
    "print(\"x%y:\",x%y)\n",
    "print(\"x//y:\",x//y)\n",
    "print(\"x**y:\",x**y)\n"
   ]
  },
  {
   "cell_type": "markdown",
   "metadata": {},
   "source": [
    "# 2. Comparison Operator"
   ]
  },
  {
   "cell_type": "markdown",
   "metadata": {},
   "source": [
    "True or False\n",
    "\n",
    "If condition is valid then return True else return False"
   ]
  },
  {
   "cell_type": "code",
   "execution_count": 12,
   "metadata": {},
   "outputs": [
    {
     "name": "stdout",
     "output_type": "stream",
     "text": [
      "x>y: True\n",
      "x<y: False\n",
      "x==y: False\n",
      "x!=y: True\n",
      "x>=y: True\n",
      "x<=y: False\n"
     ]
    }
   ],
   "source": [
    "x=12\n",
    "y=4\n",
    "\n",
    "print(\"x>y:\",x>y)\n",
    "print(\"x<y:\",x<y)\n",
    "print(\"x==y:\",x==y)\n",
    "print(\"x!=y:\",x!=y)\n",
    "print(\"x>=y:\",x>=y)\n",
    "print(\"x<=y:\",x<=y)\n",
    "\n"
   ]
  },
  {
   "cell_type": "code",
   "execution_count": 14,
   "metadata": {},
   "outputs": [
    {
     "data": {
      "text/plain": [
       "False"
      ]
     },
     "execution_count": 14,
     "metadata": {},
     "output_type": "execute_result"
    }
   ],
   "source": [
    "x=12\n",
    "y=4\n",
    "\n",
    "x>y\n",
    "x<y"
   ]
  },
  {
   "cell_type": "code",
   "execution_count": null,
   "metadata": {},
   "outputs": [],
   "source": []
  },
  {
   "cell_type": "markdown",
   "metadata": {},
   "source": [
    "# 3 .Logical Operator"
   ]
  },
  {
   "cell_type": "markdown",
   "metadata": {},
   "source": [
    "and : If x and y both are true then it return True\n",
    "or  : Eighter x or y is true then it return True\n",
    "not : If x is true it return False"
   ]
  },
  {
   "cell_type": "code",
   "execution_count": 23,
   "metadata": {},
   "outputs": [
    {
     "name": "stdout",
     "output_type": "stream",
     "text": [
      "x and y: False\n",
      "x or y: True\n",
      "not x: False\n"
     ]
    }
   ],
   "source": [
    "x=True\n",
    "y=False\n",
    "\n",
    "print('x and y:',x and y)\n",
    "print('x or y:',x or y)\n",
    "print('not x:',not x)"
   ]
  },
  {
   "cell_type": "code",
   "execution_count": 24,
   "metadata": {
    "scrolled": true
   },
   "outputs": [
    {
     "name": "stdout",
     "output_type": "stream",
     "text": [
      "x and y: True\n",
      "x or y: True\n",
      "not x: False\n"
     ]
    }
   ],
   "source": [
    "x=True\n",
    "y=True\n",
    "\n",
    "print('x and y:',x and y)\n",
    "print('x or y:',x or y)\n",
    "print('not x:',not x)"
   ]
  },
  {
   "cell_type": "markdown",
   "metadata": {},
   "source": [
    "# Type casting(Conversion)"
   ]
  },
  {
   "cell_type": "markdown",
   "metadata": {},
   "source": [
    "-Type casting : conversion of one data type to another data type\n",
    "\n",
    "There are two types:\n",
    "\n",
    "1. Implicit : Automatically done by python interpreter.\n",
    "2. Explicit : Done by user\n",
    "\n",
    "Key points to remember:\n",
    "\n",
    "1.Loss of data is not in implicit.\n",
    "2.Loss of data in Explicit."
   ]
  },
  {
   "cell_type": "code",
   "execution_count": null,
   "metadata": {},
   "outputs": [],
   "source": []
  },
  {
   "cell_type": "code",
   "execution_count": null,
   "metadata": {},
   "outputs": [],
   "source": []
  },
  {
   "cell_type": "markdown",
   "metadata": {},
   "source": [
    "# Input Function\n",
    "\n",
    " #### 1.It is built in function\n",
    " #### 2.Allowing user input\n",
    " #### 3.By default data type of input function is string we need to convert it."
   ]
  },
  {
   "cell_type": "code",
   "execution_count": 27,
   "metadata": {},
   "outputs": [
    {
     "name": "stdout",
     "output_type": "stream",
     "text": [
      "enter the number:3\n"
     ]
    },
    {
     "data": {
      "text/plain": [
       "str"
      ]
     },
     "execution_count": 27,
     "metadata": {},
     "output_type": "execute_result"
    }
   ],
   "source": [
    "a=input('enter the number:')\n",
    "type(a)"
   ]
  },
  {
   "cell_type": "code",
   "execution_count": 29,
   "metadata": {},
   "outputs": [
    {
     "name": "stdout",
     "output_type": "stream",
     "text": [
      "enter the number:5\n"
     ]
    },
    {
     "data": {
      "text/plain": [
       "int"
      ]
     },
     "execution_count": 29,
     "metadata": {},
     "output_type": "execute_result"
    }
   ],
   "source": [
    "b=int(input('enter the number:'))\n",
    "type(b)"
   ]
  },
  {
   "cell_type": "markdown",
   "metadata": {},
   "source": [
    "### Airthmetic operations using input command"
   ]
  },
  {
   "cell_type": "code",
   "execution_count": 3,
   "metadata": {
    "scrolled": true
   },
   "outputs": [
    {
     "name": "stdout",
     "output_type": "stream",
     "text": [
      "Enter first number:7\n",
      "Enter second number:2\n",
      "-------------------\n",
      "Addition of the two numbers is: 9\n",
      "Substraction of the two numbers is: 5\n",
      "Multiplication of the two numbers is: 14\n",
      "Division of the two numbers is: 3.5\n",
      "Modulus of the two numbers is: 1\n",
      "Exponential of the two numbers is: 49\n",
      "The floor division of the two number: 3\n"
     ]
    }
   ],
   "source": [
    "num1=int(input('Enter first number:'))\n",
    "num2=int(input('Enter second number:'))\n",
    "print('-------------------')\n",
    "print('Addition of the two numbers is:',num1+num2)\n",
    "print('Substraction of the two numbers is:',num1-num2)\n",
    "print('Multiplication of the two numbers is:',num1*num2)\n",
    "print('Division of the two numbers is:',num1/num2)\n",
    "print('Modulus of the two numbers is:',num1%num2)    # It return the reminder\n",
    "print('Exponential of the two numbers is:',num1**num2) \n",
    "print('The floor division of the two number:',num1//num2) # return round resultant value\n"
   ]
  },
  {
   "cell_type": "code",
   "execution_count": 11,
   "metadata": {
    "scrolled": true
   },
   "outputs": [
    {
     "name": "stdout",
     "output_type": "stream",
     "text": [
      "enter 1st number:3.6\n",
      "enetr 2nd number:4\n",
      "Addition of two nmbers: 7.6\n",
      "Sub of two numbers: -0.3999999999999999\n",
      "Mul of two numbers: 14.4\n",
      "Div of two numbers: 0.9\n",
      "Modulus of two numbers: 3.6\n",
      "Exp of two numbers: 167.9616\n"
     ]
    }
   ],
   "source": [
    "num1=float(input('enter 1st number:'))\n",
    "num2=int(input('enetr 2nd number:'))\n",
    "\n",
    "\n",
    "print('Addition of two nmbers:',num1+num2)\n",
    "print('Sub of two numbers:',num1-num2)\n",
    "print('Mul of two numbers:',num1*num2)\n",
    "print('Div of two numbers:',num1/num2)\n",
    "print('Modulus of two numbers:',num1%num2)\n",
    "print('Exp of two numbers:',num1**num2)"
   ]
  },
  {
   "cell_type": "code",
   "execution_count": null,
   "metadata": {},
   "outputs": [],
   "source": []
  },
  {
   "cell_type": "markdown",
   "metadata": {},
   "source": [
    "# 4.Assignment Operators"
   ]
  },
  {
   "cell_type": "markdown",
   "metadata": {},
   "source": [
    "Assignment operaors are used to assign value to variables"
   ]
  },
  {
   "cell_type": "code",
   "execution_count": 33,
   "metadata": {},
   "outputs": [
    {
     "name": "stdout",
     "output_type": "stream",
     "text": [
      "10\n"
     ]
    }
   ],
   "source": [
    "x=5\n",
    "x+=5\n",
    "\n",
    "# x=x+5\n",
    "print(x)"
   ]
  },
  {
   "cell_type": "code",
   "execution_count": 35,
   "metadata": {},
   "outputs": [
    {
     "name": "stdout",
     "output_type": "stream",
     "text": [
      "9\n"
     ]
    }
   ],
   "source": [
    "x=7\n",
    "x+=2\n",
    "# x=x+2\n",
    "print(x)"
   ]
  },
  {
   "cell_type": "code",
   "execution_count": 41,
   "metadata": {},
   "outputs": [
    {
     "name": "stdout",
     "output_type": "stream",
     "text": [
      "7\n"
     ]
    }
   ],
   "source": [
    "a=12\n",
    "a-=5\n",
    "\n",
    "#a=a-5\n",
    "print(a)"
   ]
  },
  {
   "cell_type": "code",
   "execution_count": 42,
   "metadata": {},
   "outputs": [
    {
     "name": "stdout",
     "output_type": "stream",
     "text": [
      "10\n"
     ]
    }
   ],
   "source": [
    "a=15\n",
    "a-=5\n",
    "\n",
    "#a=a-5\n",
    "print(a)"
   ]
  },
  {
   "cell_type": "code",
   "execution_count": 51,
   "metadata": {},
   "outputs": [
    {
     "name": "stdout",
     "output_type": "stream",
     "text": [
      "20\n",
      "10\n",
      "10\n",
      "5.0\n",
      "<class 'float'>\n",
      "1\n",
      "8\n"
     ]
    }
   ],
   "source": [
    "c=10 \n",
    "c+=10        # c=c+10\n",
    "print(c)\n",
    "\n",
    "\n",
    "d=15         \n",
    "d-=5        # d=d-5\n",
    "print(d)\n",
    "\n",
    "\n",
    "e=2\n",
    "e*=5       #e=e*5\n",
    "print(e)\n",
    "\n",
    "\n",
    "f=10\n",
    "f/=2      #f=f/2\n",
    "print(f)\n",
    "print(type(f))\n",
    "\n",
    "\n",
    "g=13\n",
    "g%=2     #g=g%2  modulus return the reminder\n",
    "print(g)\n",
    "\n",
    "h=17\n",
    "h//=2   #h=h//2  # return round resultant value\n",
    "print(h) "
   ]
  },
  {
   "cell_type": "code",
   "execution_count": null,
   "metadata": {},
   "outputs": [],
   "source": []
  },
  {
   "cell_type": "markdown",
   "metadata": {},
   "source": [
    "# 5.Identity Opertor"
   ]
  },
  {
   "cell_type": "markdown",
   "metadata": {},
   "source": [
    "1. is -- Returns true if both variables are the same object\n",
    "2. is not ---Returns true if both variables are not the same object"
   ]
  },
  {
   "cell_type": "code",
   "execution_count": 52,
   "metadata": {},
   "outputs": [
    {
     "name": "stdout",
     "output_type": "stream",
     "text": [
      "x is y: True\n"
     ]
    }
   ],
   "source": [
    "x=5\n",
    "y=5\n",
    "\n",
    "print('x is y:',x is y)"
   ]
  },
  {
   "cell_type": "code",
   "execution_count": 4,
   "metadata": {},
   "outputs": [
    {
     "name": "stdout",
     "output_type": "stream",
     "text": [
      "a is b: True\n",
      "a is not b: False\n"
     ]
    }
   ],
   "source": [
    "a=2\n",
    "b=2\n",
    "\n",
    "print('a is b:',a is b)\n",
    "print('a is not b:',a is not b)"
   ]
  },
  {
   "cell_type": "code",
   "execution_count": 3,
   "metadata": {},
   "outputs": [
    {
     "name": "stdout",
     "output_type": "stream",
     "text": [
      "a is b: False\n",
      "a is not b: True\n"
     ]
    }
   ],
   "source": [
    "a=3\n",
    "b=4\n",
    "\n",
    "print('a is b:',a is b)\n",
    "print('a is not b:',a is not b)"
   ]
  },
  {
   "cell_type": "code",
   "execution_count": 53,
   "metadata": {},
   "outputs": [
    {
     "name": "stdout",
     "output_type": "stream",
     "text": [
      "x is y: False\n"
     ]
    }
   ],
   "source": [
    "x=7\n",
    "y=6\n",
    "\n",
    "print('x is y:',x is y)"
   ]
  },
  {
   "cell_type": "code",
   "execution_count": 55,
   "metadata": {},
   "outputs": [
    {
     "name": "stdout",
     "output_type": "stream",
     "text": [
      "x is not y: True\n"
     ]
    }
   ],
   "source": [
    "x=5\n",
    "y=4\n",
    "\n",
    "print('x is not y:',x is not y)"
   ]
  },
  {
   "cell_type": "code",
   "execution_count": 56,
   "metadata": {},
   "outputs": [
    {
     "name": "stdout",
     "output_type": "stream",
     "text": [
      "x is not y: False\n"
     ]
    }
   ],
   "source": [
    "x=5\n",
    "y=5\n",
    "\n",
    "print('x is not y:',x is not y)"
   ]
  },
  {
   "cell_type": "code",
   "execution_count": null,
   "metadata": {},
   "outputs": [],
   "source": []
  },
  {
   "cell_type": "code",
   "execution_count": null,
   "metadata": {},
   "outputs": [],
   "source": []
  },
  {
   "cell_type": "code",
   "execution_count": 70,
   "metadata": {},
   "outputs": [
    {
     "name": "stdout",
     "output_type": "stream",
     "text": [
      "False\n",
      "True\n",
      "True\n"
     ]
    }
   ],
   "source": [
    "csk=\"MSD\"\n",
    "mi=\"Rohit Sharma\"\n",
    "Formar_captain=\"MSD\"\n",
    "\n",
    "print(csk is mi)\n",
    "print(csk is Formar_captain)\n",
    "print(mi is not Formar_captain )"
   ]
  },
  {
   "cell_type": "code",
   "execution_count": 8,
   "metadata": {},
   "outputs": [
    {
     "name": "stdout",
     "output_type": "stream",
     "text": [
      "False\n",
      "True\n"
     ]
    }
   ],
   "source": [
    "maharashtra='Mumbai'\n",
    "gujrat='Ahmdabad'\n",
    "maharashtraaa='Mumbai'\n",
    "\n",
    "print(maharashtra is gujrat)\n",
    "print(maharashtra is maharashtraaa)"
   ]
  },
  {
   "cell_type": "markdown",
   "metadata": {},
   "source": [
    "# 6.Membership operators"
   ]
  },
  {
   "cell_type": "markdown",
   "metadata": {},
   "source": [
    "1.in  : Returns True if a sequence with the specified value is present in the object\n",
    "      or it return True if any perticular charcter is present in given sequence else it return false\n",
    "    \n",
    "2.not in :Returns True if a sequence with the specified value is not present in the object\n",
    "         or it return True if perticular charcter is not present in given sequence else it return false"
   ]
  },
  {
   "cell_type": "code",
   "execution_count": 13,
   "metadata": {},
   "outputs": [
    {
     "name": "stdout",
     "output_type": "stream",
     "text": [
      "True\n",
      "False\n",
      "True\n",
      "False\n"
     ]
    }
   ],
   "source": [
    "a='seven mentor'\n",
    "print('s' in a)\n",
    "print('z' in a)\n",
    "print('x' not in a)\n",
    "print('m' not in a)"
   ]
  },
  {
   "cell_type": "code",
   "execution_count": 77,
   "metadata": {},
   "outputs": [
    {
     "name": "stdout",
     "output_type": "stream",
     "text": [
      "check D in X : True\n",
      "True\n",
      "Check Y in x: False\n",
      "Check c in x: True\n"
     ]
    }
   ],
   "source": [
    " x='Data Science'   # 'Data Science': whole string\n",
    "                    # 'D' : is substring\n",
    "\n",
    "print('check D in X :','D' in x)\n",
    "print('D' in x)\n",
    "print('Check Y in x:','Y' in x)\n",
    "print('Check c in x:','c' in x)"
   ]
  },
  {
   "cell_type": "code",
   "execution_count": 15,
   "metadata": {},
   "outputs": [
    {
     "name": "stdout",
     "output_type": "stream",
     "text": [
      "True\n"
     ]
    }
   ],
   "source": [
    "a=[1,2,3,'abc']\n",
    "\n",
    "print(1 in a)"
   ]
  },
  {
   "cell_type": "markdown",
   "metadata": {},
   "source": [
    "# 7 Bitwise Operator"
   ]
  },
  {
   "cell_type": "code",
   "execution_count": null,
   "metadata": {},
   "outputs": [],
   "source": []
  },
  {
   "cell_type": "code",
   "execution_count": null,
   "metadata": {},
   "outputs": [],
   "source": []
  }
 ],
 "metadata": {
  "kernelspec": {
   "display_name": "Python 3",
   "language": "python",
   "name": "python3"
  },
  "language_info": {
   "codemirror_mode": {
    "name": "ipython",
    "version": 3
   },
   "file_extension": ".py",
   "mimetype": "text/x-python",
   "name": "python",
   "nbconvert_exporter": "python",
   "pygments_lexer": "ipython3",
   "version": "3.8.8"
  }
 },
 "nbformat": 4,
 "nbformat_minor": 4
}
