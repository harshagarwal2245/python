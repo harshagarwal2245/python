{
 "cells": [
  {
   "cell_type": "markdown",
   "metadata": {},
   "source": [
    "\n",
    "# Python Operators "
   ]
  },
  {
   "cell_type": "markdown",
   "metadata": {},
   "source": [
    "1- Operators are the special symbols in python that can carry out arithmetic or logical compution.\n",
    "2- Simply operators is a symbol that perform certain operations."
   ]
  },
  {
   "cell_type": "markdown",
   "metadata": {},
   "source": [
    "# 1. Arithmetic operator"
   ]
  },
  {
   "cell_type": "code",
   "execution_count": 1,
   "metadata": {},
   "outputs": [
    {
     "name": "stdout",
     "output_type": "stream",
     "text": [
      "x+y: 17\n",
      "x-y: 9\n",
      "x*y: 52\n",
      "x/y: 3.25\n",
      "x%y: 1\n",
      "x//y: 3\n",
      "x**y: 28561\n"
     ]
    }
   ],
   "source": [
    "x=13\n",
    "y=4\n",
    "\n",
    "print(\"x+y:\",x+y)\n",
    "print(\"x-y:\",x-y)\n",
    "print(\"x*y:\",x*y)\n",
    "print(\"x/y:\",x/y)\n",
    "print(\"x%y:\",x%y)\n",
    "print(\"x//y:\",x//y)\n",
    "print(\"x**y:\",x**y)\n"
   ]
  },
  {
   "cell_type": "markdown",
   "metadata": {},
   "source": [
    "# 2. Comparison Operator"
   ]
  },
  {
   "cell_type": "markdown",
   "metadata": {},
   "source": [
    "True or False\n",
    "\n",
    "If condition is valid then return True else return False"
   ]
  },
  {
   "cell_type": "code",
   "execution_count": 12,
   "metadata": {},
   "outputs": [
    {
     "name": "stdout",
     "output_type": "stream",
     "text": [
      "x>y: True\n",
      "x<y: False\n",
      "x==y: False\n",
      "x!=y: True\n",
      "x>=y: True\n",
      "x<=y: False\n"
     ]
    }
   ],
   "source": [
    "x=12\n",
    "y=4\n",
    "\n",
    "print(\"x>y:\",x>y)\n",
    "print(\"x<y:\",x<y)\n",
    "print(\"x==y:\",x==y)\n",
    "print(\"x!=y:\",x!=y)\n",
    "print(\"x>=y:\",x>=y)\n",
    "print(\"x<=y:\",x<=y)\n",
    "\n"
   ]
  },
  {
   "cell_type": "code",
   "execution_count": 14,
   "metadata": {},
   "outputs": [
    {
     "data": {
      "text/plain": [
       "False"
      ]
     },
     "execution_count": 14,
     "metadata": {},
     "output_type": "execute_result"
    }
   ],
   "source": [
    "x=12\n",
    "y=4\n",
    "\n",
    "x>y\n",
    "x<y"
   ]
  },
  {
   "cell_type": "code",
   "execution_count": null,
   "metadata": {},
   "outputs": [],
   "source": []
  },
  {
   "cell_type": "markdown",
   "metadata": {},
   "source": [
    "# 3 .Logical Operator"
   ]
  },
  {
   "cell_type": "markdown",
   "metadata": {},
   "source": [
    "and : If x and y both are true then it return True\n",
    "or  : Eighter x or y is true then it return True\n",
    "not : If x is true it return False"
   ]
  },
  {
   "cell_type": "code",
   "execution_count": 23,
   "metadata": {},
   "outputs": [
    {
     "name": "stdout",
     "output_type": "stream",
     "text": [
      "x and y: False\n",
      "x or y: True\n",
      "not x: False\n"
     ]
    }
   ],
   "source": [
    "x=True\n",
    "y=False\n",
    "\n",
    "print('x and y:',x and y)\n",
    "print('x or y:',x or y)\n",
    "print('not x:',not x)"
   ]
  },
  {
   "cell_type": "code",
   "execution_count": 24,
   "metadata": {
    "scrolled": true
   },
   "outputs": [
    {
     "name": "stdout",
     "output_type": "stream",
     "text": [
      "x and y: True\n",
      "x or y: True\n",
      "not x: False\n"
     ]
    }
   ],
   "source": [
    "x=True\n",
    "y=True\n",
    "\n",
    "print('x and y:',x and y)\n",
    "print('x or y:',x or y)\n",
    "print('not x:',not x)"
   ]
  },
  {
   "cell_type": "markdown",
   "metadata": {},
   "source": [
    "# Type casting(Conversion)"
   ]
  },
  {
   "cell_type": "markdown",
   "metadata": {},
   "source": [
    "-Type casting : conversion of one data type to another data type\n",
    "\n",
    "There are two types:\n",
    "\n",
    "1. Implicit : Automatically done by python interpreter.\n",
    "2. Explicit : Done by user\n",
    "\n",
    "Key points to remember:\n",
    "\n",
    "1.Loss of data is not in implicit.\n",
    "2.Loss of data in Explicit."
   ]
  },
  {
   "cell_type": "code",
   "execution_count": null,
   "metadata": {},
   "outputs": [],
   "source": []
  },
  {
   "cell_type": "code",
   "execution_count": null,
   "metadata": {},
   "outputs": [],
   "source": []
  },
  {
   "cell_type": "markdown",
   "metadata": {},
   "source": [
    "# Input Function\n",
    "\n",
    " #### 1.It is built in function\n",
    " #### 2.Allowing user input\n",
    " #### 3.By default data type of input function is string we need to convert it."
   ]
  },
  {
   "cell_type": "code",
   "execution_count": 27,
   "metadata": {},
   "outputs": [
    {
     "name": "stdout",
     "output_type": "stream",
     "text": [
      "enter the number:3\n"
     ]
    },
    {
     "data": {
      "text/plain": [
       "str"
      ]
     },
     "execution_count": 27,
     "metadata": {},
     "output_type": "execute_result"
    }
   ],
   "source": [
    "a=input('enter the number:')\n",
    "type(a)"
   ]
  },
  {
   "cell_type": "code",
   "execution_count": 29,
   "metadata": {},
   "outputs": [
    {
     "name": "stdout",
     "output_type": "stream",
     "text": [
      "enter the number:5\n"
     ]
    },
    {
     "data": {
      "text/plain": [
       "int"
      ]
     },
     "execution_count": 29,
     "metadata": {},
     "output_type": "execute_result"
    }
   ],
   "source": [
    "b=int(input('enter the number:'))\n",
    "type(b)"
   ]
  },
  {
   "cell_type": "markdown",
   "metadata": {},
   "source": [
    "### Airthmetic operations using input command"
   ]
  },
  {
   "cell_type": "code",
   "execution_count": 3,
   "metadata": {
    "scrolled": true
   },
   "outputs": [
    {
     "name": "stdout",
     "output_type": "stream",
     "text": [
      "Enter first number:7\n",
      "Enter second number:2\n",
      "-------------------\n",
      "Addition of the two numbers is: 9\n",
      "Substraction of the two numbers is: 5\n",
      "Multiplication of the two numbers is: 14\n",
      "Division of the two numbers is: 3.5\n",
      "Modulus of the two numbers is: 1\n",
      "Exponential of the two numbers is: 49\n",
      "The floor division of the two number: 3\n"
     ]
    }
   ],
   "source": [
    "num1=int(input('Enter first number:'))\n",
    "num2=int(input('Enter second number:'))\n",
    "print('-------------------')\n",
    "print('Addition of the two numbers is:',num1+num2)\n",
    "print('Substraction of the two numbers is:',num1-num2)\n",
    "print('Multiplication of the two numbers is:',num1*num2)\n",
    "print('Division of the two numbers is:',num1/num2)\n",
    "print('Modulus of the two numbers is:',num1%num2)    # It return the reminder\n",
    "print('Exponential of the two numbers is:',num1**num2) \n",
    "print('The floor division of the two number:',num1//num2) # return round resultant value\n"
   ]
  },
  {
   "cell_type": "code",
   "execution_count": 11,
   "metadata": {
    "scrolled": true
   },
   "outputs": [
    {
     "name": "stdout",
     "output_type": "stream",
     "text": [
      "enter 1st number:3.6\n",
      "enetr 2nd number:4\n",
      "Addition of two nmbers: 7.6\n",
      "Sub of two numbers: -0.3999999999999999\n",
      "Mul of two numbers: 14.4\n",
      "Div of two numbers: 0.9\n",
      "Modulus of two numbers: 3.6\n",
      "Exp of two numbers: 167.9616\n"
     ]
    }
   ],
   "source": [
    "num1=float(input('enter 1st number:'))\n",
    "num2=int(input('enetr 2nd number:'))\n",
    "\n",
    "\n",
    "print('Addition of two nmbers:',num1+num2)\n",
    "print('Sub of two numbers:',num1-num2)\n",
    "print('Mul of two numbers:',num1*num2)\n",
    "print('Div of two numbers:',num1/num2)\n",
    "print('Modulus of two numbers:',num1%num2)\n",
    "print('Exp of two numbers:',num1**num2)"
   ]
  },
  {
   "cell_type": "code",
   "execution_count": null,
   "metadata": {},
   "outputs": [],
   "source": []
  }
 ],
 "metadata": {
  "kernelspec": {
   "display_name": "Python 3 (ipykernel)",
   "language": "python",
   "name": "python3"
  },
  "language_info": {
   "codemirror_mode": {
    "name": "ipython",
    "version": 3
   },
   "file_extension": ".py",
   "mimetype": "text/x-python",
   "name": "python",
   "nbconvert_exporter": "python",
   "pygments_lexer": "ipython3",
   "version": "3.10.9"
  }
 },
 "nbformat": 4,
 "nbformat_minor": 4
}
