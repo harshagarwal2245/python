{
  "nbformat": 4,
  "nbformat_minor": 0,
  "metadata": {
    "colab": {
      "provenance": []
    },
    "kernelspec": {
      "name": "python3",
      "display_name": "Python 3"
    },
    "language_info": {
      "name": "python"
    }
  },
  "cells": [
    {
      "cell_type": "markdown",
      "source": [
        "**LOOP**\n",
        "IF"
      ],
      "metadata": {
        "id": "UJ74kZECa4rg"
      }
    },
    {
      "cell_type": "code",
      "execution_count": 7,
      "metadata": {
        "colab": {
          "base_uri": "https://localhost:8080/"
        },
        "id": "3l2vl1mla3Mj",
        "outputId": "557b735b-efb9-415c-b5d9-4edabf68cefb"
      },
      "outputs": [
        {
          "output_type": "stream",
          "name": "stdout",
          "text": [
            "1\n",
            "this is a positive element \n"
          ]
        }
      ],
      "source": [
        "a=int(input())\n",
        "\n",
        "if a>0:\n",
        "  print('this is a positive element ')\n",
        "else:\n",
        "    print('negative')"
      ]
    },
    {
      "cell_type": "markdown",
      "source": [
        "if  elif"
      ],
      "metadata": {
        "id": "eIV7WN6kcYMP"
      }
    },
    {
      "cell_type": "code",
      "source": [
        "tempra=int(input())\n",
        "tempb=int(input())\n",
        "temprc=int(input())\n",
        "if tempra>tempb:\n",
        "  print('temprature of a is greater than b')\n",
        "elif tempb >temprc:\n",
        "  print('temprture b is greater than c')\n",
        "else :\n",
        "  print('all temp are diff')\n",
        "   \n",
        "\n",
        "\n",
        "  "
      ],
      "metadata": {
        "id": "lSBqksQXernm",
        "colab": {
          "base_uri": "https://localhost:8080/"
        },
        "outputId": "0e209b39-343c-49bb-c896-8599461753c6"
      },
      "execution_count": 8,
      "outputs": [
        {
          "output_type": "stream",
          "name": "stdout",
          "text": [
            "50\n",
            "40\n",
            "30\n",
            "temprature of a is greater than b\n"
          ]
        }
      ]
    },
    {
      "cell_type": "code",
      "source": [
        "a=int(input())\n",
        "if a%2:\n",
        "  print('num is odd')\n",
        "else:\n",
        "  print('num is even')\n",
        "\n"
      ],
      "metadata": {
        "colab": {
          "base_uri": "https://localhost:8080/"
        },
        "id": "6xHIxGY9fDW1",
        "outputId": "39fe580a-b841-4fcc-c472-d7e811f2f640"
      },
      "execution_count": 15,
      "outputs": [
        {
          "output_type": "stream",
          "name": "stdout",
          "text": [
            "2\n",
            "num is even\n"
          ]
        }
      ]
    },
    {
      "cell_type": "markdown",
      "source": [
        "for loop"
      ],
      "metadata": {
        "id": "zmhF1Br7g9Mc"
      }
    },
    {
      "cell_type": "code",
      "source": [
        "o=[1,2,3,4,5]\n",
        "for i in o:\n",
        "  print(i)"
      ],
      "metadata": {
        "colab": {
          "base_uri": "https://localhost:8080/"
        },
        "id": "VzVGKbRXgU3Z",
        "outputId": "dd377b62-1494-4066-e8f5-ad2ceffed0c2"
      },
      "execution_count": 1,
      "outputs": [
        {
          "output_type": "stream",
          "name": "stdout",
          "text": [
            "1\n",
            "2\n",
            "3\n",
            "4\n",
            "5\n"
          ]
        }
      ]
    },
    {
      "cell_type": "code",
      "source": [
        "k='i am sachit'\n",
        "for i in k:\n",
        "  print(i)\n",
        " "
      ],
      "metadata": {
        "colab": {
          "base_uri": "https://localhost:8080/"
        },
        "id": "5rcDRYRGjV5I",
        "outputId": "0e108197-70ad-40d5-cccf-b8c24cfd7a51"
      },
      "execution_count": 2,
      "outputs": [
        {
          "output_type": "stream",
          "name": "stdout",
          "text": [
            "i\n",
            " \n",
            "a\n",
            "m\n",
            " \n",
            "s\n",
            "a\n",
            "c\n",
            "h\n",
            "i\n",
            "t\n"
          ]
        }
      ]
    },
    {
      "cell_type": "code",
      "source": [
        "l=('or','i','he')\n",
        "for i in l:\n",
        "  print(l)"
      ],
      "metadata": {
        "colab": {
          "base_uri": "https://localhost:8080/"
        },
        "id": "Jq8RGC37jmK0",
        "outputId": "019542c5-aeaf-4a11-9422-f5f67e02fa6b"
      },
      "execution_count": 4,
      "outputs": [
        {
          "output_type": "stream",
          "name": "stdout",
          "text": [
            "('or', 'i', 'he')\n",
            "('or', 'i', 'he')\n",
            "('or', 'i', 'he')\n"
          ]
        }
      ]
    },
    {
      "cell_type": "code",
      "source": [
        "p=[2,3,4,5,6,7]\n",
        "a=2\n",
        "for i in p:\n",
        "  a= (2*i+a/a)\n",
        "print(a)"
      ],
      "metadata": {
        "colab": {
          "base_uri": "https://localhost:8080/"
        },
        "id": "KFUAmB0LjyKn",
        "outputId": "301a727e-044e-45ee-b990-ddcb1a46c192"
      },
      "execution_count": 39,
      "outputs": [
        {
          "output_type": "stream",
          "name": "stdout",
          "text": [
            "15.0\n"
          ]
        }
      ]
    },
    {
      "cell_type": "code",
      "source": [],
      "metadata": {
        "id": "BCLO2FhWmJDX"
      },
      "execution_count": null,
      "outputs": []
    },
    {
      "cell_type": "code",
      "source": [
        "k=[2,3,4,5,6,7]\n",
        "w=0\n",
        "for i in k:\n",
        "  w= (w-i)\n",
        "print(w)"
      ],
      "metadata": {
        "colab": {
          "base_uri": "https://localhost:8080/"
        },
        "id": "sFnhmABemIhr",
        "outputId": "173ba96b-e3ec-488e-bdcb-5f1d3b8e948d"
      },
      "execution_count": 28,
      "outputs": [
        {
          "output_type": "stream",
          "name": "stdout",
          "text": [
            "-27\n"
          ]
        }
      ]
    },
    {
      "cell_type": "code",
      "source": [
        "l=[2,3,4,5]\n",
        "k=3\n",
        "for i in l:\n",
        "  k=(i/k)\n",
        "  print(k)"
      ],
      "metadata": {
        "colab": {
          "base_uri": "https://localhost:8080/"
        },
        "id": "Fe1bw6rJmmJw",
        "outputId": "4dd66903-5fb9-4f42-edf3-0576b78bcbcd"
      },
      "execution_count": 34,
      "outputs": [
        {
          "output_type": "stream",
          "name": "stdout",
          "text": [
            "0.6666666666666666\n",
            "4.5\n",
            "0.8888888888888888\n",
            "5.625\n"
          ]
        }
      ]
    },
    {
      "cell_type": "markdown",
      "source": [],
      "metadata": {
        "id": "GoUFehS3uBmy"
      }
    },
    {
      "cell_type": "code",
      "source": [
        "o=['hi','hello',1.8,2,3]\n",
        "for i in o:\n",
        "\n",
        "    print(type(i))\n"
      ],
      "metadata": {
        "colab": {
          "base_uri": "https://localhost:8080/"
        },
        "id": "VJEnlL-duBKP",
        "outputId": "58af52b0-7578-4d88-8a2b-edc0c4ccc5e5"
      },
      "execution_count": 43,
      "outputs": [
        {
          "output_type": "stream",
          "name": "stdout",
          "text": [
            "<class 'str'>\n",
            "<class 'str'>\n",
            "<class 'float'>\n",
            "<class 'int'>\n",
            "<class 'int'>\n"
          ]
        }
      ]
    },
    {
      "cell_type": "code",
      "source": [
        "i = 20\n",
        "for i in range(20,45, 3):\n",
        "  print( i )"
      ],
      "metadata": {
        "colab": {
          "base_uri": "https://localhost:8080/"
        },
        "id": "SQd_kh-SRHIA",
        "outputId": "3d9c1432-e46e-4e5b-906e-d340dad3dd9f"
      },
      "execution_count": 2,
      "outputs": [
        {
          "output_type": "stream",
          "name": "stdout",
          "text": [
            "20\n",
            "23\n",
            "26\n",
            "29\n",
            "32\n",
            "35\n",
            "38\n",
            "41\n",
            "44\n"
          ]
        }
      ]
    },
    {
      "cell_type": "markdown",
      "source": [
        "while loop"
      ],
      "metadata": {
        "id": "W041anxHKw41"
      }
    },
    {
      "cell_type": "code",
      "source": [
        "d=int(input('enter number'))\n",
        "while d<60:\n",
        "  print(d)\n",
        "  d=d*2\n",
        "  if d==32:\n",
        "    break\n",
        "   "
      ],
      "metadata": {
        "colab": {
          "base_uri": "https://localhost:8080/"
        },
        "id": "PmV346rIKymO",
        "outputId": "0ddff53b-7336-44ee-a1e3-e6dff4b5208d"
      },
      "execution_count": 4,
      "outputs": [
        {
          "output_type": "stream",
          "name": "stdout",
          "text": [
            "enter number2\n",
            "2\n",
            "4\n",
            "8\n",
            "16\n"
          ]
        }
      ]
    },
    {
      "cell_type": "code",
      "source": [
        "n=int(input('enter number'))\n",
        "while n<60:\n",
        "  #print(n)\n",
        " \n",
        "  if n==32:\n",
        "    continue\n",
        "    print(n)\n",
        "    n=n*1"
      ],
      "metadata": {
        "colab": {
          "base_uri": "https://localhost:8080/"
        },
        "id": "KGpPPY0fN9Xc",
        "outputId": "7dd95ef0-5651-4d5f-9753-fb3451e526ef"
      },
      "execution_count": null,
      "outputs": [
        {
          "name": "stdout",
          "output_type": "stream",
          "text": [
            "enter number2\n"
          ]
        }
      ]
    },
    {
      "cell_type": "code",
      "source": [
        "np=09\n",
        "pass"
      ],
      "metadata": {
        "id": "sOHur4q0SG4j"
      },
      "execution_count": null,
      "outputs": []
    },
    {
      "cell_type": "code",
      "source": [],
      "metadata": {
        "id": "ScVmbqfxSEfS"
      },
      "execution_count": null,
      "outputs": []
    }
  ]
}