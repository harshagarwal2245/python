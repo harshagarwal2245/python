{
  "nbformat": 4,
  "nbformat_minor": 0,
  "metadata": {
    "colab": {
      "provenance": []
    },
    "kernelspec": {
      "name": "python3",
      "display_name": "Python 3"
    },
    "language_info": {
      "name": "python"
    }
  },
  "cells": [
    {
      "cell_type": "markdown",
      "source": [
        "q1"
      ],
      "metadata": {
        "id": "5lunGSFyuZlT"
      }
    },
    {
      "cell_type": "code",
      "execution_count": 4,
      "metadata": {
        "colab": {
          "base_uri": "https://localhost:8080/"
        },
        "id": "mNy54GmIr9Ag",
        "outputId": "680b3189-f615-4300-a2c0-168956e0994c"
      },
      "outputs": [
        {
          "output_type": "stream",
          "name": "stdout",
          "text": [
            "[8, 9, 0, 7, 6, 6, 9, 0, 8, 7, 6, 5]\n"
          ]
        }
      ],
      "source": [
        "a=[8,9,0,7,6]\n",
        "b=[6,9,0,8,7,6,5]\n",
        "c=a+b\n",
        "print(c)"
      ]
    },
    {
      "cell_type": "markdown",
      "source": [
        "q2"
      ],
      "metadata": {
        "id": "QoQfsSuNubqv"
      }
    },
    {
      "cell_type": "code",
      "source": [
        "d=[6,9,8,7,76,7,4]\n",
        "print(d*3)"
      ],
      "metadata": {
        "colab": {
          "base_uri": "https://localhost:8080/"
        },
        "id": "xxnwhft8uc_S",
        "outputId": "5cb0e097-73d8-473a-8526-8d4bfb831ce5"
      },
      "execution_count": 6,
      "outputs": [
        {
          "output_type": "stream",
          "name": "stdout",
          "text": [
            "[6, 9, 8, 7, 76, 7, 4, 6, 9, 8, 7, 76, 7, 4, 6, 9, 8, 7, 76, 7, 4]\n"
          ]
        }
      ]
    },
    {
      "cell_type": "markdown",
      "source": [
        "q3"
      ],
      "metadata": {
        "id": "tggH3ZL2wezr"
      }
    },
    {
      "cell_type": "code",
      "source": [
        "a=[9,8,7,6,5,4,167,986,678,987,56]\n",
        "max(a)"
      ],
      "metadata": {
        "colab": {
          "base_uri": "https://localhost:8080/"
        },
        "id": "nmX-_hsGwkEW",
        "outputId": "a2c5ebf1-4201-450e-d946-bd7e914dc3dc"
      },
      "execution_count": 8,
      "outputs": [
        {
          "output_type": "execute_result",
          "data": {
            "text/plain": [
              "987"
            ]
          },
          "metadata": {},
          "execution_count": 8
        }
      ]
    },
    {
      "cell_type": "markdown",
      "source": [
        "q4"
      ],
      "metadata": {
        "id": "VkfAXx57w8j2"
      }
    },
    {
      "cell_type": "code",
      "source": [
        "a=[9,8,7,6,5,4,167,986,678,987,56]\n",
        "min(a)"
      ],
      "metadata": {
        "colab": {
          "base_uri": "https://localhost:8080/"
        },
        "id": "GFmJ6S_Uw-O2",
        "outputId": "c750f68d-ca92-48fe-a773-5ccd89539fc2"
      },
      "execution_count": 9,
      "outputs": [
        {
          "output_type": "execute_result",
          "data": {
            "text/plain": [
              "4"
            ]
          },
          "metadata": {},
          "execution_count": 9
        }
      ]
    },
    {
      "cell_type": "markdown",
      "source": [
        "q5"
      ],
      "metadata": {
        "id": "jU7dIddKxGFH"
      }
    },
    {
      "cell_type": "code",
      "source": [
        "a=['hello','hoh','non','lol']\n",
        "c=a[-1]=a[0]\n",
        "a.count(c)"
      ],
      "metadata": {
        "colab": {
          "base_uri": "https://localhost:8080/"
        },
        "id": "KmIlZ7PdxH0Y",
        "outputId": "a3c45d49-ad72-4897-ef1b-b3cdbe22cd9b"
      },
      "execution_count": 19,
      "outputs": [
        {
          "output_type": "execute_result",
          "data": {
            "text/plain": [
              "2"
            ]
          },
          "metadata": {},
          "execution_count": 19
        }
      ]
    },
    {
      "cell_type": "markdown",
      "source": [
        "q6"
      ],
      "metadata": {
        "id": "FHMuEF6bz0Or"
      }
    }
  ]
}