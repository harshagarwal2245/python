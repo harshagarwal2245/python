{
 "cells": [
  {
   "cell_type": "markdown",
   "id": "2e576956",
   "metadata": {},
   "source": [
    "# List"
   ]
  },
  {
   "cell_type": "code",
   "execution_count": null,
   "id": "b0249076",
   "metadata": {},
   "outputs": [],
   "source": [
    "List: is a data type which consist of group of individuals.\n",
    "    1. we can use Indexing\n",
    "    2. ordered\n",
    "    3. comma seperated\n",
    "    4. duplicates are allowed\n",
    "    5. heterogenous object are allowed\n",
    "    6. Mutable data type\n",
    "    7.[]"
   ]
  },
  {
   "cell_type": "code",
   "execution_count": null,
   "id": "061c6663",
   "metadata": {},
   "outputs": [],
   "source": []
  },
  {
   "cell_type": "markdown",
   "id": "b407f1af",
   "metadata": {},
   "source": [
    "# Create Python Lists"
   ]
  },
  {
   "cell_type": "code",
   "execution_count": 4,
   "id": "e0f4c554",
   "metadata": {},
   "outputs": [
    {
     "name": "stdout",
     "output_type": "stream",
     "text": [
      "[1, 2, 3, 'abc', 1.2]\n",
      "<class 'list'>\n"
     ]
    }
   ],
   "source": [
    "list1=[1,2,3,'abc',1.2]\n",
    "print(list1)\n",
    "print(type(list1))"
   ]
  },
  {
   "cell_type": "code",
   "execution_count": 6,
   "id": "40e20bf8",
   "metadata": {
    "scrolled": true
   },
   "outputs": [
    {
     "name": "stdout",
     "output_type": "stream",
     "text": [
      "[1, 2, 3]\n",
      "<class 'list'>\n"
     ]
    }
   ],
   "source": [
    "# list of integers\n",
    "my_list = [1, 2, 3]\n",
    "print(my_list)\n",
    "print(type(my_list))"
   ]
  },
  {
   "cell_type": "code",
   "execution_count": null,
   "id": "7deb5752",
   "metadata": {},
   "outputs": [],
   "source": []
  },
  {
   "cell_type": "markdown",
   "id": "ec95fdef",
   "metadata": {},
   "source": [
    "# Empty list"
   ]
  },
  {
   "cell_type": "code",
   "execution_count": 8,
   "id": "41918ca2",
   "metadata": {},
   "outputs": [
    {
     "name": "stdout",
     "output_type": "stream",
     "text": [
      "[]\n",
      "<class 'list'>\n"
     ]
    }
   ],
   "source": [
    "# empty list\n",
    "my_list = []\n",
    "print(my_list)\n",
    "print(type(my_list))"
   ]
  },
  {
   "cell_type": "markdown",
   "id": "a71e4c60",
   "metadata": {},
   "source": [
    "### 2.Indexing of list"
   ]
  },
  {
   "cell_type": "code",
   "execution_count": 9,
   "id": "3fafe211",
   "metadata": {},
   "outputs": [
    {
     "name": "stdout",
     "output_type": "stream",
     "text": [
      "[1, 2, 3, 'python']\n",
      "<class 'list'>\n"
     ]
    }
   ],
   "source": [
    "b=[1,2,3,'python']\n",
    "print(b)\n",
    "print(type(b))"
   ]
  },
  {
   "cell_type": "code",
   "execution_count": 10,
   "id": "27d38c84",
   "metadata": {},
   "outputs": [
    {
     "data": {
      "text/plain": [
       "1"
      ]
     },
     "execution_count": 10,
     "metadata": {},
     "output_type": "execute_result"
    }
   ],
   "source": [
    "b[0]"
   ]
  },
  {
   "cell_type": "code",
   "execution_count": 11,
   "id": "75c89e40",
   "metadata": {},
   "outputs": [
    {
     "data": {
      "text/plain": [
       "'python'"
      ]
     },
     "execution_count": 11,
     "metadata": {},
     "output_type": "execute_result"
    }
   ],
   "source": [
    "b[-1]"
   ]
  },
  {
   "cell_type": "code",
   "execution_count": 12,
   "id": "e1e54740",
   "metadata": {},
   "outputs": [],
   "source": [
    "a = [1,1,2,2.3,3,'Python',4,[4,5,6]]"
   ]
  },
  {
   "cell_type": "code",
   "execution_count": 13,
   "id": "21949d3c",
   "metadata": {},
   "outputs": [
    {
     "data": {
      "text/plain": [
       "2.3"
      ]
     },
     "execution_count": 13,
     "metadata": {},
     "output_type": "execute_result"
    }
   ],
   "source": [
    "a[3]"
   ]
  },
  {
   "cell_type": "code",
   "execution_count": 14,
   "id": "57608cbd",
   "metadata": {},
   "outputs": [
    {
     "data": {
      "text/plain": [
       "[4, 5, 6]"
      ]
     },
     "execution_count": 14,
     "metadata": {},
     "output_type": "execute_result"
    }
   ],
   "source": [
    "a[7]"
   ]
  },
  {
   "cell_type": "code",
   "execution_count": 15,
   "id": "c8654f11",
   "metadata": {},
   "outputs": [
    {
     "data": {
      "text/plain": [
       "[4, 5, 6]"
      ]
     },
     "execution_count": 15,
     "metadata": {},
     "output_type": "execute_result"
    }
   ],
   "source": [
    "a[-1]"
   ]
  },
  {
   "cell_type": "code",
   "execution_count": 16,
   "id": "98530cfe",
   "metadata": {},
   "outputs": [
    {
     "data": {
      "text/plain": [
       "'Python'"
      ]
     },
     "execution_count": 16,
     "metadata": {},
     "output_type": "execute_result"
    }
   ],
   "source": [
    "a[5]"
   ]
  },
  {
   "cell_type": "code",
   "execution_count": 17,
   "id": "9de27d5a",
   "metadata": {},
   "outputs": [
    {
     "data": {
      "text/plain": [
       "[3, 'Python', 4, [4, 5, 6]]"
      ]
     },
     "execution_count": 17,
     "metadata": {},
     "output_type": "execute_result"
    }
   ],
   "source": [
    "a[4:]"
   ]
  },
  {
   "cell_type": "code",
   "execution_count": 18,
   "id": "71cdf885",
   "metadata": {},
   "outputs": [
    {
     "data": {
      "text/plain": [
       "[2.3, 3, 'Python', 4, [4, 5, 6]]"
      ]
     },
     "execution_count": 18,
     "metadata": {},
     "output_type": "execute_result"
    }
   ],
   "source": [
    "a[3:]"
   ]
  },
  {
   "cell_type": "code",
   "execution_count": 19,
   "id": "5babd800",
   "metadata": {},
   "outputs": [
    {
     "data": {
      "text/plain": [
       "[1, 1, 2, 2.3, 3, 'Python', 4, [4, 5, 6]]"
      ]
     },
     "execution_count": 19,
     "metadata": {},
     "output_type": "execute_result"
    }
   ],
   "source": [
    "a[:]   # whole data is shown with the help of :"
   ]
  },
  {
   "cell_type": "code",
   "execution_count": 20,
   "id": "94850cba",
   "metadata": {},
   "outputs": [
    {
     "data": {
      "text/plain": [
       "['Python', 4, [4, 5, 6]]"
      ]
     },
     "execution_count": 20,
     "metadata": {},
     "output_type": "execute_result"
    }
   ],
   "source": [
    "a[-3:]"
   ]
  },
  {
   "cell_type": "code",
   "execution_count": 21,
   "id": "5ed6fea7",
   "metadata": {},
   "outputs": [
    {
     "data": {
      "text/plain": [
       "[2.3, 3]"
      ]
     },
     "execution_count": 21,
     "metadata": {},
     "output_type": "execute_result"
    }
   ],
   "source": [
    "a[3:5]"
   ]
  },
  {
   "cell_type": "code",
   "execution_count": 22,
   "id": "0712d85d",
   "metadata": {},
   "outputs": [
    {
     "data": {
      "text/plain": [
       "[2.3, 3]"
      ]
     },
     "execution_count": 22,
     "metadata": {},
     "output_type": "execute_result"
    }
   ],
   "source": [
    "a[-5:-3]"
   ]
  },
  {
   "cell_type": "code",
   "execution_count": 23,
   "id": "332d259e",
   "metadata": {},
   "outputs": [
    {
     "data": {
      "text/plain": [
       "[1, 2.3, 4]"
      ]
     },
     "execution_count": 23,
     "metadata": {},
     "output_type": "execute_result"
    }
   ],
   "source": [
    "a[::3] "
   ]
  },
  {
   "cell_type": "code",
   "execution_count": 24,
   "id": "71389bc9",
   "metadata": {},
   "outputs": [
    {
     "data": {
      "text/plain": [
       "[1, 'Python']"
      ]
     },
     "execution_count": 24,
     "metadata": {},
     "output_type": "execute_result"
    }
   ],
   "source": [
    "a[::5]"
   ]
  },
  {
   "cell_type": "code",
   "execution_count": 25,
   "id": "9e2d4d49",
   "metadata": {},
   "outputs": [
    {
     "data": {
      "text/plain": [
       "[1, 1, 2, 2.3, 3, 'Python', 4]"
      ]
     },
     "execution_count": 25,
     "metadata": {},
     "output_type": "execute_result"
    }
   ],
   "source": [
    "a[-8:-1]"
   ]
  },
  {
   "cell_type": "code",
   "execution_count": 31,
   "id": "f3394968",
   "metadata": {},
   "outputs": [
    {
     "data": {
      "text/plain": [
       "[[4, 5, 6], 4, 'Python', 3, 2.3, 2, 1, 1]"
      ]
     },
     "execution_count": 31,
     "metadata": {},
     "output_type": "execute_result"
    }
   ],
   "source": [
    "c = [1,1,2,2.3,3,'Python',4,[4,5,6]]\n",
    "c[::-1]"
   ]
  },
  {
   "cell_type": "code",
   "execution_count": 32,
   "id": "ec6ad59e",
   "metadata": {},
   "outputs": [
    {
     "data": {
      "text/plain": [
       "[1, 1, 2, 2.3, 3, 'Python', 4, [4, 5, 6]]"
      ]
     },
     "execution_count": 32,
     "metadata": {},
     "output_type": "execute_result"
    }
   ],
   "source": [
    "c[-8::]"
   ]
  },
  {
   "cell_type": "markdown",
   "id": "6c58c3d1",
   "metadata": {},
   "source": [
    "### [:] # whole data is displyaed\n",
    "### [-8::] # Sequential data\n",
    "### [::-1] # reverse data"
   ]
  },
  {
   "cell_type": "code",
   "execution_count": null,
   "id": "02f7dc9b",
   "metadata": {},
   "outputs": [],
   "source": []
  },
  {
   "cell_type": "markdown",
   "id": "c92e0607",
   "metadata": {},
   "source": [
    "# List Slicing in Python"
   ]
  },
  {
   "cell_type": "code",
   "execution_count": 47,
   "id": "57848749",
   "metadata": {
    "scrolled": true
   },
   "outputs": [
    {
     "name": "stdout",
     "output_type": "stream",
     "text": [
      "['o', 'g', 'r']\n",
      "['a', 'm', 'i', 'z']\n",
      "['p', 'r', 'o', 'g', 'r', 'a', 'm', 'i', 'z']\n"
     ]
    }
   ],
   "source": [
    "# List slicing in Python\n",
    "\n",
    "my_list = ['p','r','o','g','r','a','m','i','z']\n",
    "\n",
    "# elements from index 2 to index 4\n",
    "print(my_list[2:5])\n",
    "\n",
    "# elements from index 5 to end\n",
    "print(my_list[5:])\n",
    "\n",
    "# elements beginning to end\n",
    "print(my_list[:])"
   ]
  },
  {
   "attachments": {
    "image.png": {
     "image/png": "[encoded data removed]"
    }
   },
   "cell_type": "markdown",
   "id": "94220d33",
   "metadata": {},
   "source": [
    "![image.png](attachment:image.png)\n"
   ]
  },
  {
   "cell_type": "code",
   "execution_count": 48,
   "id": "c6fe426f",
   "metadata": {},
   "outputs": [
    {
     "name": "stdout",
     "output_type": "stream",
     "text": [
      "range(1, 5)\n",
      "[1, 2, 3, 4]\n"
     ]
    }
   ],
   "source": [
    "a=range(1,5)\n",
    "print(a)\n",
    "print(list(a))"
   ]
  },
  {
   "cell_type": "code",
   "execution_count": 38,
   "id": "e3b9becb",
   "metadata": {},
   "outputs": [
    {
     "name": "stdout",
     "output_type": "stream",
     "text": [
      "range(1, 6)\n",
      "[1, 2, 3, 4, 5]\n"
     ]
    }
   ],
   "source": [
    "b=range(1,6)\n",
    "print(b)\n",
    "print(list(b))"
   ]
  },
  {
   "cell_type": "code",
   "execution_count": 39,
   "id": "4d3c8390",
   "metadata": {},
   "outputs": [
    {
     "name": "stdout",
     "output_type": "stream",
     "text": [
      "1\n",
      "2\n",
      "3\n",
      "4\n",
      "5\n"
     ]
    }
   ],
   "source": [
    "for i in b:\n",
    "    print(i)"
   ]
  },
  {
   "cell_type": "code",
   "execution_count": 40,
   "id": "8cfc9b46",
   "metadata": {
    "scrolled": true
   },
   "outputs": [
    {
     "name": "stdout",
     "output_type": "stream",
     "text": [
      "[1, 2, 3, 4, 5, 6, 7, 8, 9, 10, 11, 12, 13, 14, 15, 16, 17, 18, 19]\n",
      "2\n",
      "4\n",
      "6\n",
      "8\n",
      "10\n",
      "12\n",
      "14\n",
      "16\n",
      "18\n"
     ]
    }
   ],
   "source": [
    "a=list(range(1,20))\n",
    "print(a)\n",
    "for i in a:\n",
    "    if i%2==0:\n",
    "        print(i)"
   ]
  },
  {
   "cell_type": "code",
   "execution_count": null,
   "id": "0aee1a4a",
   "metadata": {},
   "outputs": [],
   "source": []
  },
  {
   "cell_type": "code",
   "execution_count": null,
   "id": "30c7ae32",
   "metadata": {},
   "outputs": [],
   "source": []
  },
  {
   "cell_type": "markdown",
   "id": "4ec1357a",
   "metadata": {},
   "source": [
    "# Access List Elements"
   ]
  },
  {
   "cell_type": "code",
   "execution_count": 17,
   "id": "eedfe25b",
   "metadata": {},
   "outputs": [],
   "source": [
    "## City as list"
   ]
  },
  {
   "cell_type": "code",
   "execution_count": 41,
   "id": "efb327c9",
   "metadata": {},
   "outputs": [],
   "source": [
    "city=['Pune','Mumbai','Nashik',\"Sangali\"]"
   ]
  },
  {
   "cell_type": "code",
   "execution_count": 42,
   "id": "c0beb7cd",
   "metadata": {},
   "outputs": [
    {
     "data": {
      "text/plain": [
       "'Sangali'"
      ]
     },
     "execution_count": 42,
     "metadata": {},
     "output_type": "execute_result"
    }
   ],
   "source": [
    "city[-1]"
   ]
  },
  {
   "cell_type": "code",
   "execution_count": 43,
   "id": "74eb5415",
   "metadata": {},
   "outputs": [
    {
     "data": {
      "text/plain": [
       "'Sangali'"
      ]
     },
     "execution_count": 43,
     "metadata": {},
     "output_type": "execute_result"
    }
   ],
   "source": [
    "city[3]"
   ]
  },
  {
   "cell_type": "code",
   "execution_count": null,
   "id": "f8457488",
   "metadata": {},
   "outputs": [],
   "source": []
  },
  {
   "cell_type": "code",
   "execution_count": null,
   "id": "c9171d9c",
   "metadata": {},
   "outputs": [],
   "source": []
  },
  {
   "cell_type": "markdown",
   "id": "25237e54",
   "metadata": {},
   "source": [
    "### Nested List"
   ]
  },
  {
   "cell_type": "markdown",
   "id": "0a49805e",
   "metadata": {},
   "source": [
    "List within list is called as nested list"
   ]
  },
  {
   "cell_type": "code",
   "execution_count": 46,
   "id": "ebafbe46",
   "metadata": {},
   "outputs": [
    {
     "name": "stdout",
     "output_type": "stream",
     "text": [
      "['mouse', [8, 4, 6], ['a']]\n",
      "nested element [8, 4, 6]\n",
      "nested element ['a']\n"
     ]
    }
   ],
   "source": [
    "# nested list\n",
    "my_list = [\"mouse\", [8, 4, 6], ['a']]\n",
    "print(my_list)\n",
    "\n",
    "print(\"nested element\",my_list[1])\n",
    "print(\"nested element\",my_list[2])"
   ]
  },
  {
   "cell_type": "code",
   "execution_count": 51,
   "id": "5d1ec04b",
   "metadata": {},
   "outputs": [
    {
     "name": "stdout",
     "output_type": "stream",
     "text": [
      "['Happy', [2, 0, 1, 5]]\n",
      "a\n",
      "y\n",
      "5\n",
      "1\n"
     ]
    }
   ],
   "source": [
    "# Nested List\n",
    "n_list = [\"Happy\", [2, 0, 1, 5]]\n",
    "print(n_list)\n",
    "# Nested indexing\n",
    "print(n_list[0][1])\n",
    "print(n_list[0][4])\n",
    "print(n_list[1][3])\n",
    "print(n_list[1][-2])"
   ]
  },
  {
   "cell_type": "code",
   "execution_count": null,
   "id": "ad8be337",
   "metadata": {},
   "outputs": [],
   "source": []
  },
  {
   "cell_type": "code",
   "execution_count": null,
   "id": "ebb7721c",
   "metadata": {},
   "outputs": [],
   "source": []
  },
  {
   "cell_type": "markdown",
   "id": "344e479f",
   "metadata": {},
   "source": [
    "## Functions of List"
   ]
  },
  {
   "cell_type": "markdown",
   "id": "5a72985d",
   "metadata": {},
   "source": [
    "## 1.len() = length of list"
   ]
  },
  {
   "cell_type": "code",
   "execution_count": 57,
   "id": "de6a67f0",
   "metadata": {},
   "outputs": [
    {
     "name": "stdout",
     "output_type": "stream",
     "text": [
      "3\n"
     ]
    }
   ],
   "source": [
    "city_1=['Pune','Mumbai','Sangali']\n",
    "print(len(city_1))"
   ]
  },
  {
   "cell_type": "code",
   "execution_count": 58,
   "id": "6f56274c",
   "metadata": {},
   "outputs": [
    {
     "name": "stdout",
     "output_type": "stream",
     "text": [
      "2\n"
     ]
    }
   ],
   "source": [
    "city=['Mumbai,Pune,Sangali',[1,2]]\n",
    "print(len(city))"
   ]
  },
  {
   "cell_type": "markdown",
   "id": "04199e29",
   "metadata": {},
   "source": [
    "## 2. count() = no. of occurrence of specific object "
   ]
  },
  {
   "cell_type": "code",
   "execution_count": 76,
   "id": "39bddaf5",
   "metadata": {},
   "outputs": [],
   "source": [
    "# The count() method returns the number of times element appears in the list."
   ]
  },
  {
   "cell_type": "code",
   "execution_count": 59,
   "id": "6907006d",
   "metadata": {},
   "outputs": [],
   "source": [
    " a=[1,1,2,2,3,3,3,4,4,4,4,5,5,5,5,5]"
   ]
  },
  {
   "cell_type": "code",
   "execution_count": 60,
   "id": "76f36ce3",
   "metadata": {},
   "outputs": [
    {
     "data": {
      "text/plain": [
       "2"
      ]
     },
     "execution_count": 60,
     "metadata": {},
     "output_type": "execute_result"
    }
   ],
   "source": [
    "a.count(1)"
   ]
  },
  {
   "cell_type": "code",
   "execution_count": 61,
   "id": "d7b6f3a8",
   "metadata": {},
   "outputs": [
    {
     "data": {
      "text/plain": [
       "2"
      ]
     },
     "execution_count": 61,
     "metadata": {},
     "output_type": "execute_result"
    }
   ],
   "source": [
    "a.count(2)"
   ]
  },
  {
   "cell_type": "code",
   "execution_count": 62,
   "id": "9370a16f",
   "metadata": {},
   "outputs": [
    {
     "data": {
      "text/plain": [
       "3"
      ]
     },
     "execution_count": 62,
     "metadata": {},
     "output_type": "execute_result"
    }
   ],
   "source": [
    "a.count(3)"
   ]
  },
  {
   "cell_type": "code",
   "execution_count": 63,
   "id": "57f80083",
   "metadata": {},
   "outputs": [
    {
     "data": {
      "text/plain": [
       "5"
      ]
     },
     "execution_count": 63,
     "metadata": {},
     "output_type": "execute_result"
    }
   ],
   "source": [
    "a.count(5)"
   ]
  },
  {
   "cell_type": "code",
   "execution_count": 64,
   "id": "8d455dce",
   "metadata": {},
   "outputs": [
    {
     "data": {
      "text/plain": [
       "0"
      ]
     },
     "execution_count": 64,
     "metadata": {},
     "output_type": "execute_result"
    }
   ],
   "source": [
    "a.count(6)"
   ]
  },
  {
   "cell_type": "code",
   "execution_count": 65,
   "id": "0f8258a5",
   "metadata": {},
   "outputs": [
    {
     "name": "stdout",
     "output_type": "stream",
     "text": [
      "2\n"
     ]
    }
   ],
   "source": [
    "b=[\"pa\",\"ca\"]\n",
    "print(len(b))"
   ]
  },
  {
   "cell_type": "code",
   "execution_count": 66,
   "id": "0d5aab30",
   "metadata": {},
   "outputs": [
    {
     "name": "stdout",
     "output_type": "stream",
     "text": [
      "The count of i is: 2\n",
      "The count of p is: 0\n"
     ]
    }
   ],
   "source": [
    "# vowels list\n",
    "vowels = ['a', 'e', 'i', 'o', 'i', 'u']\n",
    "\n",
    "# count element 'i'\n",
    "count = vowels.count('i')\n",
    "# print count\n",
    "print('The count of i is:', count)\n",
    "\n",
    "\n",
    "# count element 'p'\n",
    "count = vowels.count('p')\n",
    "# print count\n",
    "print('The count of p is:', count)"
   ]
  },
  {
   "cell_type": "code",
   "execution_count": 60,
   "id": "d8776ecc",
   "metadata": {},
   "outputs": [
    {
     "name": "stdout",
     "output_type": "stream",
     "text": [
      "enter something5\n"
     ]
    },
    {
     "data": {
      "text/plain": [
       "['5']"
      ]
     },
     "execution_count": 60,
     "metadata": {},
     "output_type": "execute_result"
    }
   ],
   "source": [
    "a= list(input('enter something'))\n",
    "a"
   ]
  },
  {
   "cell_type": "code",
   "execution_count": 68,
   "id": "bfccc2e7",
   "metadata": {},
   "outputs": [
    {
     "name": "stdout",
     "output_type": "stream",
     "text": [
      "enter the number3\n",
      "<class 'int'>\n"
     ]
    }
   ],
   "source": [
    "my_new_nu=int(input('enter the number'))\n",
    "print(type(my_new_nu))"
   ]
  },
  {
   "cell_type": "code",
   "execution_count": 72,
   "id": "c02d4963",
   "metadata": {},
   "outputs": [
    {
     "name": "stdout",
     "output_type": "stream",
     "text": [
      "enter the list5\n",
      "['5']\n",
      "<class 'list'>\n"
     ]
    }
   ],
   "source": [
    "my_list1=list(input('enter the list'))\n",
    "print(my_list1)\n",
    "print(type(my_list1))   "
   ]
  },
  {
   "cell_type": "markdown",
   "id": "0a5863ff",
   "metadata": {},
   "source": [
    "### 3. Index()"
   ]
  },
  {
   "cell_type": "code",
   "execution_count": 79,
   "id": "60ba6ea9",
   "metadata": {},
   "outputs": [
    {
     "name": "stdout",
     "output_type": "stream",
     "text": [
      "['ab', 'cd']\n"
     ]
    },
    {
     "data": {
      "text/plain": [
       "1"
      ]
     },
     "execution_count": 79,
     "metadata": {},
     "output_type": "execute_result"
    }
   ],
   "source": [
    "vb=['ab','cd']\n",
    "print(vb)\n",
    "vb.index('cd')"
   ]
  },
  {
   "cell_type": "code",
   "execution_count": 80,
   "id": "4ede9c03",
   "metadata": {},
   "outputs": [],
   "source": [
    "ab=[1,2,4]"
   ]
  },
  {
   "cell_type": "code",
   "execution_count": 81,
   "id": "3285c95f",
   "metadata": {},
   "outputs": [
    {
     "data": {
      "text/plain": [
       "1"
      ]
     },
     "execution_count": 81,
     "metadata": {},
     "output_type": "execute_result"
    }
   ],
   "source": [
    "ab.index(2)"
   ]
  },
  {
   "cell_type": "code",
   "execution_count": 82,
   "id": "c9f8f789",
   "metadata": {},
   "outputs": [
    {
     "ename": "ValueError",
     "evalue": "5 is not in list",
     "output_type": "error",
     "traceback": [
      "\u001b[1;31m---------------------------------------------------------------------------\u001b[0m",
      "\u001b[1;31mValueError\u001b[0m                                Traceback (most recent call last)",
      "Cell \u001b[1;32mIn[82], line 1\u001b[0m\n\u001b[1;32m----> 1\u001b[0m \u001b[43mab\u001b[49m\u001b[38;5;241;43m.\u001b[39;49m\u001b[43mindex\u001b[49m\u001b[43m(\u001b[49m\u001b[38;5;241;43m5\u001b[39;49m\u001b[43m)\u001b[49m\n",
      "\u001b[1;31mValueError\u001b[0m: 5 is not in list"
     ]
    }
   ],
   "source": [
    "ab.index(5)"
   ]
  },
  {
   "cell_type": "markdown",
   "id": "4421048d",
   "metadata": {},
   "source": [
    "### 4. Append(to add object in list)\n",
    "Append object to the end of the list."
   ]
  },
  {
   "cell_type": "code",
   "execution_count": 84,
   "id": "34d9a825",
   "metadata": {},
   "outputs": [],
   "source": [
    "city2=['Pune',[1,2,3],'Mumbai','Nashik',\"Sangali\"]"
   ]
  },
  {
   "cell_type": "code",
   "execution_count": 86,
   "id": "f8f4e19f",
   "metadata": {},
   "outputs": [],
   "source": [
    "city2.append('Nagpur')"
   ]
  },
  {
   "cell_type": "code",
   "execution_count": 87,
   "id": "93acb939",
   "metadata": {},
   "outputs": [
    {
     "data": {
      "text/plain": [
       "['Pune', [1, 2, 3], 'Mumbai', 'Nashik', 'Sangali', 'Nagpur']"
      ]
     },
     "execution_count": 87,
     "metadata": {},
     "output_type": "execute_result"
    }
   ],
   "source": [
    "city2"
   ]
  },
  {
   "cell_type": "code",
   "execution_count": 88,
   "id": "60467e40",
   "metadata": {},
   "outputs": [],
   "source": [
    "city2.append(6)"
   ]
  },
  {
   "cell_type": "code",
   "execution_count": 89,
   "id": "6ee5c0c3",
   "metadata": {
    "scrolled": true
   },
   "outputs": [
    {
     "data": {
      "text/plain": [
       "['Pune', [1, 2, 3], 'Mumbai', 'Nashik', 'Sangali', 'Nagpur', 6]"
      ]
     },
     "execution_count": 89,
     "metadata": {},
     "output_type": "execute_result"
    }
   ],
   "source": [
    "city2"
   ]
  },
  {
   "cell_type": "code",
   "execution_count": 93,
   "id": "b6a0a923",
   "metadata": {},
   "outputs": [],
   "source": [
    "city2.append('Pune')"
   ]
  },
  {
   "cell_type": "code",
   "execution_count": 94,
   "id": "f404ce86",
   "metadata": {},
   "outputs": [
    {
     "data": {
      "text/plain": [
       "['Pune', [1, 2, 3], 'Mumbai', 'Nashik', 'Sangali', 'Nagpur', 6, 'Pune']"
      ]
     },
     "execution_count": 94,
     "metadata": {},
     "output_type": "execute_result"
    }
   ],
   "source": [
    "city2"
   ]
  },
  {
   "cell_type": "code",
   "execution_count": 91,
   "id": "6482b63b",
   "metadata": {},
   "outputs": [
    {
     "name": "stdout",
     "output_type": "stream",
     "text": [
      "[1, 2, 3, 4]\n"
     ]
    }
   ],
   "source": [
    "l2=[]\n",
    "for i in range(1,5):\n",
    "    l2.append(i)\n",
    "print(l2)"
   ]
  },
  {
   "cell_type": "code",
   "execution_count": 90,
   "id": "0afc31d8",
   "metadata": {},
   "outputs": [
    {
     "name": "stdout",
     "output_type": "stream",
     "text": [
      "[3, 6, 9, 12, 15, 18, 21, 24]\n"
     ]
    }
   ],
   "source": [
    "l1=[]\n",
    "for i in range(1,25):\n",
    "    if i%3==0:\n",
    "        l1.append(i)\n",
    "print(l1)"
   ]
  },
  {
   "cell_type": "code",
   "execution_count": 92,
   "id": "d2a1571d",
   "metadata": {},
   "outputs": [
    {
     "name": "stdout",
     "output_type": "stream",
     "text": [
      "[9]\n"
     ]
    }
   ],
   "source": [
    "l1=[]\n",
    "for i in range(1,5):\n",
    "    if i%3==0:\n",
    "        l1.append(i**2)\n",
    "print(l1)"
   ]
  },
  {
   "cell_type": "markdown",
   "id": "4daa038f",
   "metadata": {},
   "source": [
    "### 5. extend()"
   ]
  },
  {
   "cell_type": "markdown",
   "id": "44d0f3ff",
   "metadata": {},
   "source": [
    "The extend() method adds all the elements of an iterable (list, tuple, string etc.) to the end of the list."
   ]
  },
  {
   "cell_type": "markdown",
   "id": "fee932cf",
   "metadata": {},
   "source": [
    "The extend() method adds the specified list elements (or any iterable) to the end of the current list."
   ]
  },
  {
   "cell_type": "code",
   "execution_count": 5,
   "id": "e2618b5d",
   "metadata": {},
   "outputs": [
    {
     "name": "stdout",
     "output_type": "stream",
     "text": [
      "['apple', 'banana', 'cherry', 'Ford', 'BMW', 'Volvo']\n"
     ]
    }
   ],
   "source": [
    "fruits = ['apple', 'banana', 'cherry']\n",
    "\n",
    "cars = ['Ford', 'BMW', 'Volvo']\n",
    "\n",
    "fruits.extend(cars)\n",
    "\n",
    "print(fruits)\n"
   ]
  },
  {
   "cell_type": "code",
   "execution_count": 1,
   "id": "2f90d8ae",
   "metadata": {},
   "outputs": [
    {
     "name": "stdout",
     "output_type": "stream",
     "text": [
      "[1, 2, 3, 'a', 'b', 'c']\n"
     ]
    }
   ],
   "source": [
    "x=[1,2,3]\n",
    "y=['a','b','c']\n",
    "\n",
    "x.extend(y)\n",
    "print(x)"
   ]
  },
  {
   "cell_type": "code",
   "execution_count": null,
   "id": "c427219a",
   "metadata": {},
   "outputs": [],
   "source": [
    "Differance between apend and extend\n",
    "\n",
    "# Appending and Extending lists in Python\n",
    "\n",
    "# We can add one item to a list using the append() method or add several items using the extend() method"
   ]
  },
  {
   "cell_type": "code",
   "execution_count": 2,
   "id": "d2ccee81",
   "metadata": {},
   "outputs": [
    {
     "name": "stdout",
     "output_type": "stream",
     "text": [
      "[1, 3, 5, [9, 11, 13]]\n"
     ]
    }
   ],
   "source": [
    "odd = [1, 3, 5]\n",
    "odd.append([9, 11, 13])\n",
    "print(odd)"
   ]
  },
  {
   "cell_type": "code",
   "execution_count": 3,
   "id": "24165329",
   "metadata": {},
   "outputs": [
    {
     "name": "stdout",
     "output_type": "stream",
     "text": [
      "[1, 3, 5, 9, 11, 13]\n"
     ]
    }
   ],
   "source": [
    "odd = [1, 3, 5]\n",
    "odd.extend([9, 11, 13])\n",
    "print(odd)"
   ]
  },
  {
   "cell_type": "code",
   "execution_count": 4,
   "id": "d4abaef7",
   "metadata": {},
   "outputs": [
    {
     "ename": "TypeError",
     "evalue": "list.extend() takes exactly one argument (2 given)",
     "output_type": "error",
     "traceback": [
      "\u001b[1;31m---------------------------------------------------------------------------\u001b[0m",
      "\u001b[1;31mTypeError\u001b[0m                                 Traceback (most recent call last)",
      "Cell \u001b[1;32mIn[4], line 2\u001b[0m\n\u001b[0;32m      1\u001b[0m odd \u001b[38;5;241m=\u001b[39m [\u001b[38;5;241m1\u001b[39m, \u001b[38;5;241m3\u001b[39m, \u001b[38;5;241m5\u001b[39m]\n\u001b[1;32m----> 2\u001b[0m \u001b[43modd\u001b[49m\u001b[38;5;241;43m.\u001b[39;49m\u001b[43mextend\u001b[49m\u001b[43m(\u001b[49m\u001b[43m[\u001b[49m\u001b[38;5;241;43m9\u001b[39;49m\u001b[43m,\u001b[49m\u001b[43m \u001b[49m\u001b[38;5;241;43m11\u001b[39;49m\u001b[43m,\u001b[49m\u001b[43m \u001b[49m\u001b[38;5;241;43m13\u001b[39;49m\u001b[43m]\u001b[49m\u001b[43m,\u001b[49m\u001b[43m[\u001b[49m\u001b[38;5;241;43m15\u001b[39;49m\u001b[43m,\u001b[49m\u001b[38;5;241;43m17\u001b[39;49m\u001b[43m]\u001b[49m\u001b[43m)\u001b[49m\n\u001b[0;32m      3\u001b[0m \u001b[38;5;28mprint\u001b[39m(odd)\n",
      "\u001b[1;31mTypeError\u001b[0m: list.extend() takes exactly one argument (2 given)"
     ]
    }
   ],
   "source": [
    "odd = [1, 3, 5]\n",
    "odd.extend([9, 11, 13],[15,17])  # in  extend method we provide only one argument\n",
    "print(odd)"
   ]
  },
  {
   "cell_type": "code",
   "execution_count": 6,
   "id": "c28333c8",
   "metadata": {},
   "outputs": [
    {
     "name": "stdout",
     "output_type": "stream",
     "text": [
      "[1, 3, 5, 9, 7, 5]\n"
     ]
    }
   ],
   "source": [
    "# We can also use + operator to combine two lists. This is also called concatenation.\n",
    "\n",
    "odd = [1, 3, 5]\n",
    "\n",
    "print(odd + [9, 7, 5])\n",
    "\n"
   ]
  },
  {
   "cell_type": "code",
   "execution_count": 7,
   "id": "706e271b",
   "metadata": {},
   "outputs": [
    {
     "name": "stdout",
     "output_type": "stream",
     "text": [
      "['re', 're', 're']\n"
     ]
    }
   ],
   "source": [
    "print([\"re\"] * 3)"
   ]
  },
  {
   "cell_type": "code",
   "execution_count": 5,
   "id": "1d455289",
   "metadata": {},
   "outputs": [
    {
     "name": "stdout",
     "output_type": "stream",
     "text": [
      "[1, 2, 3, 2, 4, 5]\n"
     ]
    }
   ],
   "source": [
    "x=[1,2,3]\n",
    "y=[2,4,5]\n",
    "\n",
    "z=x+y\n",
    "print(z)"
   ]
  },
  {
   "cell_type": "markdown",
   "id": "8502d05f",
   "metadata": {},
   "source": [
    "# 6.Insert()"
   ]
  },
  {
   "cell_type": "markdown",
   "id": "ac8badfc",
   "metadata": {},
   "source": [
    "### (add an item/obj at specific index)"
   ]
  },
  {
   "cell_type": "code",
   "execution_count": 9,
   "id": "1ce11c78",
   "metadata": {
    "scrolled": true
   },
   "outputs": [
    {
     "name": "stdout",
     "output_type": "stream",
     "text": [
      "[1, 3, 9]\n"
     ]
    }
   ],
   "source": [
    "odd = [1, 9]\n",
    "odd.insert(1,3)  # index,object\n",
    "print(odd)"
   ]
  },
  {
   "cell_type": "code",
   "execution_count": 8,
   "id": "cd914b01",
   "metadata": {},
   "outputs": [
    {
     "name": "stdout",
     "output_type": "stream",
     "text": [
      "[1, 'python', 'Data Scientist', 'DA']\n"
     ]
    }
   ],
   "source": [
    "list1=[1,'python','DA']\n",
    "list1.insert(2,'Data Scientist')\n",
    "print(list1)"
   ]
  },
  {
   "cell_type": "code",
   "execution_count": 14,
   "id": "cc184373",
   "metadata": {},
   "outputs": [
    {
     "name": "stdout",
     "output_type": "stream",
     "text": [
      "['Maharashta', 'Gujrat', 'Kerala', 'Dehli']\n"
     ]
    }
   ],
   "source": [
    "states=['Maharashta','Gujrat','Dehli']\n",
    "states.insert(2,'Kerala')\n",
    "print(states)"
   ]
  },
  {
   "cell_type": "code",
   "execution_count": 12,
   "id": "ad461420",
   "metadata": {},
   "outputs": [
    {
     "name": "stdout",
     "output_type": "stream",
     "text": [
      "original list: [1, 9]\n",
      "Inserted list: [1, [1, 2, 3], 9]\n"
     ]
    }
   ],
   "source": [
    "odd = [1, 9]\n",
    "print('original list:',odd)\n",
    "odd.insert(1,[1,2,3])\n",
    "print('Inserted list:',odd)\n"
   ]
  },
  {
   "cell_type": "code",
   "execution_count": null,
   "id": "9dc25ccf",
   "metadata": {},
   "outputs": [],
   "source": []
  },
  {
   "cell_type": "markdown",
   "id": "89adda59",
   "metadata": {},
   "source": [
    "# 8. remove(it will remove first occurrence and Actual Value)"
   ]
  },
  {
   "cell_type": "code",
   "execution_count": 20,
   "id": "a88a00e0",
   "metadata": {},
   "outputs": [
    {
     "name": "stdout",
     "output_type": "stream",
     "text": [
      "[2, 2, 3, 3, 3, 4]\n"
     ]
    }
   ],
   "source": [
    "list1=[1,2, 2, 3, 3, 3, 4]\n",
    "list1.remove(1)\n",
    "print(list1)"
   ]
  },
  {
   "cell_type": "code",
   "execution_count": 15,
   "id": "3a59c1bb",
   "metadata": {},
   "outputs": [
    {
     "name": "stdout",
     "output_type": "stream",
     "text": [
      "original list: ['c', 'a', 'b']\n",
      "loit after removing actual value: ['a', 'b']\n"
     ]
    }
   ],
   "source": [
    "list2=['c','a','b']\n",
    "print('original list:',list2)\n",
    "list2.remove('c')\n",
    "print('list after removing actual value:',list2)"
   ]
  },
  {
   "cell_type": "code",
   "execution_count": 16,
   "id": "c12beb11",
   "metadata": {},
   "outputs": [
    {
     "name": "stdout",
     "output_type": "stream",
     "text": [
      "['Python', 'is', 'easy', 'to']\n"
     ]
    }
   ],
   "source": [
    "new_list=['Python','is','easy','to','code']\n",
    "new_list.remove('code')\n",
    "print(new_list)"
   ]
  },
  {
   "cell_type": "code",
   "execution_count": 17,
   "id": "946369b9",
   "metadata": {},
   "outputs": [
    {
     "name": "stdout",
     "output_type": "stream",
     "text": [
      "['a']\n"
     ]
    }
   ],
   "source": [
    "list1=['a','a']\n",
    "list1.remove('a')\n",
    "print(list1)"
   ]
  },
  {
   "cell_type": "markdown",
   "id": "b0cb9cd0",
   "metadata": {},
   "source": [
    "# 9.Delete() "
   ]
  },
  {
   "cell_type": "code",
   "execution_count": 20,
   "id": "84ecfdd9",
   "metadata": {},
   "outputs": [
    {
     "name": "stdout",
     "output_type": "stream",
     "text": [
      "['p', 'r', 'b', 'l', 'e', 'm']\n"
     ]
    }
   ],
   "source": [
    "# Deleting list items\n",
    "my_list = ['p', 'r', 'o', 'b', 'l', 'e', 'm']\n",
    "\n",
    "# delete one item\n",
    "del my_list[2]\n",
    "\n",
    "print(my_list)\n",
    "\n"
   ]
  },
  {
   "cell_type": "code",
   "execution_count": 23,
   "id": "2697d755",
   "metadata": {},
   "outputs": [
    {
     "name": "stdout",
     "output_type": "stream",
     "text": [
      "['p', 'r', 'o', 'b', 'l', 'e']\n"
     ]
    }
   ],
   "source": [
    "my_list = ['p', 'r', 'o', 'b', 'l', 'e', 'm']\n",
    "\n",
    "del my_list[-1]\n",
    "print(my_list)"
   ]
  },
  {
   "cell_type": "markdown",
   "id": "387709ae",
   "metadata": {},
   "source": [
    "# 10. pop()"
   ]
  },
  {
   "cell_type": "markdown",
   "id": "a4454db0",
   "metadata": {},
   "source": [
    "if index is not passed it will delete last element if passed inedx it will reflect the deleted output"
   ]
  },
  {
   "cell_type": "code",
   "execution_count": 24,
   "id": "4147fc19",
   "metadata": {},
   "outputs": [],
   "source": [
    "a=[1,2,25,3,43,-2,4]"
   ]
  },
  {
   "cell_type": "code",
   "execution_count": 25,
   "id": "c775887a",
   "metadata": {},
   "outputs": [
    {
     "data": {
      "text/plain": [
       "4"
      ]
     },
     "execution_count": 25,
     "metadata": {},
     "output_type": "execute_result"
    }
   ],
   "source": [
    "a.pop()"
   ]
  },
  {
   "cell_type": "code",
   "execution_count": 27,
   "id": "b786f4ce",
   "metadata": {},
   "outputs": [
    {
     "name": "stdout",
     "output_type": "stream",
     "text": [
      "[1, 2, 25, 3, 43, -2]\n"
     ]
    }
   ],
   "source": [
    "print(a)"
   ]
  },
  {
   "cell_type": "code",
   "execution_count": 28,
   "id": "4823c54b",
   "metadata": {},
   "outputs": [
    {
     "name": "stdout",
     "output_type": "stream",
     "text": [
      "[1, 25, 3, 43, -2]\n"
     ]
    }
   ],
   "source": [
    "a.pop(1)\n",
    "print(a)"
   ]
  },
  {
   "cell_type": "code",
   "execution_count": 32,
   "id": "a9a4dbf4",
   "metadata": {},
   "outputs": [],
   "source": [
    "# We can use remove() to remove the given item or pop() to remove an item at the given index."
   ]
  },
  {
   "cell_type": "markdown",
   "id": "8137e371",
   "metadata": {},
   "source": [
    "# 11. reverse()"
   ]
  },
  {
   "cell_type": "markdown",
   "id": "013fa689",
   "metadata": {},
   "source": [
    "to reverse the order of elements"
   ]
  },
  {
   "cell_type": "code",
   "execution_count": 29,
   "id": "83783957",
   "metadata": {},
   "outputs": [
    {
     "name": "stdout",
     "output_type": "stream",
     "text": [
      "[4, 3, 3, 3, 2, 2, 1]\n",
      "reverse list: [1, 2, 2, 3, 3, 3, 4]\n"
     ]
    }
   ],
   "source": [
    "list_a=[4, 3, 3, 3, 2, 2, 1]\n",
    "print(list_a)\n",
    "list_a.reverse()\n",
    "print('reverse list:',list_a)"
   ]
  },
  {
   "cell_type": "code",
   "execution_count": null,
   "id": "587de386",
   "metadata": {},
   "outputs": [],
   "source": []
  },
  {
   "cell_type": "markdown",
   "id": "1f361c42",
   "metadata": {},
   "source": [
    "# 12.sort()"
   ]
  },
  {
   "cell_type": "code",
   "execution_count": 1,
   "id": "7da6cc55",
   "metadata": {},
   "outputs": [],
   "source": [
    "# The sort() method sorts the elements of a given list in a specific ascending or descending order."
   ]
  },
  {
   "cell_type": "markdown",
   "id": "d2244216",
   "metadata": {},
   "source": [
    "1.The sort() function is used to perform the sorting operation, like the Sorted Function, but is very different in terms of its uses.\n",
    "2.The sort() function is a list method, i.e., it can only be used to sort a list.\n",
    "3.The sort() function returns nothing, which means it makes changes to the object passed, i.e., the original sequence.\n",
    "4.Syntax of sort() function in Python\n",
    "list_name.sort(key, reverse=False)`\n"
   ]
  },
  {
   "cell_type": "code",
   "execution_count": 31,
   "id": "3220ca93",
   "metadata": {},
   "outputs": [
    {
     "name": "stdout",
     "output_type": "stream",
     "text": [
      "[2, 3, 5, 7, 11]\n"
     ]
    }
   ],
   "source": [
    "prime_numbers = [11, 3, 7, 5, 2]\n",
    "\n",
    "# sort the list\n",
    "prime_numbers.sort()\n",
    "print(prime_numbers)"
   ]
  },
  {
   "cell_type": "code",
   "execution_count": 32,
   "id": "b2fe315e",
   "metadata": {},
   "outputs": [
    {
     "name": "stdout",
     "output_type": "stream",
     "text": [
      "[11, 7, 5, 3, 2]\n"
     ]
    }
   ],
   "source": [
    "prime_numbers = [11, 3, 7, 5, 2]\n",
    "\n",
    "# sort the list\n",
    "prime_numbers.sort(reverse=True)\n",
    "print(prime_numbers)"
   ]
  },
  {
   "cell_type": "code",
   "execution_count": 36,
   "id": "fd4ba55f",
   "metadata": {},
   "outputs": [
    {
     "name": "stdout",
     "output_type": "stream",
     "text": [
      "Sorted list: ['a', 'e', 'i', 'o', 'u']\n"
     ]
    }
   ],
   "source": [
    "vowels = ['e', 'a', 'u', 'o', 'i']\n",
    "#print(vowels)\n",
    "\n",
    "# sort the vowels\n",
    "vowels.sort()\n",
    "\n",
    "# print vowels\n",
    "print('Sorted list:', vowels)"
   ]
  },
  {
   "cell_type": "code",
   "execution_count": 37,
   "id": "f6470f93",
   "metadata": {},
   "outputs": [
    {
     "data": {
      "text/plain": [
       "['u', 'o', 'i', 'e', 'a']"
      ]
     },
     "execution_count": 37,
     "metadata": {},
     "output_type": "execute_result"
    }
   ],
   "source": [
    "vowels.sort(reverse=True)\n",
    "vowels"
   ]
  },
  {
   "cell_type": "code",
   "execution_count": 38,
   "id": "910a2e43",
   "metadata": {},
   "outputs": [
    {
     "data": {
      "text/plain": [
       "[-2, 1, 2, 3, 4, 25, 43]"
      ]
     },
     "execution_count": 38,
     "metadata": {},
     "output_type": "execute_result"
    }
   ],
   "source": [
    "a=[1, 2, 25, 3, 43, -2, 4]\n",
    "a.sort()\n",
    "a"
   ]
  },
  {
   "cell_type": "code",
   "execution_count": 39,
   "id": "e3334764",
   "metadata": {},
   "outputs": [
    {
     "ename": "TypeError",
     "evalue": "'<' not supported between instances of 'int' and 'str'",
     "output_type": "error",
     "traceback": [
      "\u001b[1;31m---------------------------------------------------------------------------\u001b[0m",
      "\u001b[1;31mTypeError\u001b[0m                                 Traceback (most recent call last)",
      "Cell \u001b[1;32mIn[39], line 2\u001b[0m\n\u001b[0;32m      1\u001b[0m b\u001b[38;5;241m=\u001b[39m[\u001b[38;5;124m'\u001b[39m\u001b[38;5;124ma\u001b[39m\u001b[38;5;124m'\u001b[39m,\u001b[38;5;241m2\u001b[39m,\u001b[38;5;124m'\u001b[39m\u001b[38;5;124mb\u001b[39m\u001b[38;5;124m'\u001b[39m]\n\u001b[1;32m----> 2\u001b[0m \u001b[43mb\u001b[49m\u001b[38;5;241;43m.\u001b[39;49m\u001b[43msort\u001b[49m\u001b[43m(\u001b[49m\u001b[43m)\u001b[49m\n\u001b[0;32m      3\u001b[0m b\n",
      "\u001b[1;31mTypeError\u001b[0m: '<' not supported between instances of 'int' and 'str'"
     ]
    }
   ],
   "source": [
    "b=['a',2,'b']\n",
    "b.sort()\n",
    "b"
   ]
  },
  {
   "cell_type": "code",
   "execution_count": 40,
   "id": "28000ce3",
   "metadata": {},
   "outputs": [
    {
     "data": {
      "text/plain": [
       "['Abc', 'D', 'a', 'd']"
      ]
     },
     "execution_count": 40,
     "metadata": {},
     "output_type": "execute_result"
    }
   ],
   "source": [
    "d=['d','D','Abc',\"a\"]\n",
    "d.sort()\n",
    "d"
   ]
  },
  {
   "cell_type": "code",
   "execution_count": 10,
   "id": "e3646c7e",
   "metadata": {},
   "outputs": [
    {
     "data": {
      "text/plain": [
       "['u', 'o', 'i', 'e', 'a']"
      ]
     },
     "execution_count": 10,
     "metadata": {},
     "output_type": "execute_result"
    }
   ],
   "source": [
    "vowels = ['e', 'a', 'u', 'o', 'i']\n",
    "vowels.sort(reverse=True)\n",
    "vowels"
   ]
  },
  {
   "cell_type": "code",
   "execution_count": 15,
   "id": "4bb3a93f",
   "metadata": {},
   "outputs": [
    {
     "name": "stdout",
     "output_type": "stream",
     "text": [
      "Original list:  [5, 4, 2, 1, 3]\n",
      "Sorted list in descending order:  [5, 4, 3, 2, 1]\n"
     ]
    }
   ],
   "source": [
    "list_variable = [5, 4, 2, 1, 3]\n",
    "print(\"Original list: \", list_variable)\n",
    "list_variable.sort(reverse=True)\n",
    "print(\"Sorted list in descending order: \", list_variable)"
   ]
  },
  {
   "cell_type": "code",
   "execution_count": null,
   "id": "5e2bcc36",
   "metadata": {},
   "outputs": [],
   "source": []
  },
  {
   "cell_type": "markdown",
   "id": "8688e23d",
   "metadata": {},
   "source": [
    "# 13.sorted()"
   ]
  },
  {
   "cell_type": "markdown",
   "id": "fb87dd79",
   "metadata": {},
   "source": [
    "1.The sorted function in Python is one of the most versatile functions.\n",
    "2.It can be used to sort a list, set, and dictionary as well. It works on sequences, such as lists, tuples, or strings, as well as collections, such as a dictionary, set, or frozenset.\n",
    "3.It by default sorts in ascending order but can also sort in descending using the reverse parameter, i.e., if the reverse parameter is set to true, it sorts the dictionary in descending order.\n",
    "4.The specialty of the sorted function is that it does not affect the original sequence of the object, i.e., it creates a sorted copy of the object and returns it."
   ]
  },
  {
   "cell_type": "markdown",
   "id": "c350a294",
   "metadata": {},
   "source": [
    "sorted(iterable, key, reverse = True)`\n"
   ]
  },
  {
   "cell_type": "code",
   "execution_count": 12,
   "id": "917c8cf5",
   "metadata": {},
   "outputs": [
    {
     "data": {
      "text/plain": [
       "['u', 'o', 'i', 'e', 'a']"
      ]
     },
     "execution_count": 12,
     "metadata": {},
     "output_type": "execute_result"
    }
   ],
   "source": [
    "a=sorted(vowels, reverse=True)\n",
    "a\n"
   ]
  },
  {
   "cell_type": "markdown",
   "id": "8283b50c",
   "metadata": {},
   "source": [
    "Three parameters are passed in the sorted() method in Python, which are as follows:\n",
    "\n",
    "1.Iterable: This is the Python object that needs to be sorted. It can either be a sequence, i.e. a list, tuple, or string, or a collection, i.e., a dictionary, set, or a frozenset\n",
    "2.Key: It is an optional parameter. This works as a basis for comparison while sorting.\n",
    "3.Reverse: It is an optional parameter. It is a boolean variable, i.e., if set to True, it sorts the variable in descending order, else it sorts in ascending order. The default value of reverse is false."
   ]
  },
  {
   "cell_type": "markdown",
   "id": "879b2583",
   "metadata": {},
   "source": [
    "Parameters of sort() function in Python\n",
    "1.Two parameters are passed in the sort () built-in method, which is as follows:\n",
    "\n",
    "2.Key: It is an optional parameter. This works as a basis for comparison while sorting.\n",
    "3.Reverse: It is an optional parameter. It is a boolean variable, i.e., if set to True, it sorts the variable in descending order, else it sorts in ascending order. The default value of reverse is false."
   ]
  },
  {
   "cell_type": "markdown",
   "id": "c1db47ac",
   "metadata": {},
   "source": [
    "### Note: The simplest difference between sort() and sorted() is: sort() changes the list directly and doesn't return any value, while sorted() doesn't change the list and returns the sorted list."
   ]
  },
  {
   "cell_type": "code",
   "execution_count": null,
   "id": "d75dcb79",
   "metadata": {},
   "outputs": [],
   "source": []
  },
  {
   "cell_type": "markdown",
   "id": "b2923bb7",
   "metadata": {},
   "source": [
    "# 14.max()"
   ]
  },
  {
   "cell_type": "code",
   "execution_count": 18,
   "id": "31fa5927",
   "metadata": {},
   "outputs": [
    {
     "name": "stdout",
     "output_type": "stream",
     "text": [
      "[10, 20, 11, 58, 9, 45, 78]\n"
     ]
    },
    {
     "data": {
      "text/plain": [
       "78"
      ]
     },
     "execution_count": 18,
     "metadata": {},
     "output_type": "execute_result"
    }
   ],
   "source": [
    "a=[10,20,11,58,9,45,78]\n",
    "print(a)\n",
    "max(a)"
   ]
  },
  {
   "cell_type": "markdown",
   "id": "df61721b",
   "metadata": {},
   "source": [
    "# 15. min() "
   ]
  },
  {
   "cell_type": "code",
   "execution_count": 19,
   "id": "07ca016c",
   "metadata": {},
   "outputs": [
    {
     "name": "stdout",
     "output_type": "stream",
     "text": [
      "[10, 20, 11, 58, 9, 45, 78]\n"
     ]
    },
    {
     "data": {
      "text/plain": [
       "9"
      ]
     },
     "execution_count": 19,
     "metadata": {},
     "output_type": "execute_result"
    }
   ],
   "source": [
    "a=[10,20,11,58,9,45,78]\n",
    "print(a)\n",
    "min(a)"
   ]
  },
  {
   "cell_type": "markdown",
   "id": "6f0f01a0",
   "metadata": {},
   "source": [
    "# 16.convert tuple to list & tuple to list"
   ]
  },
  {
   "cell_type": "code",
   "execution_count": 21,
   "id": "d1aee648",
   "metadata": {},
   "outputs": [
    {
     "name": "stdout",
     "output_type": "stream",
     "text": [
      "(1, 2, 3)\n",
      "<class 'tuple'>\n"
     ]
    }
   ],
   "source": [
    "a=(1,2,3)\n",
    "print(a)\n",
    "print(type(a))\n"
   ]
  },
  {
   "cell_type": "code",
   "execution_count": 22,
   "id": "3cc433c7",
   "metadata": {},
   "outputs": [
    {
     "name": "stdout",
     "output_type": "stream",
     "text": [
      "[1, 2, 3]\n",
      "<class 'list'>\n"
     ]
    }
   ],
   "source": [
    "b=list(a)\n",
    "print(b)\n",
    "print(type(b))"
   ]
  },
  {
   "cell_type": "markdown",
   "id": "6c6af869",
   "metadata": {},
   "source": [
    "# 17 split() break a string into single object in a list"
   ]
  },
  {
   "cell_type": "code",
   "execution_count": 27,
   "id": "24af5219",
   "metadata": {},
   "outputs": [
    {
     "name": "stdout",
     "output_type": "stream",
     "text": [
      "['Python', 'is', 'easy', 'to', 'code']\n"
     ]
    }
   ],
   "source": [
    "string1='Python is easy to code'\n",
    "s1=string1.split()\n",
    "print(s1)"
   ]
  },
  {
   "cell_type": "code",
   "execution_count": 28,
   "id": "9daa4f21",
   "metadata": {},
   "outputs": [
    {
     "name": "stdout",
     "output_type": "stream",
     "text": [
      "['Python ', ' easy to code']\n"
     ]
    }
   ],
   "source": [
    "string1='Python is easy to code'\n",
    "s1=string1.split('is')\n",
    "print(s1)"
   ]
  },
  {
   "cell_type": "code",
   "execution_count": null,
   "id": "8b182de9",
   "metadata": {},
   "outputs": [],
   "source": []
  },
  {
   "cell_type": "markdown",
   "id": "5bc5514f",
   "metadata": {},
   "source": [
    "# 18.Join"
   ]
  },
  {
   "cell_type": "code",
   "execution_count": 31,
   "id": "48133e88",
   "metadata": {},
   "outputs": [
    {
     "data": {
      "text/plain": [
       "'p-y-t-h-o-n'"
      ]
     },
     "execution_count": 31,
     "metadata": {},
     "output_type": "execute_result"
    }
   ],
   "source": [
    "s='python'\n",
    "l1=list(s)\n",
    "'-'.join(s)\n"
   ]
  },
  {
   "cell_type": "markdown",
   "id": "58124f82",
   "metadata": {},
   "source": [
    "#19.remove duplicates from list"
   ]
  },
  {
   "cell_type": "code",
   "execution_count": 32,
   "id": "e68e2274",
   "metadata": {},
   "outputs": [
    {
     "name": "stdout",
     "output_type": "stream",
     "text": [
      "[1, 2, 3, 1, 2, 35, 4, 1, 24, 5, 6, 2, 3]\n"
     ]
    },
    {
     "data": {
      "text/plain": [
       "[1, 2, 3, 4, 35, 5, 6, 24]"
      ]
     },
     "execution_count": 32,
     "metadata": {},
     "output_type": "execute_result"
    }
   ],
   "source": [
    "l1=[1,2,3,1,2,35,4,1,24,5,6,2,3]\n",
    "print(l1)\n",
    "list(set(l1))"
   ]
  },
  {
   "cell_type": "code",
   "execution_count": null,
   "id": "592fd2b2",
   "metadata": {},
   "outputs": [],
   "source": []
  },
  {
   "cell_type": "markdown",
   "id": "19448d1f",
   "metadata": {},
   "source": [
    "# 20.# Enumerate- whenever we want ouputs in front of specific index"
   ]
  },
  {
   "cell_type": "code",
   "execution_count": 42,
   "id": "2c332b5d",
   "metadata": {},
   "outputs": [],
   "source": [
    "s=[1,2,3,4,5]"
   ]
  },
  {
   "cell_type": "code",
   "execution_count": 43,
   "id": "23c4be17",
   "metadata": {},
   "outputs": [
    {
     "name": "stdout",
     "output_type": "stream",
     "text": [
      "1\n"
     ]
    }
   ],
   "source": [
    "for index,val in enumerate(s):\n",
    "    if val==2:\n",
    "        print(index)"
   ]
  },
  {
   "cell_type": "code",
   "execution_count": 35,
   "id": "ac7141d0",
   "metadata": {},
   "outputs": [
    {
     "name": "stdout",
     "output_type": "stream",
     "text": [
      "0 1\n",
      "1 2\n",
      "2 3\n",
      "3 4\n",
      "4 5\n"
     ]
    }
   ],
   "source": [
    "for index,val in enumerate(s):\n",
    "    print(index,val)"
   ]
  },
  {
   "cell_type": "code",
   "execution_count": null,
   "id": "cb116227",
   "metadata": {},
   "outputs": [],
   "source": []
  }
 ],
 "metadata": {
  "kernelspec": {
   "display_name": "Python 3 (ipykernel)",
   "language": "python",
   "name": "python3"
  },
  "language_info": {
   "codemirror_mode": {
    "name": "ipython",
    "version": 3
   },
   "file_extension": ".py",
   "mimetype": "text/x-python",
   "name": "python",
   "nbconvert_exporter": "python",
   "pygments_lexer": "ipython3",
   "version": "3.10.9"
  }
 },
 "nbformat": 4,
 "nbformat_minor": 5
}
